{
 "cells": [
  {
   "cell_type": "markdown",
   "metadata": {},
   "source": [
    "## Practica 1 - Computer Vision"
   ]
  },
  {
   "cell_type": "code",
   "execution_count": null,
   "metadata": {},
   "outputs": [],
   "source": [
    "import os\n",
    "import gdown\n",
    "\n",
    "# Crear el directorio de datos si no existe\n",
    "data_dir = \"data\"\n",
    "if not os.path.exists(data_dir):\n",
    "    os.makedirs(data_dir)\n",
    "\n",
    "# URL de Google Drive en formato correcto para gdown\n",
    "url = \"https://drive.google.com/uc?id=1iGBv-VT5mm1RiouD-U2qWcU3BYqp2OwE\"\n",
    "zip_filename = \"practica_1_dataset.zip\"\n",
    "zip_path = os.path.join(data_dir, zip_filename)\n",
    "\n",
    "# Descargar el archivo\n",
    "gdown.download(url, zip_path, quiet=False)"
   ]
  },
  {
   "cell_type": "code",
   "execution_count": 199,
   "metadata": {},
   "outputs": [],
   "source": [
    "import os\n",
    "from zipfile import ZipFile\n",
    "from concurrent.futures import ThreadPoolExecutor\n",
    "\n",
    "data_dir = \"data\"\n",
    "zip_filename = \"practica_1_dataset.zip\"\n",
    "zip_path = os.path.join(data_dir, zip_filename)\n",
    "if not os.path.exists(zip_path.split(\".\")[0]):\n",
    "    with ZipFile(zip_path, 'r') as zf:\n",
    "        with ThreadPoolExecutor() as exe:\n",
    "            for file in zf.namelist():\n",
    "                if not file.startswith(\"__MACOSX\"):\n",
    "                    exe.submit(zf.extract, file, path=data_dir)"
   ]
  },
  {
   "cell_type": "code",
   "execution_count": 200,
   "metadata": {},
   "outputs": [
    {
     "name": "stdout",
     "output_type": "stream",
     "text": [
      "Total image files: 63\n",
      "Filenames shape: TensorSpec(shape=(), dtype=tf.string, name=None)\n"
     ]
    },
    {
     "data": {
      "text/plain": [
       "b'data/test/IMG_2289_jpeg_jpg.rf.fe2a7a149e7b11f2313f5a7b30386e85.jpg'"
      ]
     },
     "execution_count": 200,
     "metadata": {},
     "output_type": "execute_result"
    }
   ],
   "source": [
    "import tensorflow as tf\n",
    "\n",
    "ds_files = tf.data.Dataset.list_files(\"data/test/\" + '*.jpg', shuffle=False)\n",
    "print(\"Total image files:\", len(ds_files))\n",
    "print(\"Filenames shape:\", ds_files.element_spec)\n",
    "\n",
    "example = next(ds_files.take(1).as_numpy_iterator())\n",
    "example"
   ]
  },
  {
   "cell_type": "code",
   "execution_count": 201,
   "metadata": {},
   "outputs": [
    {
     "name": "stdout",
     "output_type": "stream",
     "text": [
      "count_class.shape = (83,)\n"
     ]
    },
    {
     "data": {
      "text/plain": [
       "filename                                                   class  \n",
       "IMG_2289_jpeg_jpg.rf.fe2a7a149e7b11f2313f5a7b30386e85.jpg  puffin      1\n",
       "IMG_2301_jpeg_jpg.rf.2c19ae5efbd1f8611b5578125f001695.jpg  penguin    23\n",
       "IMG_2319_jpeg_jpg.rf.6e20bf97d17b74a8948aa48776c40454.jpg  penguin     8\n",
       "IMG_2347_jpeg_jpg.rf.7c71ac4b9301eb358cd4a832844dedcb.jpg  penguin     2\n",
       "IMG_2354_jpeg_jpg.rf.396e872c7fb0a95e911806986995ee7a.jpg  penguin     5\n",
       "dtype: int64"
      ]
     },
     "execution_count": 201,
     "metadata": {},
     "output_type": "execute_result"
    }
   ],
   "source": [
    "import pandas as pd\n",
    "df = pd.read_csv(\"data/test/annotations.csv\")\n",
    "count_class = df.groupby([\"filename\", \"class\"]).size()\n",
    "print(f\"{count_class.shape = }\")\n",
    "count_class.head()"
   ]
  },
  {
   "cell_type": "code",
   "execution_count": 202,
   "metadata": {},
   "outputs": [
    {
     "name": "stdout",
     "output_type": "stream",
     "text": [
      "sum_area.shape = (83,)\n"
     ]
    },
    {
     "data": {
      "text/plain": [
       "filename                                                   class  \n",
       "IMG_2289_jpeg_jpg.rf.fe2a7a149e7b11f2313f5a7b30386e85.jpg  puffin      94864\n",
       "IMG_2301_jpeg_jpg.rf.2c19ae5efbd1f8611b5578125f001695.jpg  penguin     32549\n",
       "IMG_2319_jpeg_jpg.rf.6e20bf97d17b74a8948aa48776c40454.jpg  penguin     29583\n",
       "IMG_2347_jpeg_jpg.rf.7c71ac4b9301eb358cd4a832844dedcb.jpg  penguin    250311\n",
       "IMG_2354_jpeg_jpg.rf.396e872c7fb0a95e911806986995ee7a.jpg  penguin     14881\n",
       "Name: area, dtype: int64"
      ]
     },
     "execution_count": 202,
     "metadata": {},
     "output_type": "execute_result"
    }
   ],
   "source": [
    "df[\"area\"] = (df[\"xmax\"] - df[\"xmin\"]) * (df[\"ymax\"] - df[\"ymin\"])\n",
    "sum_area = df.groupby([\"filename\", \"class\"])[\"area\"].sum()\n",
    "print(f\"{sum_area.shape = }\")\n",
    "sum_area.head()"
   ]
  },
  {
   "cell_type": "code",
   "execution_count": 203,
   "metadata": {},
   "outputs": [
    {
     "name": "stdout",
     "output_type": "stream",
     "text": [
      "score.shape = (83, 3)\n"
     ]
    },
    {
     "data": {
      "text/html": [
       "<div>\n",
       "<style scoped>\n",
       "    .dataframe tbody tr th:only-of-type {\n",
       "        vertical-align: middle;\n",
       "    }\n",
       "\n",
       "    .dataframe tbody tr th {\n",
       "        vertical-align: top;\n",
       "    }\n",
       "\n",
       "    .dataframe thead th {\n",
       "        text-align: right;\n",
       "    }\n",
       "</style>\n",
       "<table border=\"1\" class=\"dataframe\">\n",
       "  <thead>\n",
       "    <tr style=\"text-align: right;\">\n",
       "      <th></th>\n",
       "      <th>filename</th>\n",
       "      <th>class</th>\n",
       "      <th>score</th>\n",
       "    </tr>\n",
       "  </thead>\n",
       "  <tbody>\n",
       "    <tr>\n",
       "      <th>0</th>\n",
       "      <td>IMG_2289_jpeg_jpg.rf.fe2a7a149e7b11f2313f5a7b3...</td>\n",
       "      <td>puffin</td>\n",
       "      <td>94864</td>\n",
       "    </tr>\n",
       "    <tr>\n",
       "      <th>1</th>\n",
       "      <td>IMG_2301_jpeg_jpg.rf.2c19ae5efbd1f8611b5578125...</td>\n",
       "      <td>penguin</td>\n",
       "      <td>748627</td>\n",
       "    </tr>\n",
       "    <tr>\n",
       "      <th>2</th>\n",
       "      <td>IMG_2319_jpeg_jpg.rf.6e20bf97d17b74a8948aa4877...</td>\n",
       "      <td>penguin</td>\n",
       "      <td>236664</td>\n",
       "    </tr>\n",
       "    <tr>\n",
       "      <th>3</th>\n",
       "      <td>IMG_2347_jpeg_jpg.rf.7c71ac4b9301eb358cd4a8328...</td>\n",
       "      <td>penguin</td>\n",
       "      <td>500622</td>\n",
       "    </tr>\n",
       "    <tr>\n",
       "      <th>4</th>\n",
       "      <td>IMG_2354_jpeg_jpg.rf.396e872c7fb0a95e911806986...</td>\n",
       "      <td>penguin</td>\n",
       "      <td>74405</td>\n",
       "    </tr>\n",
       "  </tbody>\n",
       "</table>\n",
       "</div>"
      ],
      "text/plain": [
       "                                            filename    class   score\n",
       "0  IMG_2289_jpeg_jpg.rf.fe2a7a149e7b11f2313f5a7b3...   puffin   94864\n",
       "1  IMG_2301_jpeg_jpg.rf.2c19ae5efbd1f8611b5578125...  penguin  748627\n",
       "2  IMG_2319_jpeg_jpg.rf.6e20bf97d17b74a8948aa4877...  penguin  236664\n",
       "3  IMG_2347_jpeg_jpg.rf.7c71ac4b9301eb358cd4a8328...  penguin  500622\n",
       "4  IMG_2354_jpeg_jpg.rf.396e872c7fb0a95e911806986...  penguin   74405"
      ]
     },
     "execution_count": 203,
     "metadata": {},
     "output_type": "execute_result"
    }
   ],
   "source": [
    "score = pd.Series(sum_area * count_class, name=\"score\").reset_index()\n",
    "print(f\"{score.shape = }\")\n",
    "score.head()"
   ]
  },
  {
   "cell_type": "code",
   "execution_count": 204,
   "metadata": {},
   "outputs": [
    {
     "name": "stdout",
     "output_type": "stream",
     "text": [
      "df_labels.shape = (63, 1)\n"
     ]
    },
    {
     "data": {
      "text/html": [
       "<div>\n",
       "<style scoped>\n",
       "    .dataframe tbody tr th:only-of-type {\n",
       "        vertical-align: middle;\n",
       "    }\n",
       "\n",
       "    .dataframe tbody tr th {\n",
       "        vertical-align: top;\n",
       "    }\n",
       "\n",
       "    .dataframe thead th {\n",
       "        text-align: right;\n",
       "    }\n",
       "</style>\n",
       "<table border=\"1\" class=\"dataframe\">\n",
       "  <thead>\n",
       "    <tr style=\"text-align: right;\">\n",
       "      <th></th>\n",
       "      <th>class</th>\n",
       "    </tr>\n",
       "    <tr>\n",
       "      <th>filename</th>\n",
       "      <th></th>\n",
       "    </tr>\n",
       "  </thead>\n",
       "  <tbody>\n",
       "    <tr>\n",
       "      <th>IMG_2289_jpeg_jpg.rf.fe2a7a149e7b11f2313f5a7b30386e85.jpg</th>\n",
       "      <td>puffin</td>\n",
       "    </tr>\n",
       "    <tr>\n",
       "      <th>IMG_2301_jpeg_jpg.rf.2c19ae5efbd1f8611b5578125f001695.jpg</th>\n",
       "      <td>penguin</td>\n",
       "    </tr>\n",
       "    <tr>\n",
       "      <th>IMG_2319_jpeg_jpg.rf.6e20bf97d17b74a8948aa48776c40454.jpg</th>\n",
       "      <td>penguin</td>\n",
       "    </tr>\n",
       "    <tr>\n",
       "      <th>IMG_2347_jpeg_jpg.rf.7c71ac4b9301eb358cd4a832844dedcb.jpg</th>\n",
       "      <td>penguin</td>\n",
       "    </tr>\n",
       "    <tr>\n",
       "      <th>IMG_2354_jpeg_jpg.rf.396e872c7fb0a95e911806986995ee7a.jpg</th>\n",
       "      <td>penguin</td>\n",
       "    </tr>\n",
       "  </tbody>\n",
       "</table>\n",
       "</div>"
      ],
      "text/plain": [
       "                                                      class\n",
       "filename                                                   \n",
       "IMG_2289_jpeg_jpg.rf.fe2a7a149e7b11f2313f5a7b30...   puffin\n",
       "IMG_2301_jpeg_jpg.rf.2c19ae5efbd1f8611b5578125f...  penguin\n",
       "IMG_2319_jpeg_jpg.rf.6e20bf97d17b74a8948aa48776...  penguin\n",
       "IMG_2347_jpeg_jpg.rf.7c71ac4b9301eb358cd4a83284...  penguin\n",
       "IMG_2354_jpeg_jpg.rf.396e872c7fb0a95e9118069869...  penguin"
      ]
     },
     "execution_count": 204,
     "metadata": {},
     "output_type": "execute_result"
    }
   ],
   "source": [
    "df_labels = score.groupby(\"filename\").max().drop(\"score\", axis=1)\n",
    "print(f\"{df_labels.shape = }\")\n",
    "df_labels.head()"
   ]
  }
 ],
 "metadata": {
  "kernelspec": {
   "display_name": ".venv",
   "language": "python",
   "name": "python3"
  },
  "language_info": {
   "codemirror_mode": {
    "name": "ipython",
    "version": 3
   },
   "file_extension": ".py",
   "mimetype": "text/x-python",
   "name": "python",
   "nbconvert_exporter": "python",
   "pygments_lexer": "ipython3",
   "version": "3.10.12"
  }
 },
 "nbformat": 4,
 "nbformat_minor": 2
}
