{
 "cells": [
  {
   "cell_type": "markdown",
   "metadata": {},
   "source": [
    "## Practica 1 - Computer Vision"
   ]
  },
  {
   "cell_type": "markdown",
   "metadata": {},
   "source": [
    "# Importación de librerías"
   ]
  },
  {
   "cell_type": "code",
   "execution_count": 1,
   "metadata": {},
   "outputs": [],
   "source": [
    "import tensorflow as tf\n",
    "import numpy as np\n",
    "import pandas as pd\n",
    "import matplotlib.pyplot as plt\n",
    "import seaborn as sns\n",
    "\n",
    "import os"
   ]
  },
  {
   "cell_type": "markdown",
   "metadata": {},
   "source": [
    "# Exploración de archivos"
   ]
  },
  {
   "cell_type": "code",
   "execution_count": 2,
   "metadata": {},
   "outputs": [
    {
     "name": "stdout",
     "output_type": "stream",
     "text": [
      "Train class counts:\n",
      "class\n",
      "fish         1961\n",
      "jellyfish     385\n",
      "penguin       330\n",
      "shark         259\n",
      "puffin        175\n",
      "stingray      136\n",
      "starfish       78\n",
      "Name: count, dtype: int64\n",
      "\n",
      "Valid class counts:\n",
      "class\n",
      "fish         459\n",
      "jellyfish    155\n",
      "penguin      104\n",
      "puffin        74\n",
      "shark         57\n",
      "stingray      33\n",
      "starfish      27\n",
      "Name: count, dtype: int64\n",
      "\n",
      "Test class counts:\n",
      "class\n",
      "fish         249\n",
      "jellyfish    154\n",
      "penguin       82\n",
      "shark         38\n",
      "puffin        35\n",
      "stingray      15\n",
      "starfish      11\n",
      "Name: count, dtype: int64\n",
      "\n",
      "General class counts:\n",
      "class\n",
      "fish         2669\n",
      "jellyfish     694\n",
      "penguin       516\n",
      "shark         354\n",
      "puffin        284\n",
      "stingray      184\n",
      "starfish      116\n",
      "Name: count, dtype: int64\n",
      "\n",
      "Valores únicos en el dataset combinado:\n",
      "['starfish', 'shark', 'fish', 'puffin', 'stingray', 'penguin', 'jellyfish']\n"
     ]
    }
   ],
   "source": [
    "# Rutas a los archivos de anotaciones\n",
    "path_train = os.path.join(os.getcwd(), 'data', 'practica_1_dataset', 'train', 'annotations.csv')\n",
    "path_valid = os.path.join(os.getcwd(), 'data', 'practica_1_dataset', 'valid', 'annotations.csv')\n",
    "path_test = os.path.join(os.getcwd(), 'data', 'practica_1_dataset', 'test', 'annotations.csv')\n",
    "\n",
    "# Cargar los DataFrames\n",
    "df_train = pd.read_csv(path_train)\n",
    "df_valid = pd.read_csv(path_valid)\n",
    "df_test = pd.read_csv(path_test)\n",
    "\n",
    "# Contar instancias por clase en cada DataFrame\n",
    "train_class_counts = df_train['class'].value_counts()\n",
    "valid_class_counts = df_valid['class'].value_counts()\n",
    "test_class_counts = df_test['class'].value_counts()\n",
    "\n",
    "# Combinar los DataFrames para contar las instancias generales por clase\n",
    "df_combined = pd.concat([df_train, df_valid, df_test])\n",
    "general_class_counts = df_combined['class'].value_counts()\n",
    "\n",
    "# Obtener los valores únicos de la columna 'class' del conjunto combinado\n",
    "valores_unicos = df_combined['class'].unique().tolist()\n",
    "\n",
    "# Mostrar los resultados\n",
    "print(\"Train class counts:\")\n",
    "print(train_class_counts)\n",
    "print(\"\\nValid class counts:\")\n",
    "print(valid_class_counts)\n",
    "print(\"\\nTest class counts:\")\n",
    "print(test_class_counts)\n",
    "print(\"\\nGeneral class counts:\")\n",
    "print(general_class_counts)\n",
    "print(\"\\nValores únicos en el dataset combinado:\")\n",
    "print(valores_unicos)"
   ]
  },
  {
   "cell_type": "code",
   "execution_count": 3,
   "metadata": {},
   "outputs": [
    {
     "name": "stderr",
     "output_type": "stream",
     "text": [
      "Procesando train: 100%|██████████| 448/448 [00:21<00:00, 20.59it/s]\n"
     ]
    },
    {
     "name": "stdout",
     "output_type": "stream",
     "text": [
      "Procesamiento completado para train. CSV guardado en data/processed\\train\\new_dataset.csv\n"
     ]
    },
    {
     "name": "stderr",
     "output_type": "stream",
     "text": [
      "Procesando valid: 100%|██████████| 127/127 [00:05<00:00, 23.30it/s]"
     ]
    },
    {
     "name": "stdout",
     "output_type": "stream",
     "text": [
      "Procesamiento completado para valid. CSV guardado en data/processed\\validation\\new_dataset.csv\n",
      "Todos los conjuntos han sido procesados correctamente.\n"
     ]
    },
    {
     "name": "stderr",
     "output_type": "stream",
     "text": [
      "\n"
     ]
    }
   ],
   "source": [
    "import os\n",
    "import numpy as np\n",
    "import pandas as pd\n",
    "from PIL import Image\n",
    "from tqdm import tqdm\n",
    "import shutil\n",
    "\n",
    "# Rutas de los datos originales\n",
    "base_dir = \"data/practica_1_dataset\"\n",
    "train_dir = os.path.join(base_dir, \"train\")\n",
    "valid_dir = os.path.join(base_dir, \"valid\")\n",
    "\n",
    "# Rutas de los datos procesados (donde se guardarán las imágenes originales y sintéticas)\n",
    "processed_base = \"data/processed\"\n",
    "processed_train_dir = os.path.join(processed_base, \"train\")\n",
    "processed_validation_dir = os.path.join(processed_base, \"validation\")\n",
    "\n",
    "# Se crean los directorios de salida si no existen\n",
    "os.makedirs(processed_train_dir, exist_ok=True)\n",
    "os.makedirs(processed_validation_dir, exist_ok=True)\n",
    "\n",
    "# Mapeo de clases a números (para la máscara)\n",
    "class_mapping = {\n",
    "    \"fish\": 1,\n",
    "    \"jellyfish\": 2,\n",
    "    \"penguin\": 3,\n",
    "    \"shark\": 4,\n",
    "    \"puffin\": 5,\n",
    "    \"stingray\": 6,\n",
    "    \"starfish\": 7\n",
    "}\n",
    "\n",
    "def process_folder(input_folder, output_folder, annotations_df):\n",
    "    \"\"\"\n",
    "    Procesa las imágenes de input_folder y guarda en output_folder:\n",
    "      - Una copia de la imagen original.\n",
    "      - Una imagen sintética en la que se \"borran\" (reemplazan) los píxeles de la clase predominante \n",
    "        usando el color medio calculado fuera de dicha región. Esta imagen se guarda con el sufijo \n",
    "        \"_synthetic\" antes de la extensión.\n",
    "    Además, registra en un CSV la información (nombre de imagen, clase predominante y área) de cada imagen.\n",
    "    \"\"\"\n",
    "    dataset_info = []  # Lista para almacenar la información de cada imagen procesada\n",
    "\n",
    "    # Obtener archivos de imagen (considerando las extensiones jpg, jpeg y png)\n",
    "    image_files = [f for f in os.listdir(input_folder) if f.lower().endswith((\".jpg\", \".jpeg\", \".png\"))]\n",
    "\n",
    "    for image_name in tqdm(image_files, desc=f\"Procesando {os.path.basename(input_folder)}\"):\n",
    "        image_path = os.path.join(input_folder, image_name)\n",
    "        try:\n",
    "            image = Image.open(image_path).convert(\"RGB\")\n",
    "        except Exception as e:\n",
    "            print(f\"Error al abrir {image_name}: {e}\")\n",
    "            continue\n",
    "\n",
    "        width, height = image.size\n",
    "\n",
    "        # Crear la máscara con fondo = 0\n",
    "        mask = np.zeros((height, width), dtype=np.uint8)\n",
    "\n",
    "        # Filtrar las anotaciones para la imagen\n",
    "        image_annotations = annotations_df[annotations_df['filename'] == image_name]\n",
    "        for _, row in image_annotations.iterrows():\n",
    "            cls = row['class']\n",
    "            if cls in class_mapping:\n",
    "                class_id = class_mapping[cls]\n",
    "                xmin, ymin, xmax, ymax = int(row['xmin']), int(row['ymin']), int(row['xmax']), int(row['ymax'])\n",
    "                mask[ymin:ymax, xmin:xmax] = class_id\n",
    "\n",
    "        # Determinar la clase predominante (excluyendo el fondo)\n",
    "        uniques, counts = np.unique(mask, return_counts=True)\n",
    "        pixel_count_dict = dict(zip(uniques, counts))\n",
    "        pixel_count_dict.pop(0, None)  # Se elimina el fondo\n",
    "        if pixel_count_dict:\n",
    "            predominant_class_id = max(pixel_count_dict, key=pixel_count_dict.get)\n",
    "            predominant_area = pixel_count_dict[predominant_class_id]\n",
    "            predominant_class_label = [label for label, idx in class_mapping.items() if idx == predominant_class_id][0]\n",
    "        else:\n",
    "            predominant_class_label = None\n",
    "            predominant_area = 0\n",
    "\n",
    "        # Registrar la información en el dataset\n",
    "        dataset_info.append({\n",
    "            \"filename\": image_name,\n",
    "            \"predominant_class\": predominant_class_label,\n",
    "            \"area\": predominant_area\n",
    "        })\n",
    "\n",
    "        # Copiar la imagen original al directorio procesado\n",
    "        dest_original_path = os.path.join(output_folder, image_name)\n",
    "        shutil.copy(image_path, dest_original_path)\n",
    "\n",
    "        # Generar la imagen sintética\n",
    "        image_array = np.array(image)\n",
    "        if predominant_class_label is not None:\n",
    "            mask_predominant = (mask == predominant_class_id)\n",
    "            # Calcular el color medio de los píxeles fuera de la región predominante\n",
    "            if np.any(~mask_predominant):\n",
    "                mean_color = image_array[~mask_predominant].mean(axis=0).astype(np.uint8)\n",
    "            else:\n",
    "                mean_color = np.array([0, 0, 0], dtype=np.uint8)\n",
    "            synthetic_image_array = image_array.copy()\n",
    "            synthetic_image_array[mask_predominant] = mean_color\n",
    "        else:\n",
    "            synthetic_image_array = image_array.copy()\n",
    "\n",
    "        # Se genera el nombre de la imagen sintética con el sufijo \"_synthetic\" antes de la extensión .jpg\n",
    "        file_base, _ = os.path.splitext(image_name)\n",
    "        synthetic_name = f\"{file_base}_synthetic.jpg\"\n",
    "        synthetic_image = Image.fromarray(synthetic_image_array)\n",
    "        synthetic_image.save(os.path.join(output_folder, synthetic_name))\n",
    "    \n",
    "    # Guardar el CSV con la información de las imágenes en el mismo directorio de salida\n",
    "    csv_output_path = os.path.join(output_folder, \"new_dataset.csv\")\n",
    "    pd.DataFrame(dataset_info).to_csv(csv_output_path, index=False)\n",
    "    print(f\"Procesamiento completado para {os.path.basename(input_folder)}. CSV guardado en {csv_output_path}\")\n",
    "\n",
    "# Leer los archivos de anotaciones respectivos de cada carpeta\n",
    "train_annotations_path = os.path.join(train_dir, \"annotations.csv\")\n",
    "valid_annotations_path = os.path.join(valid_dir, \"annotations.csv\")\n",
    "\n",
    "train_annotations = pd.read_csv(train_annotations_path)\n",
    "valid_annotations = pd.read_csv(valid_annotations_path)\n",
    "\n",
    "# Procesar el conjunto de entrenamiento\n",
    "process_folder(train_dir, processed_train_dir, train_annotations)\n",
    "\n",
    "# Procesar el conjunto de validación (se guarda en la carpeta \"validation\")\n",
    "process_folder(valid_dir, processed_validation_dir, valid_annotations)\n",
    "\n",
    "print(\"Todos los conjuntos han sido procesados correctamente.\")"
   ]
  },
  {
   "cell_type": "code",
   "execution_count": null,
   "metadata": {},
   "outputs": [],
   "source": []
  }
 ],
 "metadata": {
  "kernelspec": {
   "display_name": ".venv",
   "language": "python",
   "name": "python3"
  },
  "language_info": {
   "codemirror_mode": {
    "name": "ipython",
    "version": 3
   },
   "file_extension": ".py",
   "mimetype": "text/x-python",
   "name": "python",
   "nbconvert_exporter": "python",
   "pygments_lexer": "ipython3",
   "version": "3.12.8"
  }
 },
 "nbformat": 4,
 "nbformat_minor": 2
}
