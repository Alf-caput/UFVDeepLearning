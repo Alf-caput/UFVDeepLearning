{
 "cells": [
  {
   "cell_type": "markdown",
   "metadata": {},
   "source": [
    "## Practica 1 - Computer Vision"
   ]
  },
  {
   "cell_type": "markdown",
   "metadata": {},
   "source": [
    "# Importación de librerías"
   ]
  },
  {
   "cell_type": "code",
   "execution_count": 1,
   "metadata": {},
   "outputs": [],
   "source": [
    "import tensorflow as tf\n",
    "import numpy as np\n",
    "import pandas as pd\n",
    "import matplotlib.pyplot as plt\n",
    "import seaborn as sns\n",
    "\n",
    "import os"
   ]
  },
  {
   "cell_type": "markdown",
   "metadata": {},
   "source": [
    "# Exploración de archivos"
   ]
  },
  {
   "cell_type": "code",
   "execution_count": 2,
   "metadata": {},
   "outputs": [
    {
     "name": "stdout",
     "output_type": "stream",
     "text": [
      "Train class counts:\n",
      "class\n",
      "fish         1961\n",
      "jellyfish     385\n",
      "penguin       330\n",
      "shark         259\n",
      "puffin        175\n",
      "stingray      136\n",
      "starfish       78\n",
      "Name: count, dtype: int64\n",
      "\n",
      "Valid class counts:\n",
      "class\n",
      "fish         459\n",
      "jellyfish    155\n",
      "penguin      104\n",
      "puffin        74\n",
      "shark         57\n",
      "stingray      33\n",
      "starfish      27\n",
      "Name: count, dtype: int64\n",
      "\n",
      "Test class counts:\n",
      "class\n",
      "fish         249\n",
      "jellyfish    154\n",
      "penguin       82\n",
      "shark         38\n",
      "puffin        35\n",
      "stingray      15\n",
      "starfish      11\n",
      "Name: count, dtype: int64\n",
      "\n",
      "General class counts:\n",
      "class\n",
      "fish         2669\n",
      "jellyfish     694\n",
      "penguin       516\n",
      "shark         354\n",
      "puffin        284\n",
      "stingray      184\n",
      "starfish      116\n",
      "Name: count, dtype: int64\n",
      "\n",
      "Valores únicos en el dataset combinado:\n",
      "['starfish', 'shark', 'fish', 'puffin', 'stingray', 'penguin', 'jellyfish']\n"
     ]
    }
   ],
   "source": [
    "# Rutas a los archivos de anotaciones\n",
    "path_train = os.path.join(os.getcwd(), 'data', 'practica_1_dataset', 'train', 'annotations.csv')\n",
    "path_valid = os.path.join(os.getcwd(), 'data', 'practica_1_dataset', 'valid', 'annotations.csv')\n",
    "path_test = os.path.join(os.getcwd(), 'data', 'practica_1_dataset', 'test', 'annotations.csv')\n",
    "\n",
    "# Cargar los DataFrames\n",
    "df_train = pd.read_csv(path_train)\n",
    "df_valid = pd.read_csv(path_valid)\n",
    "df_test = pd.read_csv(path_test)\n",
    "\n",
    "# Contar instancias por clase en cada DataFrame\n",
    "train_class_counts = df_train['class'].value_counts()\n",
    "valid_class_counts = df_valid['class'].value_counts()\n",
    "test_class_counts = df_test['class'].value_counts()\n",
    "\n",
    "# Combinar los DataFrames para contar las instancias generales por clase\n",
    "df_combined = pd.concat([df_train, df_valid, df_test])\n",
    "general_class_counts = df_combined['class'].value_counts()\n",
    "\n",
    "# Obtener los valores únicos de la columna 'class' del conjunto combinado\n",
    "valores_unicos = df_combined['class'].unique().tolist()\n",
    "\n",
    "# Mostrar los resultados\n",
    "print(\"Train class counts:\")\n",
    "print(train_class_counts)\n",
    "print(\"\\nValid class counts:\")\n",
    "print(valid_class_counts)\n",
    "print(\"\\nTest class counts:\")\n",
    "print(test_class_counts)\n",
    "print(\"\\nGeneral class counts:\")\n",
    "print(general_class_counts)\n",
    "print(\"\\nValores únicos en el dataset combinado:\")\n",
    "print(valores_unicos)"
   ]
  },
  {
   "cell_type": "code",
   "execution_count": 3,
   "metadata": {},
   "outputs": [
    {
     "name": "stderr",
     "output_type": "stream",
     "text": [
      "Procesando train:  64%|██████▍   | 288/448 [00:05<00:02, 63.57it/s]"
     ]
    },
    {
     "name": "stdout",
     "output_type": "stream",
     "text": [
      "No se encontraron anotaciones para la imagen: IMG_3133_jpeg_jpg.rf.f439b9d382fd153b96f0a88cdf169172.jpg\n"
     ]
    },
    {
     "name": "stderr",
     "output_type": "stream",
     "text": [
      "Procesando train: 100%|██████████| 448/448 [00:07<00:00, 56.84it/s]\n"
     ]
    },
    {
     "name": "stdout",
     "output_type": "stream",
     "text": [
      "Procesamiento completado en train. CSV guardado.\n"
     ]
    },
    {
     "name": "stderr",
     "output_type": "stream",
     "text": [
      "Procesando valid: 100%|██████████| 127/127 [00:02<00:00, 62.64it/s]"
     ]
    },
    {
     "name": "stdout",
     "output_type": "stream",
     "text": [
      "Procesamiento completado en valid. CSV guardado.\n",
      "Todos los conjuntos han sido procesados correctamente.\n"
     ]
    },
    {
     "name": "stderr",
     "output_type": "stream",
     "text": [
      "\n"
     ]
    }
   ],
   "source": [
    "import os\n",
    "import numpy as np\n",
    "import pandas as pd\n",
    "from PIL import Image\n",
    "from tqdm import tqdm\n",
    "import shutil\n",
    "\n",
    "# Directorios de datos originales\n",
    "base_dir = \"data/practica_1_dataset\"\n",
    "train_dir = os.path.join(base_dir, \"train\")\n",
    "valid_dir = os.path.join(base_dir, \"valid\")\n",
    "\n",
    "# Directorios para datos procesados\n",
    "processed_base = \"data/processed\"\n",
    "processed_train_dir = os.path.join(processed_base, \"train\")\n",
    "processed_valid_dir = os.path.join(processed_base, \"validation\")\n",
    "\n",
    "os.makedirs(processed_train_dir, exist_ok=True)\n",
    "os.makedirs(processed_valid_dir, exist_ok=True)\n",
    "\n",
    "# Mapeo de clases a identificadores\n",
    "class_mapping = {\n",
    "  \"fish\": 1,\n",
    "  \"jellyfish\": 2,\n",
    "  \"penguin\": 3,\n",
    "  \"shark\": 4,\n",
    "  \"puffin\": 5,\n",
    "  \"stingray\": 6,\n",
    "  \"starfish\": 7\n",
    "}\n",
    "\n",
    "def process_folder(input_folder, output_folder, ann_df):\n",
    "  \"\"\"\n",
    "  Procesa las imágenes en 'input_folder' y guarda en 'output_folder':\n",
    "    - Copia la imagen original.\n",
    "    - Si la imagen contiene más de una clase, genera una imagen sintética donde se reemplazan\n",
    "      los píxeles de la clase predominante por el color medio del resto de la imagen.\n",
    "    - Se registra la información en new_dataset.csv:\n",
    "        * Para la imagen original se utiliza la primera clase (más frecuente).\n",
    "        * Para la imagen sintética se utiliza la segunda clase (si existe).\n",
    "  \"\"\"\n",
    "  info = []  # Lista para almacenar la información que se registrará en el CSV\n",
    "\n",
    "  # Se obtienen los archivos de imagen (.jpg, .jpeg, .png)\n",
    "  image_files = [f for f in os.listdir(input_folder) if f.lower().endswith((\".jpg\", \".jpeg\", \".png\"))]\n",
    "\n",
    "  for name in tqdm(image_files, desc=f\"Procesando {os.path.basename(input_folder)}\"):\n",
    "    path = os.path.join(input_folder, name)\n",
    "    image = Image.open(path).convert(\"RGB\")\n",
    "    w, h = image.size\n",
    "    mask = np.zeros((h, w), dtype=np.uint8)\n",
    "    \n",
    "    # Asignar en la máscara el identificador de cada clase según las anotaciones\n",
    "    for _, row in ann_df[ann_df[\"filename\"] == name].iterrows():\n",
    "      cid = class_mapping[row[\"class\"]]\n",
    "      mask[int(row[\"ymin\"]):int(row[\"ymax\"]), int(row[\"xmin\"]):int(row[\"xmax\"])] = cid\n",
    "\n",
    "    # Se obtienen las clases presentes y se elimina el fondo (0)\n",
    "    uniques, counts = np.unique(mask, return_counts=True)\n",
    "    counts_dict = dict(zip(uniques, counts))\n",
    "    counts_dict.pop(0, None)  # Se elimina el fondo\n",
    "\n",
    "    # Se ordenan las clases por cantidad de píxeles (de mayor a menor)\n",
    "    sorted_classes = sorted(counts_dict.items(), key=lambda x: x[1], reverse=True)\n",
    "\n",
    "    # Verificar que sorted_classes no esté vacío antes de acceder a su primer elemento\n",
    "    if not sorted_classes:\n",
    "      print(f\"No se encontraron anotaciones para la imagen: {name}\")\n",
    "      continue  # Salta al siguiente elemento\n",
    "\n",
    "    prim_id, prim_area = sorted_classes[0]\n",
    "    prim_label = next(label for label, idx in class_mapping.items() if idx == prim_id)\n",
    "\n",
    "    # Registro para la imagen original\n",
    "    info.append({\"filename\": name, \"predominant_class\": prim_label, \"area\": prim_area})\n",
    "    shutil.copy(path, os.path.join(output_folder, name))\n",
    "    \n",
    "    # Solo se genera la imagen sintética si hay más de una clase anotada\n",
    "    if len(sorted_classes) > 1:\n",
    "      sec_id, sec_area = sorted_classes[1]\n",
    "      sec_label = next(label for label, idx in class_mapping.items() if idx == sec_id)\n",
    "\n",
    "      arr = np.array(image)\n",
    "      mask_prim = (mask == prim_id)\n",
    "      mean_color = arr[~mask_prim].mean(axis=0).astype(np.uint8)\n",
    "      syn_arr = arr.copy()\n",
    "      syn_arr[mask_prim] = mean_color\n",
    "\n",
    "      base, _ = os.path.splitext(name)\n",
    "      syn_name = f\"{base}_synthetic.jpg\"\n",
    "      Image.fromarray(syn_arr).save(os.path.join(output_folder, syn_name))\n",
    "\n",
    "      info.append({\"filename\": syn_name, \"predominant_class\": sec_label, \"area\": sec_area})\n",
    "\n",
    "  pd.DataFrame(info).to_csv(os.path.join(output_folder, \"new_dataset.csv\"), index=False)\n",
    "  print(f\"Procesamiento completado en {os.path.basename(input_folder)}. CSV guardado.\")\n",
    "\n",
    "# Lectura de anotaciones para conjuntos de entrenamiento y validación\n",
    "train_ann = pd.read_csv(os.path.join(train_dir, \"annotations.csv\"))\n",
    "valid_ann = pd.read_csv(os.path.join(valid_dir, \"annotations.csv\"))\n",
    "\n",
    "process_folder(train_dir, processed_train_dir, train_ann)\n",
    "process_folder(valid_dir, processed_valid_dir, valid_ann)\n",
    "\n",
    "print(\"Todos los conjuntos han sido procesados correctamente.\")"
   ]
  },
  {
   "cell_type": "code",
   "execution_count": 18,
   "metadata": {},
   "outputs": [
    {
     "name": "stdout",
     "output_type": "stream",
     "text": [
      "Directorio CSV: c:\\Users\\jbarc\\Documents\\Deep learning\\UFVDeepLearning\\P1_ComputerVision\\data\\processed\\train\n",
      "Batch de imágenes: (1, 256, 256, 3)\n",
      "Batch de etiquetas: tf.Tensor([b'starfish'], shape=(1,), dtype=string)\n"
     ]
    }
   ],
   "source": [
    "import tensorflow as tf\n",
    "import pandas as pd\n",
    "import os\n",
    "\n",
    "# Ruta del archivo CSV\n",
    "csv_path = r'data/processed/train/new_dataset.csv'\n",
    "if not os.path.exists(csv_path):\n",
    "    raise FileNotFoundError(f\"No se encontró el archivo CSV en: {csv_path}\")\n",
    "\n",
    "# Cargar el CSV usando pandas\n",
    "df = pd.read_csv(csv_path)\n",
    "rutas_archivos = df['filename'].tolist()\n",
    "etiquetas = df['predominant_class'].tolist()\n",
    "\n",
    "# Obtener el directorio donde se encuentra el CSV y construir la ruta completa de cada imagen\n",
    "directorio_csv = os.path.dirname(os.path.abspath(csv_path))\n",
    "print(\"Directorio CSV:\", directorio_csv)\n",
    "rutas_imagenes = [os.path.join(directorio_csv, nombre) for nombre in rutas_archivos]\n",
    "\n",
    "# Función auxiliar que se ejecuta en modo eager a través de tf.py_function\n",
    "def _cargar_imagen(ruta, etiqueta):\n",
    "    # Convertir el tensor a un valor numpy y luego decodificarlo a str\n",
    "    ruta_str = ruta.numpy().decode('utf-8')\n",
    "    # print(\"Cargando la imagen desde:\", ruta_str)\n",
    "    \n",
    "    # Leer y decodificar la imagen\n",
    "    imagen_bytes = tf.io.read_file(ruta_str)\n",
    "    imagen_decoded = tf.image.decode_image(imagen_bytes, channels=3, expand_animations=False)\n",
    "    imagen_resized = tf.image.resize(imagen_decoded, [256, 256])\n",
    "    \n",
    "    return imagen_resized, etiqueta\n",
    "\n",
    "# Función de mapeo que utiliza tf.py_function para ejecutar _cargar_imagen en modo eager\n",
    "def cargar_imagen(ruta, etiqueta):\n",
    "    imagen, etiqueta_out = tf.py_function(\n",
    "        func=_cargar_imagen,\n",
    "        inp=[ruta, etiqueta],\n",
    "        Tout=[tf.float32, etiqueta.dtype]\n",
    "    )\n",
    "    # Definir la forma fija de la imagen resultante para el grafo\n",
    "    imagen.set_shape([256, 256, 3])\n",
    "    return imagen, etiqueta_out\n",
    "\n",
    "# Crear el dataset a partir de la lista de rutas y etiquetas\n",
    "dataset = tf.data.Dataset.from_tensor_slices((rutas_imagenes, etiquetas))\n",
    "dataset = dataset.map(cargar_imagen, num_parallel_calls=tf.data.AUTOTUNE)\n",
    "dataset = dataset.shuffle(buffer_size=1000)\n",
    "dataset = dataset.batch(1)\n",
    "dataset = dataset.prefetch(tf.data.AUTOTUNE)\n",
    "\n",
    "# Ejemplo de iterar sobre el dataset\n",
    "for imagenes, labels in dataset.take(1):\n",
    "    print(\"Batch de imágenes:\", imagenes.shape)\n",
    "    print(\"Batch de etiquetas:\", labels)\n"
   ]
  },
  {
   "cell_type": "code",
   "execution_count": 19,
   "metadata": {},
   "outputs": [
    {
     "name": "stdout",
     "output_type": "stream",
     "text": [
      "Imagen: (1, 256, 256, 3) Etiqueta: [b'puffin']\n"
     ]
    }
   ],
   "source": [
    "ds_iter = dataset.take(1).as_numpy_iterator()\n",
    "for el in ds_iter:\n",
    "    print(\"Imagen:\", el[0].shape, \"Etiqueta:\", el[1])\n",
    "    break  # Solo para mostrar un ejemplo"
   ]
  },
  {
   "cell_type": "code",
   "execution_count": 6,
   "metadata": {},
   "outputs": [
    {
     "name": "stdout",
     "output_type": "stream",
     "text": [
      " El volumen de la unidad C no tiene etiqueta.\n",
      " El n�mero de serie del volumen es: 86EE-2F56\n",
      "\n",
      " Directorio de c:\\Users\\jbarc\\Documents\\Deep learning\\UFVDeepLearning\\P1_ComputerVision\n",
      "\n",
      "28/03/2025  16:23    <DIR>          .\n",
      "28/03/2025  16:23    <DIR>          ..\n",
      "28/03/2025  18:26    <DIR>          data\n",
      "28/03/2025  18:27            24.395 P1_Notebook.ipynb\n",
      "               1 archivos         24.395 bytes\n",
      "               3 dirs  412.369.678.336 bytes libres\n"
     ]
    }
   ],
   "source": [
    "!dir"
   ]
  },
  {
   "cell_type": "code",
   "execution_count": null,
   "metadata": {},
   "outputs": [],
   "source": []
  }
 ],
 "metadata": {
  "kernelspec": {
   "display_name": ".venv",
   "language": "python",
   "name": "python3"
  },
  "language_info": {
   "codemirror_mode": {
    "name": "ipython",
    "version": 3
   },
   "file_extension": ".py",
   "mimetype": "text/x-python",
   "name": "python",
   "nbconvert_exporter": "python",
   "pygments_lexer": "ipython3",
   "version": "3.12.8"
  }
 },
 "nbformat": 4,
 "nbformat_minor": 2
}
