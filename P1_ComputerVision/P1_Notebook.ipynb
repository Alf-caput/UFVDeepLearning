{
 "cells": [
  {
   "cell_type": "markdown",
   "metadata": {},
   "source": [
    "## Practica 1 - Computer Vision"
   ]
  },
  {
   "cell_type": "code",
   "execution_count": 30,
   "metadata": {},
   "outputs": [
    {
     "name": "stderr",
     "output_type": "stream",
     "text": [
      "Downloading...\n",
      "From (original): https://drive.google.com/uc?id=1iGBv-VT5mm1RiouD-U2qWcU3BYqp2OwE\n",
      "From (redirected): https://drive.google.com/uc?id=1iGBv-VT5mm1RiouD-U2qWcU3BYqp2OwE&confirm=t&uuid=8239c278-ad36-469a-9810-eb2e0ed97b70\n",
      "To: /home/alf/git-repos/UFVDeepLearning/P1_ComputerVision/data/practica_1_dataset.zip\n",
      "100%|██████████| 69.6M/69.6M [00:52<00:00, 1.32MB/s]\n"
     ]
    },
    {
     "data": {
      "text/plain": [
       "'data/practica_1_dataset.zip'"
      ]
     },
     "execution_count": 30,
     "metadata": {},
     "output_type": "execute_result"
    }
   ],
   "source": [
    "import os\n",
    "import gdown\n",
    "\n",
    "# Crear el directorio de datos si no existe\n",
    "data_dir = \"data\"\n",
    "if not os.path.exists(data_dir):\n",
    "    os.makedirs(data_dir)\n",
    "\n",
    "# URL de Google Drive en formato correcto para gdown\n",
    "url = \"https://drive.google.com/uc?id=1iGBv-VT5mm1RiouD-U2qWcU3BYqp2OwE\"\n",
    "zip_filename = \"practica_1_dataset.zip\"\n",
    "zip_path = os.path.join(data_dir, zip_filename)\n",
    "\n",
    "# Descargar el archivo\n",
    "gdown.download(url, zip_path, quiet=False)"
   ]
  },
  {
   "cell_type": "code",
   "execution_count": 31,
   "metadata": {},
   "outputs": [],
   "source": [
    "import os\n",
    "from zipfile import ZipFile\n",
    "from concurrent.futures import ThreadPoolExecutor\n",
    "\n",
    "data_dir = \"data\"\n",
    "zip_filename = \"practica_1_dataset.zip\"\n",
    "zip_path = os.path.join(data_dir, zip_filename)\n",
    "if not os.path.exists(zip_path.split(\".\")[0]):\n",
    "    with ZipFile(zip_path, 'r') as zf:\n",
    "        with ThreadPoolExecutor() as exe:\n",
    "            for file in zf.namelist():\n",
    "                if not file.startswith(\"__MACOSX\"):\n",
    "                    exe.submit(zf.extract, file, path=data_dir)"
   ]
  },
  {
   "cell_type": "code",
   "execution_count": 32,
   "metadata": {},
   "outputs": [
    {
     "data": {
      "text/html": [
       "<div>\n",
       "<style scoped>\n",
       "    .dataframe tbody tr th:only-of-type {\n",
       "        vertical-align: middle;\n",
       "    }\n",
       "\n",
       "    .dataframe tbody tr th {\n",
       "        vertical-align: top;\n",
       "    }\n",
       "\n",
       "    .dataframe thead th {\n",
       "        text-align: right;\n",
       "    }\n",
       "</style>\n",
       "<table border=\"1\" class=\"dataframe\">\n",
       "  <thead>\n",
       "    <tr style=\"text-align: right;\">\n",
       "      <th></th>\n",
       "      <th>filename</th>\n",
       "      <th>width</th>\n",
       "      <th>height</th>\n",
       "      <th>class</th>\n",
       "      <th>xmin</th>\n",
       "      <th>ymin</th>\n",
       "      <th>xmax</th>\n",
       "      <th>ymax</th>\n",
       "    </tr>\n",
       "  </thead>\n",
       "  <tbody>\n",
       "    <tr>\n",
       "      <th>0</th>\n",
       "      <td>IMG_2526_jpeg_jpg.rf.003e1d1d41bcd204df731b85c...</td>\n",
       "      <td>768</td>\n",
       "      <td>1024</td>\n",
       "      <td>puffin</td>\n",
       "      <td>406</td>\n",
       "      <td>457</td>\n",
       "      <td>497</td>\n",
       "      <td>533</td>\n",
       "    </tr>\n",
       "    <tr>\n",
       "      <th>1</th>\n",
       "      <td>IMG_2526_jpeg_jpg.rf.003e1d1d41bcd204df731b85c...</td>\n",
       "      <td>768</td>\n",
       "      <td>1024</td>\n",
       "      <td>puffin</td>\n",
       "      <td>18</td>\n",
       "      <td>705</td>\n",
       "      <td>82</td>\n",
       "      <td>759</td>\n",
       "    </tr>\n",
       "    <tr>\n",
       "      <th>2</th>\n",
       "      <td>IMG_2526_jpeg_jpg.rf.003e1d1d41bcd204df731b85c...</td>\n",
       "      <td>768</td>\n",
       "      <td>1024</td>\n",
       "      <td>puffin</td>\n",
       "      <td>51</td>\n",
       "      <td>426</td>\n",
       "      <td>116</td>\n",
       "      <td>475</td>\n",
       "    </tr>\n",
       "    <tr>\n",
       "      <th>3</th>\n",
       "      <td>IMG_2526_jpeg_jpg.rf.003e1d1d41bcd204df731b85c...</td>\n",
       "      <td>768</td>\n",
       "      <td>1024</td>\n",
       "      <td>puffin</td>\n",
       "      <td>428</td>\n",
       "      <td>331</td>\n",
       "      <td>504</td>\n",
       "      <td>376</td>\n",
       "    </tr>\n",
       "    <tr>\n",
       "      <th>4</th>\n",
       "      <td>IMG_2526_jpeg_jpg.rf.003e1d1d41bcd204df731b85c...</td>\n",
       "      <td>768</td>\n",
       "      <td>1024</td>\n",
       "      <td>puffin</td>\n",
       "      <td>0</td>\n",
       "      <td>613</td>\n",
       "      <td>21</td>\n",
       "      <td>658</td>\n",
       "    </tr>\n",
       "  </tbody>\n",
       "</table>\n",
       "</div>"
      ],
      "text/plain": [
       "                                            filename  width  height   class  \\\n",
       "0  IMG_2526_jpeg_jpg.rf.003e1d1d41bcd204df731b85c...    768    1024  puffin   \n",
       "1  IMG_2526_jpeg_jpg.rf.003e1d1d41bcd204df731b85c...    768    1024  puffin   \n",
       "2  IMG_2526_jpeg_jpg.rf.003e1d1d41bcd204df731b85c...    768    1024  puffin   \n",
       "3  IMG_2526_jpeg_jpg.rf.003e1d1d41bcd204df731b85c...    768    1024  puffin   \n",
       "4  IMG_2526_jpeg_jpg.rf.003e1d1d41bcd204df731b85c...    768    1024  puffin   \n",
       "\n",
       "   xmin  ymin  xmax  ymax  \n",
       "0   406   457   497   533  \n",
       "1    18   705    82   759  \n",
       "2    51   426   116   475  \n",
       "3   428   331   504   376  \n",
       "4     0   613    21   658  "
      ]
     },
     "execution_count": 32,
     "metadata": {},
     "output_type": "execute_result"
    }
   ],
   "source": [
    "import pandas as pd\n",
    "\n",
    "df = pd.read_csv(\"data/test/annotations.csv\")\n",
    "df.head()"
   ]
  },
  {
   "cell_type": "markdown",
   "metadata": {},
   "source": [
    "clase_area $\\cdot$ n_clase "
   ]
  },
  {
   "cell_type": "code",
   "execution_count": 29,
   "metadata": {},
   "outputs": [
    {
     "name": "stdout",
     "output_type": "stream",
     "text": [
      "Total image files: 62\n",
      "Filenames shape: TensorSpec(shape=(), dtype=tf.string, name=None)\n"
     ]
    }
   ],
   "source": [
    "import tensorflow as tf\n",
    "ds_files = tf.data.Dataset.list_files(\"data/test/\" + '*.jpg') # by default shuffle=True\n",
    "print(\"Total image files:\", len(ds_files))\n",
    "print(\"Filenames shape:\", ds_files.element_spec)"
   ]
  },
  {
   "cell_type": "code",
   "execution_count": null,
   "metadata": {},
   "outputs": [],
   "source": []
  }
 ],
 "metadata": {
  "kernelspec": {
   "display_name": ".venv",
   "language": "python",
   "name": "python3"
  },
  "language_info": {
   "codemirror_mode": {
    "name": "ipython",
    "version": 3
   },
   "file_extension": ".py",
   "mimetype": "text/x-python",
   "name": "python",
   "nbconvert_exporter": "python",
   "pygments_lexer": "ipython3",
   "version": "3.10.12"
  }
 },
 "nbformat": 4,
 "nbformat_minor": 2
}
