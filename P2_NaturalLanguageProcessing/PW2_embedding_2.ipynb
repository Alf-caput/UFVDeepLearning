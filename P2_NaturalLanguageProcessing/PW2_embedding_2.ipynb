{
  "cells": [
    {
      "cell_type": "markdown",
      "id": "5c968420",
      "metadata": {
        "id": "5c968420"
      },
      "source": [
        "# Practica 2 - Natural Language processing"
      ]
    },
    {
      "cell_type": "markdown",
      "id": "7dc8f458",
      "metadata": {
        "id": "7dc8f458"
      },
      "source": [
        "## Librerías"
      ]
    },
    {
      "cell_type": "code",
      "execution_count": 1,
      "id": "4b54bd23",
      "metadata": {
        "id": "4b54bd23"
      },
      "outputs": [],
      "source": [
        "import numpy as np\n",
        "\n",
        "import tensorflow as tf\n",
        "\n",
        "import pandas as pd\n",
        "from collections import Counter\n",
        "import re\n",
        "\n",
        "from tensorflow import keras\n",
        "\n",
        "\n",
        "import numpy as np\n",
        "import tensorflow as tf\n",
        "\n",
        "from tensorflow import keras\n",
        "from tensorflow.keras.utils import to_categorical\n",
        "\n",
        "from tensorflow.keras import Model, Input, layers\n",
        "from tensorflow.keras.layers import Embedding, Dot, Reshape, Dense\n",
        "\n",
        "from tensorflow.keras.preprocessing.text import Tokenizer\n",
        "from tensorflow.keras.preprocessing.sequence import skipgrams\n",
        "\n",
        "from keras.callbacks import TensorBoard\n",
        "\n",
        "import re\n",
        "from collections import Counter\n",
        "from tensorflow.keras.preprocessing.text import Tokenizer\n",
        "\n",
        "import numpy as np\n",
        "from tensorflow.keras.preprocessing.sequence import skipgrams"
      ]
    },
    {
      "cell_type": "markdown",
      "id": "49d7982c",
      "metadata": {
        "id": "49d7982c"
      },
      "source": [
        "## Funciones"
      ]
    },
    {
      "cell_type": "markdown",
      "id": "66f57b9d",
      "metadata": {
        "id": "66f57b9d"
      },
      "source": [
        "## Descarga y proceso de datos"
      ]
    },
    {
      "cell_type": "markdown",
      "id": "eec4e58f",
      "metadata": {
        "id": "eec4e58f"
      },
      "source": [
        "### Carga de datos"
      ]
    },
    {
      "cell_type": "code",
      "execution_count": 2,
      "id": "41d34a01",
      "metadata": {
        "id": "41d34a01",
        "outputId": "a5a5a72a-67c2-43de-eaaf-46f524d934be",
        "colab": {
          "base_uri": "https://localhost:8080/"
        }
      },
      "outputs": [
        {
          "output_type": "stream",
          "name": "stdout",
          "text": [
            "Fallo con encoding utf-8, probando siguiente...\n",
            "Cargado 'train.csv' con encoding latin1\n",
            "Cargado 'test.csv' con encoding latin1\n",
            "Train shape: (27481, 10)\n",
            "Test  shape: (4815, 9)\n"
          ]
        }
      ],
      "source": [
        "import os\n",
        "import pandas as pd\n",
        "\n",
        "# 1. Directorio portable a P2_NaturalLanguageProcessing/data\n",
        "cwd      = os.getcwd()\n",
        "data_dir = os.path.join(cwd, 'data')\n",
        "\n",
        "# 2. Rutas a los CSV\n",
        "train_path = os.path.join(data_dir, 'train.csv')\n",
        "test_path  = os.path.join(data_dir, 'test.csv')\n",
        "\n",
        "# 3. Lista de codificaciones a probar\n",
        "encodings = ['utf-8', 'latin1', 'iso-8859-1', 'cp1252']\n",
        "\n",
        "def load_csv(path, enc_list):\n",
        "    for enc in enc_list:\n",
        "        try:\n",
        "            df = pd.read_csv(path, encoding=enc)\n",
        "            print(f\"Cargado '{os.path.basename(path)}' con encoding {enc}\")\n",
        "            return df, enc\n",
        "        except UnicodeDecodeError:\n",
        "            print(f\"Fallo con encoding {enc}, probando siguiente...\")\n",
        "    raise ValueError(f\"No se pudo decodificar {path} con las codificaciones {enc_list}\")\n",
        "\n",
        "# 4. Cargar ambos conjuntos usando la misma codificación\n",
        "train_df, used_enc = load_csv(train_path, encodings)\n",
        "test_df, _      = load_csv(test_path, [used_enc])\n",
        "\n",
        "# 5. Verificación\n",
        "print(f\"Train shape: {train_df.shape}\")\n",
        "print(f\"Test  shape: {test_df.shape}\")\n"
      ]
    },
    {
      "cell_type": "markdown",
      "id": "e7f1bd05",
      "metadata": {
        "id": "e7f1bd05"
      },
      "source": [
        "### Exploración y limpieza de datos"
      ]
    },
    {
      "cell_type": "code",
      "execution_count": 3,
      "id": "61a5800b",
      "metadata": {
        "id": "61a5800b",
        "outputId": "fddda0c8-058c-41ef-8f70-bd7905731bb8",
        "colab": {
          "base_uri": "https://localhost:8080/"
        }
      },
      "outputs": [
        {
          "output_type": "stream",
          "name": "stdout",
          "text": [
            "<class 'pandas.core.frame.DataFrame'>\n",
            "RangeIndex: 32296 entries, 0 to 32295\n",
            "Data columns (total 10 columns):\n",
            " #   Column            Non-Null Count  Dtype  \n",
            "---  ------            --------------  -----  \n",
            " 0   textID            31015 non-null  object \n",
            " 1   text              31014 non-null  object \n",
            " 2   selected_text     27480 non-null  object \n",
            " 3   sentiment         31015 non-null  object \n",
            " 4   Time of Tweet     31015 non-null  object \n",
            " 5   Age of User       31015 non-null  object \n",
            " 6   Country           31015 non-null  object \n",
            " 7   Population -2020  31015 non-null  float64\n",
            " 8   Land Area (Km²)   31015 non-null  float64\n",
            " 9   Density (P/Km²)   31015 non-null  float64\n",
            "dtypes: float64(3), object(7)\n",
            "memory usage: 2.5+ MB\n",
            "None\n",
            "       textID                                               text  \\\n",
            "0  cb774db0d1                I`d have responded, if I were going   \n",
            "1  549e992a42      Sooo SAD I will miss you here in San Diego!!!   \n",
            "2  088c60f138                          my boss is bullying me...   \n",
            "3  9642c003ef                     what interview! leave me alone   \n",
            "4  358bd9e861   Sons of ****, why couldn`t they put them on t...   \n",
            "\n",
            "                         selected_text sentiment Time of Tweet Age of User  \\\n",
            "0  I`d have responded, if I were going   neutral       morning        0-20   \n",
            "1                             Sooo SAD  negative          noon       21-30   \n",
            "2                          bullying me  negative         night       31-45   \n",
            "3                       leave me alone  negative       morning       46-60   \n",
            "4                        Sons of ****,  negative          noon       60-70   \n",
            "\n",
            "       Country  Population -2020  Land Area (Km²)  Density (P/Km²)  \n",
            "0  Afghanistan        38928346.0         652860.0             60.0  \n",
            "1      Albania         2877797.0          27400.0            105.0  \n",
            "2      Algeria        43851044.0        2381740.0             18.0  \n",
            "3      Andorra           77265.0            470.0            164.0  \n",
            "4       Angola        32866272.0        1246700.0             26.0  \n",
            "Total de muestras: 32296\n",
            "Palabras únicas encontradas: 28490\n",
            "Top 10 palabras más frecuentes: [('i', 18870), ('to', 11249), ('the', 10200), ('a', 7609), ('my', 6264), ('it', 6123), ('you', 6040), ('and', 5827), ('is', 4490), ('in', 4279)]\n",
            "BUFFER_SIZE = 32768\n",
            "BATCH_SIZE = 128\n",
            "VOCAB_SIZE = 8192\n"
          ]
        }
      ],
      "source": [
        "# 5. Juntar los DataFrames para facilitar el preprocesado\n",
        "data_df = pd.concat([train_df, test_df], ignore_index=True)      # concatenación[2]\n",
        "\n",
        "# 6. Inspeccionar estructura básica\n",
        "print(data_df.info())\n",
        "print(data_df.head())\n",
        "\n",
        "# 7. Contar palabras únicas en la columna 'text' para estimar VOCAB_SIZE\n",
        "all_text = ' '.join(data_df['text'].astype(str)).lower()\n",
        "words = re.findall(r'\\b\\w+\\b', all_text)\n",
        "word_counts = Counter(words)\n",
        "unique_words = len(word_counts)\n",
        "\n",
        "print(f\"Total de muestras: {data_df.shape[0]}\")\n",
        "print(f\"Palabras únicas encontradas: {unique_words}\")\n",
        "print(\"Top 10 palabras más frecuentes:\", word_counts.most_common(10))\n",
        "\n",
        "# 8. Definir parámetros para TensorFlow/Keras\n",
        "BUFFER_SIZE = 32768      # chivo mayor al dataset para buen shuffle 2^15\n",
        "BATCH_SIZE = 128        # potencia de 2 adecuada para GPU\n",
        "VOCAB_SIZE = 8192      # tamaño del vocabulario[4]\n",
        "\n",
        "print(\"BUFFER_SIZE =\", BUFFER_SIZE)\n",
        "print(\"BATCH_SIZE =\", BATCH_SIZE)\n",
        "print(\"VOCAB_SIZE =\", VOCAB_SIZE)"
      ]
    },
    {
      "cell_type": "markdown",
      "id": "28aad5dd",
      "metadata": {
        "id": "28aad5dd"
      },
      "source": [
        "### Preparación de datos"
      ]
    },
    {
      "cell_type": "markdown",
      "id": "f88eb256",
      "metadata": {
        "id": "f88eb256"
      },
      "source": [
        "#### Creación del corpus"
      ]
    },
    {
      "cell_type": "code",
      "execution_count": 4,
      "id": "9d2350be",
      "metadata": {
        "id": "9d2350be",
        "outputId": "efb0081a-4abb-4114-b917-c4ea20046560",
        "colab": {
          "base_uri": "https://localhost:8080/"
        }
      },
      "outputs": [
        {
          "output_type": "stream",
          "name": "stdout",
          "text": [
            "Primeros 5 textos filtrados: ['i d have responded if i were going', 'sooo sad i will miss you here in san diego', 'my boss is me', 'what interview leave me alone', 'sons of why couldn t they put them on the releases we already bought']\n",
            "Primeras 5 secuencias: [[1, 163, 19, 7648, 71, 1, 151, 49], [421, 117, 1, 63, 94, 7, 91, 10, 1447, 2230], [5, 1410, 9, 16], [51, 1193, 350, 16, 495], [4254, 13, 118, 472, 14, 72, 332, 131, 17, 3, 7649, 50, 210, 569]]\n",
            "Tamaño de vocabulario efectivo: 8152\n"
          ]
        }
      ],
      "source": [
        "# 1. Seleccionar las 4 096 palabras más frecuentes\n",
        "most_common_words = {w for w, _ in word_counts.most_common(VOCAB_SIZE)}\n",
        "\n",
        "# 2. Filtrar cada texto para quedarnos solo con tokens en el top 4 096\n",
        "corpus_filtered = []\n",
        "for text in data_df['text'].dropna().astype(str):\n",
        "    tokens = re.findall(r'\\b\\w+\\b', text.lower())\n",
        "    filtered_tokens = [t for t in tokens if t in most_common_words]\n",
        "    corpus_filtered.append(\" \".join(filtered_tokens))\n",
        "\n",
        "# 3. Tokenizar el corpus filtrado\n",
        "tokenizer = Tokenizer(num_words=VOCAB_SIZE)\n",
        "tokenizer.fit_on_texts(corpus_filtered)\n",
        "\n",
        "# 4. Convertir textos a secuencias de índices\n",
        "sequences = tokenizer.texts_to_sequences(corpus_filtered)\n",
        "\n",
        "# 5. Diccionarios de mapeo y tamaño final de vocabulario\n",
        "word2idx = tokenizer.word_index\n",
        "idx2word = {i: w for w, i in word2idx.items()}\n",
        "vocab_size = min(len(word2idx) + 1, VOCAB_SIZE)\n",
        "\n",
        "# 6. Mostrar resultados de prueba\n",
        "print(\"Primeros 5 textos filtrados:\", corpus_filtered[:5])\n",
        "print(\"Primeras 5 secuencias:\", sequences[:5])\n",
        "print(\"Tamaño de vocabulario efectivo:\", vocab_size)\n"
      ]
    },
    {
      "cell_type": "markdown",
      "id": "d7606597",
      "metadata": {
        "id": "d7606597"
      },
      "source": [
        "#### Generación de los pares de entrenamiento"
      ]
    },
    {
      "cell_type": "code",
      "execution_count": 5,
      "id": "8c56d118",
      "metadata": {
        "id": "8c56d118",
        "outputId": "e98016d6-da8a-44d1-fb03-dcd432dc87ad",
        "colab": {
          "base_uri": "https://localhost:8080/"
        }
      },
      "outputs": [
        {
          "output_type": "stream",
          "name": "stdout",
          "text": [
            "Window=2: 1384586 pares generados\n",
            "Window=4: 2530442 pares generados\n"
          ]
        }
      ],
      "source": [
        "# Parámetros generales\n",
        "# vocab_size_eff    = vocab_size    # p.ej. 8192\n",
        "negative_samples  = 0.0\n",
        "seed_value        = 42\n",
        "\n",
        "# Ventanas para generar pares\n",
        "window_sizes = [2, 4]\n",
        "\n",
        "# Contenedor de pares por tamaño de ventana\n",
        "pairs_by_window = {}\n",
        "\n",
        "for w in window_sizes:\n",
        "    pairs = []\n",
        "    for seq in sequences:\n",
        "        if len(seq) < 2:\n",
        "            continue\n",
        "        # Generar solo pares positivos con skipgrams\n",
        "        pos_pairs, _ = skipgrams(\n",
        "            sequence=seq,\n",
        "            vocabulary_size=vocab_size,\n",
        "            window_size=w,\n",
        "            negative_samples=negative_samples,\n",
        "            shuffle=True,\n",
        "            seed=seed_value\n",
        "        )\n",
        "        pairs.extend(pos_pairs)\n",
        "\n",
        "    # Convertir a arrays target/context\n",
        "    if pairs:\n",
        "        t, c = zip(*pairs)\n",
        "        targets  = np.array(t, dtype='int32')\n",
        "        contexts = np.array(c, dtype='int32')\n",
        "    else:\n",
        "        targets  = np.zeros((0,), dtype='int32')\n",
        "        contexts = np.zeros((0,), dtype='int32')\n",
        "\n",
        "    pairs_by_window[w] = {\n",
        "        'pairs':   pairs,\n",
        "        'targets': targets,\n",
        "        'contexts':contexts\n",
        "    }\n",
        "    print(f\"Window={w}: {len(pairs)} pares generados\")\n",
        "\n",
        "# Ejemplo de acceso:\n",
        "# pairs_by_window[2]['targets'], pairs_by_window[2]['contexts']\n",
        "# pairs_by_window[4]['targets'], pairs_by_window[4]['contexts']\n",
        "\n"
      ]
    },
    {
      "cell_type": "markdown",
      "id": "8a0ad6f6",
      "metadata": {
        "id": "8a0ad6f6"
      },
      "source": [
        "#### Integer-encoding\n",
        "Un poco de teoría de los dos encoders:\n",
        "\n",
        "- Integer encoding: X_target y X_context son vectores de enteros donde cada valor es el índice de palabra en el vocabulario. Es lo adecuado cuando se usa una capa Embedding, ya que Keras transforma internamente cada índice en su vector embebido.\n",
        "\n",
        "- One-hot encoding: cada índice se convierte en un vector binario de longitud vocab_size con un único 1 en la posición correspondiente al índice. Ocupa mucha más memoria y rara vez es necesario si tu primer bloque es Embedding."
      ]
    },
    {
      "cell_type": "code",
      "execution_count": 6,
      "id": "4c405434",
      "metadata": {
        "id": "4c405434",
        "outputId": "b9aa4af8-ccc4-4fa3-d839-ebc3c9a49e1f",
        "colab": {
          "base_uri": "https://localhost:8080/"
        }
      },
      "outputs": [
        {
          "output_type": "stream",
          "name": "stdout",
          "text": [
            "--- Ventana = 2 ---\n",
            "Número de pares: 1384586\n",
            "X_target shape: (1384586,)\n",
            "X_context shape: (1384586,)\n",
            "y_train shape: (1384586,)\n",
            "\n",
            "--- Ventana = 4 ---\n",
            "Número de pares: 2530442\n",
            "X_target shape: (2530442,)\n",
            "X_context shape: (2530442,)\n",
            "y_train shape: (2530442,)\n",
            "\n"
          ]
        }
      ],
      "source": [
        "import numpy as np\n",
        "\n",
        "# Suponemos que ya existe:\n",
        "#  - pairs_by_window: dict con keys 2 y 4, cada uno contiene 'targets' y 'contexts'\n",
        "#  - vocab_size: tamaño efectivo del vocabulario (p.ej. 8192)\n",
        "\n",
        "datasets = {}\n",
        "\n",
        "for w, data in pairs_by_window.items():\n",
        "    # 1. Extraer targets y contexts\n",
        "    targets  = data['targets']    # array shape (n_pairs,)\n",
        "    contexts = data['contexts']   # array shape (n_pairs,)\n",
        "\n",
        "    # 2. Crear X_train como representación dispersa (enteros)\n",
        "    X_target  = targets\n",
        "    X_context = contexts\n",
        "    X_train   = [X_target, X_context]\n",
        "\n",
        "    # 3. Etiquetas positivas\n",
        "    y_train = np.ones((len(targets),), dtype='int32')\n",
        "\n",
        "    # 4. Almacenar en el nuevo dict\n",
        "    datasets[w] = {\n",
        "        'X_train': X_train,\n",
        "        'y_train': y_train\n",
        "    }\n",
        "\n",
        "    # 5. Mostrar shapes de comprobación\n",
        "    print(f\"--- Ventana = {w} ---\")\n",
        "    print(\"Número de pares:\", len(targets))\n",
        "    print(\"X_target shape:\",  X_target.shape)\n",
        "    print(\"X_context shape:\", X_context.shape)\n",
        "    print(\"y_train shape:\",    y_train.shape)\n",
        "    print()\n",
        "\n",
        "# Acceso posterior:\n",
        "# datasets[2]['X_train'], datasets[2]['y_train']\n",
        "# datasets[4]['X_train'], datasets[4]['y_train']"
      ]
    },
    {
      "cell_type": "markdown",
      "id": "c96e6680",
      "metadata": {
        "id": "c96e6680"
      },
      "source": [
        "## Arquitectura y ejecucción"
      ]
    },
    {
      "cell_type": "code",
      "execution_count": 7,
      "id": "ea3cfdbe",
      "metadata": {
        "id": "ea3cfdbe",
        "outputId": "22f7d0ab-e233-492a-eb70-1e3d3fe532fb",
        "colab": {
          "base_uri": "https://localhost:8080/"
        }
      },
      "outputs": [
        {
          "output_type": "stream",
          "name": "stdout",
          "text": [
            "\n",
            "Entrenando Skip-Gram: window=2, embed_dim=45\n"
          ]
        },
        {
          "output_type": "stream",
          "name": "stderr",
          "text": [
            "/usr/local/lib/python3.11/dist-packages/keras/src/layers/core/embedding.py:90: UserWarning: Argument `input_length` is deprecated. Just remove it.\n",
            "  warnings.warn(\n"
          ]
        },
        {
          "output_type": "stream",
          "name": "stdout",
          "text": [
            "Epoch 1/10\n",
            "\u001b[1m10818/10818\u001b[0m \u001b[32m━━━━━━━━━━━━━━━━━━━━\u001b[0m\u001b[37m\u001b[0m \u001b[1m25s\u001b[0m 2ms/step - accuracy: 0.9846 - loss: 0.0270\n",
            "Epoch 2/10\n",
            "\u001b[1m10818/10818\u001b[0m \u001b[32m━━━━━━━━━━━━━━━━━━━━\u001b[0m\u001b[37m\u001b[0m \u001b[1m40s\u001b[0m 2ms/step - accuracy: 1.0000 - loss: 3.5527e-07\n",
            "Epoch 3/10\n",
            "\u001b[1m10818/10818\u001b[0m \u001b[32m━━━━━━━━━━━━━━━━━━━━\u001b[0m\u001b[37m\u001b[0m \u001b[1m23s\u001b[0m 2ms/step - accuracy: 1.0000 - loss: 4.0059e-08\n",
            "Epoch 4/10\n",
            "\u001b[1m10818/10818\u001b[0m \u001b[32m━━━━━━━━━━━━━━━━━━━━\u001b[0m\u001b[37m\u001b[0m \u001b[1m24s\u001b[0m 2ms/step - accuracy: 1.0000 - loss: 2.0814e-08\n",
            "Epoch 5/10\n",
            "\u001b[1m10818/10818\u001b[0m \u001b[32m━━━━━━━━━━━━━━━━━━━━\u001b[0m\u001b[37m\u001b[0m \u001b[1m40s\u001b[0m 2ms/step - accuracy: 1.0000 - loss: 1.3802e-08\n",
            "Epoch 6/10\n",
            "\u001b[1m10818/10818\u001b[0m \u001b[32m━━━━━━━━━━━━━━━━━━━━\u001b[0m\u001b[37m\u001b[0m \u001b[1m23s\u001b[0m 2ms/step - accuracy: 1.0000 - loss: 1.0585e-08\n",
            "Epoch 7/10\n",
            "\u001b[1m10818/10818\u001b[0m \u001b[32m━━━━━━━━━━━━━━━━━━━━\u001b[0m\u001b[37m\u001b[0m \u001b[1m41s\u001b[0m 2ms/step - accuracy: 1.0000 - loss: 8.3784e-09\n",
            "Epoch 8/10\n",
            "\u001b[1m10818/10818\u001b[0m \u001b[32m━━━━━━━━━━━━━━━━━━━━\u001b[0m\u001b[37m\u001b[0m \u001b[1m23s\u001b[0m 2ms/step - accuracy: 1.0000 - loss: 7.0530e-09\n",
            "Epoch 9/10\n",
            "\u001b[1m10818/10818\u001b[0m \u001b[32m━━━━━━━━━━━━━━━━━━━━\u001b[0m\u001b[37m\u001b[0m \u001b[1m23s\u001b[0m 2ms/step - accuracy: 1.0000 - loss: 5.9764e-09\n",
            "Epoch 10/10\n",
            "\u001b[1m10818/10818\u001b[0m \u001b[32m━━━━━━━━━━━━━━━━━━━━\u001b[0m\u001b[37m\u001b[0m \u001b[1m23s\u001b[0m 2ms/step - accuracy: 1.0000 - loss: 5.2894e-09\n",
            "\n",
            "Entrenando Skip-Gram: window=2, embed_dim=312\n",
            "Epoch 1/10\n",
            "\u001b[1m10818/10818\u001b[0m \u001b[32m━━━━━━━━━━━━━━━━━━━━\u001b[0m\u001b[37m\u001b[0m \u001b[1m25s\u001b[0m 2ms/step - accuracy: 0.9846 - loss: 0.0235\n",
            "Epoch 2/10\n",
            "\u001b[1m10818/10818\u001b[0m \u001b[32m━━━━━━━━━━━━━━━━━━━━\u001b[0m\u001b[37m\u001b[0m \u001b[1m24s\u001b[0m 2ms/step - accuracy: 1.0000 - loss: 8.3591e-08\n",
            "Epoch 3/10\n",
            "\u001b[1m10818/10818\u001b[0m \u001b[32m━━━━━━━━━━━━━━━━━━━━\u001b[0m\u001b[37m\u001b[0m \u001b[1m41s\u001b[0m 2ms/step - accuracy: 1.0000 - loss: 1.7191e-08\n",
            "Epoch 4/10\n",
            "\u001b[1m10818/10818\u001b[0m \u001b[32m━━━━━━━━━━━━━━━━━━━━\u001b[0m\u001b[37m\u001b[0m \u001b[1m41s\u001b[0m 2ms/step - accuracy: 1.0000 - loss: 9.8025e-09\n",
            "Epoch 5/10\n",
            "\u001b[1m10818/10818\u001b[0m \u001b[32m━━━━━━━━━━━━━━━━━━━━\u001b[0m\u001b[37m\u001b[0m \u001b[1m25s\u001b[0m 2ms/step - accuracy: 1.0000 - loss: 6.8438e-09\n",
            "Epoch 6/10\n",
            "\u001b[1m10818/10818\u001b[0m \u001b[32m━━━━━━━━━━━━━━━━━━━━\u001b[0m\u001b[37m\u001b[0m \u001b[1m41s\u001b[0m 2ms/step - accuracy: 1.0000 - loss: 5.2919e-09\n",
            "Epoch 7/10\n",
            "\u001b[1m10818/10818\u001b[0m \u001b[32m━━━━━━━━━━━━━━━━━━━━\u001b[0m\u001b[37m\u001b[0m \u001b[1m41s\u001b[0m 2ms/step - accuracy: 1.0000 - loss: 4.3310e-09\n",
            "Epoch 8/10\n",
            "\u001b[1m10818/10818\u001b[0m \u001b[32m━━━━━━━━━━━━━━━━━━━━\u001b[0m\u001b[37m\u001b[0m \u001b[1m41s\u001b[0m 2ms/step - accuracy: 1.0000 - loss: 3.6127e-09\n",
            "Epoch 9/10\n",
            "\u001b[1m10818/10818\u001b[0m \u001b[32m━━━━━━━━━━━━━━━━━━━━\u001b[0m\u001b[37m\u001b[0m \u001b[1m41s\u001b[0m 2ms/step - accuracy: 1.0000 - loss: 3.1531e-09\n",
            "Epoch 10/10\n",
            "\u001b[1m10818/10818\u001b[0m \u001b[32m━━━━━━━━━━━━━━━━━━━━\u001b[0m\u001b[37m\u001b[0m \u001b[1m24s\u001b[0m 2ms/step - accuracy: 1.0000 - loss: 2.7647e-09\n",
            "\n",
            "Entrenando Skip-Gram: window=2, embed_dim=752\n",
            "Epoch 1/10\n",
            "\u001b[1m10818/10818\u001b[0m \u001b[32m━━━━━━━━━━━━━━━━━━━━\u001b[0m\u001b[37m\u001b[0m \u001b[1m33s\u001b[0m 3ms/step - accuracy: 0.9848 - loss: 0.0232\n",
            "Epoch 2/10\n",
            "\u001b[1m10818/10818\u001b[0m \u001b[32m━━━━━━━━━━━━━━━━━━━━\u001b[0m\u001b[37m\u001b[0m \u001b[1m40s\u001b[0m 3ms/step - accuracy: 1.0000 - loss: 2.3651e-06\n",
            "Epoch 3/10\n",
            "\u001b[1m10818/10818\u001b[0m \u001b[32m━━━━━━━━━━━━━━━━━━━━\u001b[0m\u001b[37m\u001b[0m \u001b[1m32s\u001b[0m 3ms/step - accuracy: 1.0000 - loss: 9.0806e-09\n",
            "Epoch 4/10\n",
            "\u001b[1m10818/10818\u001b[0m \u001b[32m━━━━━━━━━━━━━━━━━━━━\u001b[0m\u001b[37m\u001b[0m \u001b[1m31s\u001b[0m 3ms/step - accuracy: 1.0000 - loss: 5.3560e-09\n",
            "Epoch 5/10\n",
            "\u001b[1m10818/10818\u001b[0m \u001b[32m━━━━━━━━━━━━━━━━━━━━\u001b[0m\u001b[37m\u001b[0m \u001b[1m31s\u001b[0m 3ms/step - accuracy: 1.0000 - loss: 3.8675e-09\n",
            "Epoch 6/10\n",
            "\u001b[1m10818/10818\u001b[0m \u001b[32m━━━━━━━━━━━━━━━━━━━━\u001b[0m\u001b[37m\u001b[0m \u001b[1m41s\u001b[0m 3ms/step - accuracy: 1.0000 - loss: 3.0476e-09\n",
            "Epoch 7/10\n",
            "\u001b[1m10818/10818\u001b[0m \u001b[32m━━━━━━━━━━━━━━━━━━━━\u001b[0m\u001b[37m\u001b[0m \u001b[1m31s\u001b[0m 3ms/step - accuracy: 1.0000 - loss: 2.5248e-09\n",
            "Epoch 8/10\n",
            "\u001b[1m10818/10818\u001b[0m \u001b[32m━━━━━━━━━━━━━━━━━━━━\u001b[0m\u001b[37m\u001b[0m \u001b[1m41s\u001b[0m 3ms/step - accuracy: 1.0000 - loss: 2.1388e-09\n",
            "Epoch 9/10\n",
            "\u001b[1m10818/10818\u001b[0m \u001b[32m━━━━━━━━━━━━━━━━━━━━\u001b[0m\u001b[37m\u001b[0m \u001b[1m41s\u001b[0m 3ms/step - accuracy: 1.0000 - loss: 1.8599e-09\n",
            "Epoch 10/10\n",
            "\u001b[1m10818/10818\u001b[0m \u001b[32m━━━━━━━━━━━━━━━━━━━━\u001b[0m\u001b[37m\u001b[0m \u001b[1m31s\u001b[0m 3ms/step - accuracy: 1.0000 - loss: 1.6383e-09\n",
            "\n",
            "Entrenando Skip-Gram: window=4, embed_dim=45\n",
            "Epoch 1/10\n",
            "\u001b[1m19770/19770\u001b[0m \u001b[32m━━━━━━━━━━━━━━━━━━━━\u001b[0m\u001b[37m\u001b[0m \u001b[1m43s\u001b[0m 2ms/step - accuracy: 0.9905 - loss: 0.0164\n",
            "Epoch 2/10\n",
            "\u001b[1m19770/19770\u001b[0m \u001b[32m━━━━━━━━━━━━━━━━━━━━\u001b[0m\u001b[37m\u001b[0m \u001b[1m81s\u001b[0m 2ms/step - accuracy: 1.0000 - loss: 4.1672e-08\n",
            "Epoch 3/10\n",
            "\u001b[1m19770/19770\u001b[0m \u001b[32m━━━━━━━━━━━━━━━━━━━━\u001b[0m\u001b[37m\u001b[0m \u001b[1m82s\u001b[0m 2ms/step - accuracy: 1.0000 - loss: 1.4377e-08\n",
            "Epoch 4/10\n",
            "\u001b[1m19770/19770\u001b[0m \u001b[32m━━━━━━━━━━━━━━━━━━━━\u001b[0m\u001b[37m\u001b[0m \u001b[1m42s\u001b[0m 2ms/step - accuracy: 1.0000 - loss: 8.8929e-09\n",
            "Epoch 5/10\n",
            "\u001b[1m19770/19770\u001b[0m \u001b[32m━━━━━━━━━━━━━━━━━━━━\u001b[0m\u001b[37m\u001b[0m \u001b[1m86s\u001b[0m 2ms/step - accuracy: 1.0000 - loss: 6.4931e-09\n",
            "Epoch 6/10\n",
            "\u001b[1m19770/19770\u001b[0m \u001b[32m━━━━━━━━━━━━━━━━━━━━\u001b[0m\u001b[37m\u001b[0m \u001b[1m79s\u001b[0m 2ms/step - accuracy: 1.0000 - loss: 5.0334e-09\n",
            "Epoch 7/10\n",
            "\u001b[1m19770/19770\u001b[0m \u001b[32m━━━━━━━━━━━━━━━━━━━━\u001b[0m\u001b[37m\u001b[0m \u001b[1m81s\u001b[0m 2ms/step - accuracy: 1.0000 - loss: 4.1421e-09\n",
            "Epoch 8/10\n",
            "\u001b[1m19770/19770\u001b[0m \u001b[32m━━━━━━━━━━━━━━━━━━━━\u001b[0m\u001b[37m\u001b[0m \u001b[1m42s\u001b[0m 2ms/step - accuracy: 1.0000 - loss: 3.5148e-09\n",
            "Epoch 9/10\n",
            "\u001b[1m19770/19770\u001b[0m \u001b[32m━━━━━━━━━━━━━━━━━━━━\u001b[0m\u001b[37m\u001b[0m \u001b[1m42s\u001b[0m 2ms/step - accuracy: 1.0000 - loss: 3.0293e-09\n",
            "Epoch 10/10\n",
            "\u001b[1m19770/19770\u001b[0m \u001b[32m━━━━━━━━━━━━━━━━━━━━\u001b[0m\u001b[37m\u001b[0m \u001b[1m82s\u001b[0m 2ms/step - accuracy: 1.0000 - loss: 2.6875e-09\n",
            "\n",
            "Entrenando Skip-Gram: window=4, embed_dim=312\n",
            "Epoch 1/10\n",
            "\u001b[1m19770/19770\u001b[0m \u001b[32m━━━━━━━━━━━━━━━━━━━━\u001b[0m\u001b[37m\u001b[0m \u001b[1m46s\u001b[0m 2ms/step - accuracy: 0.9906 - loss: 0.0146\n",
            "Epoch 2/10\n",
            "\u001b[1m19770/19770\u001b[0m \u001b[32m━━━━━━━━━━━━━━━━━━━━\u001b[0m\u001b[37m\u001b[0m \u001b[1m82s\u001b[0m 2ms/step - accuracy: 1.0000 - loss: 1.6865e-08\n",
            "Epoch 3/10\n",
            "\u001b[1m19770/19770\u001b[0m \u001b[32m━━━━━━━━━━━━━━━━━━━━\u001b[0m\u001b[37m\u001b[0m \u001b[1m82s\u001b[0m 2ms/step - accuracy: 1.0000 - loss: 7.2140e-09\n",
            "Epoch 4/10\n",
            "\u001b[1m19770/19770\u001b[0m \u001b[32m━━━━━━━━━━━━━━━━━━━━\u001b[0m\u001b[37m\u001b[0m \u001b[1m46s\u001b[0m 2ms/step - accuracy: 1.0000 - loss: 4.6168e-09\n",
            "Epoch 5/10\n",
            "\u001b[1m19770/19770\u001b[0m \u001b[32m━━━━━━━━━━━━━━━━━━━━\u001b[0m\u001b[37m\u001b[0m \u001b[1m81s\u001b[0m 2ms/step - accuracy: 1.0000 - loss: 3.3964e-09\n",
            "Epoch 6/10\n",
            "\u001b[1m19770/19770\u001b[0m \u001b[32m━━━━━━━━━━━━━━━━━━━━\u001b[0m\u001b[37m\u001b[0m \u001b[1m83s\u001b[0m 2ms/step - accuracy: 1.0000 - loss: 2.7115e-09\n",
            "Epoch 7/10\n",
            "\u001b[1m19770/19770\u001b[0m \u001b[32m━━━━━━━━━━━━━━━━━━━━\u001b[0m\u001b[37m\u001b[0m \u001b[1m46s\u001b[0m 2ms/step - accuracy: 1.0000 - loss: 2.2541e-09\n",
            "Epoch 8/10\n",
            "\u001b[1m19770/19770\u001b[0m \u001b[32m━━━━━━━━━━━━━━━━━━━━\u001b[0m\u001b[37m\u001b[0m \u001b[1m80s\u001b[0m 2ms/step - accuracy: 1.0000 - loss: 1.9236e-09\n",
            "Epoch 9/10\n",
            "\u001b[1m19770/19770\u001b[0m \u001b[32m━━━━━━━━━━━━━━━━━━━━\u001b[0m\u001b[37m\u001b[0m \u001b[1m82s\u001b[0m 2ms/step - accuracy: 1.0000 - loss: 1.6895e-09\n",
            "Epoch 10/10\n",
            "\u001b[1m19770/19770\u001b[0m \u001b[32m━━━━━━━━━━━━━━━━━━━━\u001b[0m\u001b[37m\u001b[0m \u001b[1m46s\u001b[0m 2ms/step - accuracy: 1.0000 - loss: 1.4942e-09\n",
            "\n",
            "Entrenando Skip-Gram: window=4, embed_dim=752\n",
            "Epoch 1/10\n",
            "\u001b[1m19770/19770\u001b[0m \u001b[32m━━━━━━━━━━━━━━━━━━━━\u001b[0m\u001b[37m\u001b[0m \u001b[1m59s\u001b[0m 3ms/step - accuracy: 0.9906 - loss: 0.0146\n",
            "Epoch 2/10\n",
            "\u001b[1m19770/19770\u001b[0m \u001b[32m━━━━━━━━━━━━━━━━━━━━\u001b[0m\u001b[37m\u001b[0m \u001b[1m80s\u001b[0m 3ms/step - accuracy: 1.0000 - loss: 1.7753e-08\n",
            "Epoch 3/10\n",
            "\u001b[1m19770/19770\u001b[0m \u001b[32m━━━━━━━━━━━━━━━━━━━━\u001b[0m\u001b[37m\u001b[0m \u001b[1m61s\u001b[0m 3ms/step - accuracy: 1.0000 - loss: 3.8813e-09\n",
            "Epoch 4/10\n",
            "\u001b[1m19770/19770\u001b[0m \u001b[32m━━━━━━━━━━━━━━━━━━━━\u001b[0m\u001b[37m\u001b[0m \u001b[1m79s\u001b[0m 3ms/step - accuracy: 1.0000 - loss: 2.6100e-09\n",
            "Epoch 5/10\n",
            "\u001b[1m19770/19770\u001b[0m \u001b[32m━━━━━━━━━━━━━━━━━━━━\u001b[0m\u001b[37m\u001b[0m \u001b[1m81s\u001b[0m 3ms/step - accuracy: 1.0000 - loss: 1.9792e-09\n",
            "Epoch 6/10\n",
            "\u001b[1m19770/19770\u001b[0m \u001b[32m━━━━━━━━━━━━━━━━━━━━\u001b[0m\u001b[37m\u001b[0m \u001b[1m81s\u001b[0m 3ms/step - accuracy: 1.0000 - loss: 1.5876e-09\n",
            "Epoch 7/10\n",
            "\u001b[1m19770/19770\u001b[0m \u001b[32m━━━━━━━━━━━━━━━━━━━━\u001b[0m\u001b[37m\u001b[0m \u001b[1m57s\u001b[0m 3ms/step - accuracy: 1.0000 - loss: 1.3429e-09\n",
            "Epoch 8/10\n",
            "\u001b[1m19770/19770\u001b[0m \u001b[32m━━━━━━━━━━━━━━━━━━━━\u001b[0m\u001b[37m\u001b[0m \u001b[1m56s\u001b[0m 3ms/step - accuracy: 1.0000 - loss: 1.1526e-09\n",
            "Epoch 9/10\n",
            "\u001b[1m19770/19770\u001b[0m \u001b[32m━━━━━━━━━━━━━━━━━━━━\u001b[0m\u001b[37m\u001b[0m \u001b[1m84s\u001b[0m 3ms/step - accuracy: 1.0000 - loss: 1.0210e-09\n",
            "Epoch 10/10\n",
            "\u001b[1m19770/19770\u001b[0m \u001b[32m━━━━━━━━━━━━━━━━━━━━\u001b[0m\u001b[37m\u001b[0m \u001b[1m57s\u001b[0m 3ms/step - accuracy: 1.0000 - loss: 9.1056e-10\n"
          ]
        }
      ],
      "source": [
        "import numpy as np\n",
        "import tensorflow as tf\n",
        "from tensorflow.keras import Model\n",
        "from tensorflow.keras.layers import Input, Embedding, Dot, Reshape\n",
        "from tensorflow.keras.optimizers import Adam\n",
        "\n",
        "def build_skipgram_model(vocab_size,\n",
        "                         embedding_dim,\n",
        "                         learning_rate=0.025,\n",
        "                         beta_1=0.9,\n",
        "                         beta_2=0.999):\n",
        "    \"\"\"\n",
        "    Devuelve un modelo Skip-Gram compilado que:\n",
        "     - Recibe dos inputs enteros (target y context, cada uno shape=())\n",
        "     - Usa una capa Embedding compartida de tamaño (vocab_size, embedding_dim)\n",
        "     - Calcula el dot-product y pasa por sigmoide\n",
        "     - Usa binary_crossentropy + Adam\n",
        "    \"\"\"\n",
        "    # 1) capas de entrada (índice único por ejemplo)\n",
        "    target_input  = Input(shape=(), dtype='int32', name='target_input')\n",
        "    context_input = Input(shape=(), dtype='int32', name='context_input')\n",
        "\n",
        "    # 2) capa Embedding compartida\n",
        "    embed = Embedding(input_dim=vocab_size,\n",
        "                      output_dim=embedding_dim,\n",
        "                      input_length=1,\n",
        "                      name='shared_embedding',\n",
        "                      embeddings_initializer='glorot_uniform',\n",
        "                      trainable=True)\n",
        "\n",
        "    # 3) obtenemos los vectores embebidos y aplanamos\n",
        "    target_vec  = Reshape((embedding_dim,)) (embed(target_input))\n",
        "    context_vec = Reshape((embedding_dim,)) (embed(context_input))\n",
        "\n",
        "    # 4) puntuación = dot-product\n",
        "    dot_prod = Dot(axes=1, normalize=False, name='dot_product')(\n",
        "        [target_vec, context_vec]\n",
        "    )\n",
        "\n",
        "    # 5) salida sigmoide para predecir par positivo/negativo\n",
        "    output = Reshape((1,))(dot_prod)\n",
        "    output = tf.keras.activations.sigmoid(output)\n",
        "\n",
        "    # 6) construir y compilar modelo\n",
        "    model = Model(inputs=[target_input, context_input], outputs=output, name=f\"skipgram_{embedding_dim}\")\n",
        "    model.compile(\n",
        "        loss='binary_crossentropy',\n",
        "        optimizer=Adam(learning_rate=learning_rate, beta_1=beta_1, beta_2=beta_2),\n",
        "        metrics=['accuracy']\n",
        "    )\n",
        "    return model\n",
        "\n",
        "# --------------------------------------------------------------\n",
        "# Ejemplo de entrenamiento de los 6 modelos (3 dims × 2 ventanas)\n",
        "# --------------------------------------------------------------\n",
        "embedding_dims = [45, 312, 752]\n",
        "window_sizes   = [2, 4]\n",
        "histories      = {}\n",
        "\n",
        "for w in window_sizes:\n",
        "    X_target, X_context = datasets[w]['X_train']\n",
        "    y_train             = datasets[w]['y_train']\n",
        "\n",
        "    for ed in embedding_dims:\n",
        "        print(f\"\\nEntrenando Skip-Gram: window={w}, embed_dim={ed}\")\n",
        "\n",
        "        # 1) construir\n",
        "        model = build_skipgram_model(vocab_size=vocab_size,\n",
        "                                     embedding_dim=ed,\n",
        "                                     learning_rate=0.025)\n",
        "\n",
        "        # 2) entrenar\n",
        "        history = model.fit(\n",
        "            x=[X_target, X_context],\n",
        "            y=y_train,\n",
        "            batch_size=BATCH_SIZE,\n",
        "            epochs=10,                # ajusta número de épocas\n",
        "            verbose=1\n",
        "        )\n",
        "\n",
        "        # 3) guardar historia y modelo\n",
        "        histories[(w, ed)] = history\n",
        "\n",
        "# Ahora `histories[(w,ed)].history['loss']` contiene la curva de pérdida\n"
      ]
    },
    {
      "cell_type": "markdown",
      "source": [
        "## Resultados"
      ],
      "metadata": {
        "id": "yZGv1W861ip1"
      },
      "id": "yZGv1W861ip1"
    },
    {
      "cell_type": "markdown",
      "source": [
        "### Variación de la pérdida"
      ],
      "metadata": {
        "id": "CRAKhZda1oe6"
      },
      "id": "CRAKhZda1oe6"
    },
    {
      "cell_type": "code",
      "execution_count": 8,
      "id": "f94daa88",
      "metadata": {
        "id": "f94daa88",
        "outputId": "eba395c9-4505-40e3-eeba-d5c52735755d",
        "colab": {
          "base_uri": "https://localhost:8080/",
          "height": 569
        }
      },
      "outputs": [
        {
          "output_type": "display_data",
          "data": {
            "text/plain": [
              "<Figure size 1200x600 with 1 Axes>"
            ],
            "image/png": "[encoded data removed]"
          },
          "metadata": {}
        }
      ],
      "source": [
        "import matplotlib.pyplot as plt\n",
        "\n",
        "# Dimensiones de embedding y tamaños de ventana usados\n",
        "embedding_dims = [45, 312, 752]\n",
        "window_sizes   = [2, 4]\n",
        "\n",
        "plt.figure(figsize=(12, 6))\n",
        "\n",
        "for w in window_sizes:\n",
        "    for ed in embedding_dims:\n",
        "        key = (w, ed)\n",
        "        if key not in histories:\n",
        "            print(f'⚠️ No se encontró historial para ventana={w}, embedding={ed}')\n",
        "            continue\n",
        "\n",
        "        loss_values = histories[key].history['loss']\n",
        "        plt.plot(\n",
        "            loss_values,\n",
        "            label=f'win={w}, emb={ed}'\n",
        "        )\n",
        "\n",
        "plt.title('Evolución de la pérdida durante el entrenamiento')\n",
        "plt.xlabel('Épocas')\n",
        "plt.ylabel('Binary Crossentropy Loss')\n",
        "plt.legend(title='Modelo (ventana, dimensión)')\n",
        "plt.grid(True)\n",
        "plt.tight_layout()\n",
        "plt.show()\n"
      ]
    },
    {
      "cell_type": "markdown",
      "source": [
        "### 10 palabras con más significado\n",
        "\n",
        " Listado de las 10 palabras más usadas que efectivamente representan nombres o conceptos clave en tu corpus. Este filtro por POS garantiza que excluyas términos funcionales y te concentres en las entidades y sustantivos que aportan verdadero “significado” al análisis.\n"
      ],
      "metadata": {
        "id": "6H5c05ba3m_K"
      },
      "id": "6H5c05ba3m_K"
    },
    {
      "cell_type": "code",
      "source": [
        "import spacy\n",
        "from collections import Counter\n",
        "\n",
        "# 1) Cargamos el modelo de spaCy para inglés\n",
        "nlp = spacy.load(\"en_core_web_sm\", disable=[\"parser\", \"ner\"])\n",
        "\n",
        "# 2) Definimos stopwords (por ejemplo las de spaCy + extras)\n",
        "stopwords = nlp.Defaults.stop_words.union({\n",
        "    'http', 'https', 'rt', 'co','nan','com'  # añade tokens no léxicos\n",
        "})\n",
        "\n",
        "# 3) Recorremos el word_counts ordenado por frecuencia\n",
        "meaningful = []\n",
        "for word, freq in word_counts.most_common():\n",
        "    if word in stopwords or len(word) < 2:\n",
        "        continue\n",
        "    # POS‐tagging de la palabra aislada\n",
        "    token = nlp(word)[0]\n",
        "    if token.pos_ in {\"NOUN\", \"PROPN\"}:\n",
        "        meaningful.append((word, freq))\n",
        "    if len(meaningful) >= 10:\n",
        "        break\n",
        "\n",
        "# 4) Resultado\n",
        "print(\"Top 10 palabras con significado (spaCy):\")\n",
        "for w, f in meaningful:\n",
        "    print(f\"{w}: {f}\")\n"
      ],
      "metadata": {
        "id": "TMHMnjEN3q4u",
        "outputId": "7c6ed2e2-ca7d-4d8d-f17d-9764a54a26ba",
        "colab": {
          "base_uri": "https://localhost:8080/"
        }
      },
      "id": "TMHMnjEN3q4u",
      "execution_count": 11,
      "outputs": [
        {
          "output_type": "stream",
          "name": "stdout",
          "text": [
            "Top 10 palabras con significado (spaCy):\n",
            "day: 2349\n",
            "love: 1304\n",
            "today: 1273\n",
            "lol: 1149\n",
            "time: 1080\n",
            "don: 993\n",
            "night: 878\n",
            "home: 825\n",
            "thanks: 768\n",
            "hope: 682\n"
          ]
        }
      ]
    },
    {
      "cell_type": "markdown",
      "source": [
        "### Operaciones con los embeddings"
      ],
      "metadata": {
        "id": "3MvyXBIx6TNr"
      },
      "id": "3MvyXBIx6TNr"
    },
    {
      "cell_type": "markdown",
      "source": [
        "#### Comparación de las 10 palabras seleccionadas"
      ],
      "metadata": {
        "id": "XQytsn4r6XZE"
      },
      "id": "XQytsn4r6XZE"
    },
    {
      "cell_type": "code",
      "source": [
        "import numpy as np\n",
        "import pandas as pd\n",
        "import matplotlib.pyplot as plt\n",
        "import seaborn as sns\n",
        "from sklearn.metrics.pairwise import cosine_similarity\n",
        "\n",
        "# Suponemos que ya tienes:\n",
        "#  - model: tu Skip-Gram entrenado (p.ej. build_skipgram_model con window=2, embedding_dim=312)\n",
        "#  - word2idx: diccionario palabra→índice\n",
        "#  - meaningful: lista de tuples [(word, freq), ...] con tus 10 palabras\n",
        "\n",
        "# Extraemos solo las 10 palabras\n",
        "words_10 = [w for w, _ in meaningful[:10]]\n",
        "\n",
        "# 1) Obtenemos la matriz de embeddings (vocab_size × embedding_dim)\n",
        "embedding_layer = model.get_layer('shared_embedding')\n",
        "embeddings = embedding_layer.get_weights()[0]\n",
        "\n",
        "# 2) Recopilamos los vectores de las 10 palabras\n",
        "vectors_10 = []\n",
        "for w in words_10:\n",
        "    idx = word2idx.get(w)\n",
        "    if idx is not None and idx < embeddings.shape[0]:\n",
        "        vectors_10.append(embeddings[idx])\n",
        "    else:\n",
        "        # Si la palabra no existe en el vocabulario, usamos un vector cero\n",
        "        vectors_10.append(np.zeros(embeddings.shape[1], dtype=float))\n",
        "vectors_10 = np.vstack(vectors_10)\n",
        "\n",
        "# 3) Calculamos la similitud coseno\n",
        "sim_matrix = cosine_similarity(vectors_10)\n",
        "\n",
        "# 4) Presentamos los resultados en un DataFrame\n",
        "df_sim = pd.DataFrame(\n",
        "    sim_matrix,\n",
        "    index=words_10,\n",
        "    columns=words_10\n",
        ")\n",
        "\n",
        "# 1) Calcula la matriz de similitud coseno\n",
        "sim_matrix = cosine_similarity(vectors_10)\n",
        "\n",
        "# 2) Construye el DataFrame\n",
        "df_sim = pd.DataFrame(sim_matrix, index=words_10, columns=words_10)\n",
        "\n",
        "# 3) Crea una máscara para la mitad superior\n",
        "mask = np.triu(np.ones_like(df_sim, dtype=bool))\n",
        "\n",
        "# 4) Dibuja el heatmap\n",
        "plt.figure(figsize=(8, 6))\n",
        "sns.heatmap(\n",
        "    df_sim,\n",
        "    mask=mask,\n",
        "    annot=True,\n",
        "    fmt=\".2f\",\n",
        "    cmap=\"twilight_shifted\",\n",
        "    center=0,\n",
        "    square=True,\n",
        "    linewidths=.5,\n",
        "    cbar_kws={\"shrink\": .8}\n",
        ")\n",
        "plt.title(\"Similitud coseno (mitad inferior)\");\n",
        "plt.xlabel(\"Palabra\");\n",
        "plt.ylabel(\"Palabra\")\n",
        "plt.xticks(rotation=45, ha=\"right\")\n",
        "plt.yticks(rotation=0)\n",
        "plt.tight_layout()\n",
        "plt.show()\n"
      ],
      "metadata": {
        "id": "kwkkVRw16miJ",
        "outputId": "af9f68b2-43f9-4f0f-9c99-7d9e3151585f",
        "colab": {
          "base_uri": "https://localhost:8080/",
          "height": 607
        }
      },
      "id": "kwkkVRw16miJ",
      "execution_count": 19,
      "outputs": [
        {
          "output_type": "display_data",
          "data": {
            "text/plain": [
              "<Figure size 800x600 with 2 Axes>"
            ],
            "image/png": "[encoded data removed]"
          },
          "metadata": {}
        }
      ]
    },
    {
      "cell_type": "markdown",
      "source": [
        "#### Mirar 3 grupos de palabras similares"
      ],
      "metadata": {
        "id": "4R2JH1ED6fMi"
      },
      "id": "4R2JH1ED6fMi"
    },
    {
      "cell_type": "code",
      "source": [
        "import numpy as np\n",
        "import pandas as pd\n",
        "import matplotlib.pyplot as plt\n",
        "import seaborn as sns\n",
        "from sklearn.metrics.pairwise import cosine_similarity\n",
        "\n",
        "# 1) Definición de los tres grupos y de sus índices\n",
        "group1 = [4723, 6892, 7183, 7890, 3841]        # aaaah, aaah, aaahhh, aaawww, aah\n",
        "group2 = [7532, 505, 625, 5254, 2062]          # leon, dog, cat, wolf, horse\n",
        "group3 = [5817, 1191, 1330, 5817, 140]         # avenue, road, street, avenue, way\n",
        "\n",
        "all_indices = group1 + group2 + group3\n",
        "\n",
        "# 2) Construir la lista de palabras usando idx2word (invertido de word2idx)\n",
        "idx2word = {idx: w for w, idx in word2idx.items()}\n",
        "words_15 = [idx2word.get(i, f\"idx{i}\") for i in all_indices]\n",
        "\n",
        "# 3) Extraer la matriz de embeddings del modelo ya entrenado\n",
        "emb_layer = model.get_layer('shared_embedding')\n",
        "emb_matrix = emb_layer.get_weights()[0]        # forma = (vocab_size, embedding_dim)\n",
        "\n",
        "# 4) Recoger los vectores para las 15 palabras\n",
        "vectors_15 = []\n",
        "for idx in all_indices:\n",
        "    if idx < emb_matrix.shape[0]:\n",
        "        vectors_15.append(emb_matrix[idx])\n",
        "    else:\n",
        "        vectors_15.append(np.zeros(emb_matrix.shape[1]))\n",
        "vectors_15 = np.vstack(vectors_15)\n",
        "\n",
        "# 5) Calcular similitud coseno y distancia (1–coseno)\n",
        "sim_matrix = cosine_similarity(vectors_15)\n",
        "dist_matrix = 1 - sim_matrix\n",
        "\n",
        "# 6) DataFrame para visualización\n",
        "df_sim  = pd.DataFrame(sim_matrix, index=words_15, columns=words_15)\n",
        "df_dist = pd.DataFrame(dist_matrix, index=words_15, columns=words_15)\n",
        "\n",
        "# 7) Heatmap de similitud (mitad inferior)\n",
        "mask = np.triu(np.ones_like(df_sim, dtype=bool))\n",
        "plt.figure(figsize=(10, 8))\n",
        "sns.heatmap(df_sim, mask=mask, annot=True, fmt=\".2f\",\n",
        "            cmap=\"viridis\", square=True, cbar_kws={'shrink':.8})\n",
        "plt.title(\"Similitud coseno entre 15 palabras (3 grupos)\")\n",
        "plt.xticks(rotation=45, ha=\"right\")\n",
        "plt.yticks(rotation=0)\n",
        "plt.tight_layout()\n",
        "plt.show()\n",
        "\n",
        "# 8) Mostrar la matriz de distancias\n",
        "print(\"Matriz de distancias (1–coseno):\")\n",
        "display(df_dist.round(2))\n",
        "\n"
      ],
      "metadata": {
        "id": "BW_OKCEq6WU7",
        "outputId": "d9caedbf-17b0-4474-a381-ebb88c7d3ef6",
        "colab": {
          "base_uri": "https://localhost:8080/",
          "height": 211
        }
      },
      "id": "BW_OKCEq6WU7",
      "execution_count": 20,
      "outputs": [
        {
          "output_type": "error",
          "ename": "TypeError",
          "evalue": "AgglomerativeClustering.__init__() got an unexpected keyword argument 'affinity'",
          "traceback": [
            "\u001b[0;31m---------------------------------------------------------------------------\u001b[0m",
            "\u001b[0;31mTypeError\u001b[0m                                 Traceback (most recent call last)",
            "\u001b[0;32m<ipython-input-20-8dbaa57a8ab4>\u001b[0m in \u001b[0;36m<cell line: 0>\u001b[0;34m()\u001b[0m\n\u001b[1;32m     11\u001b[0m \u001b[0;34m\u001b[0m\u001b[0m\n\u001b[1;32m     12\u001b[0m \u001b[0;31m# 1) Agrupamos en 3 clusters basados en cosine-distance\u001b[0m\u001b[0;34m\u001b[0m\u001b[0;34m\u001b[0m\u001b[0m\n\u001b[0;32m---> 13\u001b[0;31m clust = AgglomerativeClustering(\n\u001b[0m\u001b[1;32m     14\u001b[0m     \u001b[0mn_clusters\u001b[0m\u001b[0;34m=\u001b[0m\u001b[0;36m3\u001b[0m\u001b[0;34m,\u001b[0m\u001b[0;34m\u001b[0m\u001b[0;34m\u001b[0m\u001b[0m\n\u001b[1;32m     15\u001b[0m     \u001b[0maffinity\u001b[0m\u001b[0;34m=\u001b[0m\u001b[0;34m'cosine'\u001b[0m\u001b[0;34m,\u001b[0m\u001b[0;34m\u001b[0m\u001b[0;34m\u001b[0m\u001b[0m\n",
            "\u001b[0;31mTypeError\u001b[0m: AgglomerativeClustering.__init__() got an unexpected keyword argument 'affinity'"
          ]
        }
      ]
    }
  ],
  "metadata": {
    "kernelspec": {
      "display_name": "Python 3",
      "name": "python3"
    },
    "language_info": {
      "codemirror_mode": {
        "name": "ipython",
        "version": 3
      },
      "file_extension": ".py",
      "mimetype": "text/x-python",
      "name": "python",
      "nbconvert_exporter": "python",
      "pygments_lexer": "ipython3",
      "version": "3.12.8"
    },
    "colab": {
      "provenance": [],
      "toc_visible": true,
      "gpuType": "T4"
    },
    "accelerator": "GPU"
  },
  "nbformat": 4,
  "nbformat_minor": 5
}