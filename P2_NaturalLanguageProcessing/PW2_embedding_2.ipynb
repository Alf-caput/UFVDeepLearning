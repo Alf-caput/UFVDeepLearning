{
  "cells": [
    {
      "cell_type": "markdown",
      "id": "5c968420",
      "metadata": {
        "id": "5c968420"
      },
      "source": [
        "# Practica 2 - Natural Language processing"
      ]
    },
    {
      "cell_type": "code",
      "source": [
        "!pip install tensorflow"
      ],
      "metadata": {
        "colab": {
          "base_uri": "https://localhost:8080/"
        },
        "id": "qewyVvQ32m1M",
        "outputId": "4adec8ca-ae77-42bd-85e0-e441f0cb89d9"
      },
      "id": "qewyVvQ32m1M",
      "execution_count": 2,
      "outputs": [
        {
          "output_type": "stream",
          "name": "stdout",
          "text": [
            "Requirement already satisfied: tensorflow in /usr/local/lib/python3.11/dist-packages (2.18.0)\n",
            "Requirement already satisfied: absl-py>=1.0.0 in /usr/local/lib/python3.11/dist-packages (from tensorflow) (1.4.0)\n",
            "Requirement already satisfied: astunparse>=1.6.0 in /usr/local/lib/python3.11/dist-packages (from tensorflow) (1.6.3)\n",
            "Requirement already satisfied: flatbuffers>=24.3.25 in /usr/local/lib/python3.11/dist-packages (from tensorflow) (25.2.10)\n",
            "Requirement already satisfied: gast!=0.5.0,!=0.5.1,!=0.5.2,>=0.2.1 in /usr/local/lib/python3.11/dist-packages (from tensorflow) (0.6.0)\n",
            "Requirement already satisfied: google-pasta>=0.1.1 in /usr/local/lib/python3.11/dist-packages (from tensorflow) (0.2.0)\n",
            "Requirement already satisfied: libclang>=13.0.0 in /usr/local/lib/python3.11/dist-packages (from tensorflow) (18.1.1)\n",
            "Requirement already satisfied: opt-einsum>=2.3.2 in /usr/local/lib/python3.11/dist-packages (from tensorflow) (3.4.0)\n",
            "Requirement already satisfied: packaging in /usr/local/lib/python3.11/dist-packages (from tensorflow) (24.2)\n",
            "Requirement already satisfied: protobuf!=4.21.0,!=4.21.1,!=4.21.2,!=4.21.3,!=4.21.4,!=4.21.5,<6.0.0dev,>=3.20.3 in /usr/local/lib/python3.11/dist-packages (from tensorflow) (5.29.4)\n",
            "Requirement already satisfied: requests<3,>=2.21.0 in /usr/local/lib/python3.11/dist-packages (from tensorflow) (2.32.3)\n",
            "Requirement already satisfied: setuptools in /usr/local/lib/python3.11/dist-packages (from tensorflow) (75.2.0)\n",
            "Requirement already satisfied: six>=1.12.0 in /usr/local/lib/python3.11/dist-packages (from tensorflow) (1.17.0)\n",
            "Requirement already satisfied: termcolor>=1.1.0 in /usr/local/lib/python3.11/dist-packages (from tensorflow) (3.1.0)\n",
            "Requirement already satisfied: typing-extensions>=3.6.6 in /usr/local/lib/python3.11/dist-packages (from tensorflow) (4.13.2)\n",
            "Requirement already satisfied: wrapt>=1.11.0 in /usr/local/lib/python3.11/dist-packages (from tensorflow) (1.17.2)\n",
            "Requirement already satisfied: grpcio<2.0,>=1.24.3 in /usr/local/lib/python3.11/dist-packages (from tensorflow) (1.71.0)\n",
            "Requirement already satisfied: tensorboard<2.19,>=2.18 in /usr/local/lib/python3.11/dist-packages (from tensorflow) (2.18.0)\n",
            "Requirement already satisfied: keras>=3.5.0 in /usr/local/lib/python3.11/dist-packages (from tensorflow) (3.8.0)\n",
            "Requirement already satisfied: numpy<2.1.0,>=1.26.0 in /usr/local/lib/python3.11/dist-packages (from tensorflow) (2.0.2)\n",
            "Requirement already satisfied: h5py>=3.11.0 in /usr/local/lib/python3.11/dist-packages (from tensorflow) (3.13.0)\n",
            "Requirement already satisfied: ml-dtypes<0.5.0,>=0.4.0 in /usr/local/lib/python3.11/dist-packages (from tensorflow) (0.4.1)\n",
            "Requirement already satisfied: tensorflow-io-gcs-filesystem>=0.23.1 in /usr/local/lib/python3.11/dist-packages (from tensorflow) (0.37.1)\n",
            "Requirement already satisfied: wheel<1.0,>=0.23.0 in /usr/local/lib/python3.11/dist-packages (from astunparse>=1.6.0->tensorflow) (0.45.1)\n",
            "Requirement already satisfied: rich in /usr/local/lib/python3.11/dist-packages (from keras>=3.5.0->tensorflow) (13.9.4)\n",
            "Requirement already satisfied: namex in /usr/local/lib/python3.11/dist-packages (from keras>=3.5.0->tensorflow) (0.0.9)\n",
            "Requirement already satisfied: optree in /usr/local/lib/python3.11/dist-packages (from keras>=3.5.0->tensorflow) (0.15.0)\n",
            "Requirement already satisfied: charset-normalizer<4,>=2 in /usr/local/lib/python3.11/dist-packages (from requests<3,>=2.21.0->tensorflow) (3.4.1)\n",
            "Requirement already satisfied: idna<4,>=2.5 in /usr/local/lib/python3.11/dist-packages (from requests<3,>=2.21.0->tensorflow) (3.10)\n",
            "Requirement already satisfied: urllib3<3,>=1.21.1 in /usr/local/lib/python3.11/dist-packages (from requests<3,>=2.21.0->tensorflow) (2.4.0)\n",
            "Requirement already satisfied: certifi>=2017.4.17 in /usr/local/lib/python3.11/dist-packages (from requests<3,>=2.21.0->tensorflow) (2025.4.26)\n",
            "Requirement already satisfied: markdown>=2.6.8 in /usr/local/lib/python3.11/dist-packages (from tensorboard<2.19,>=2.18->tensorflow) (3.8)\n",
            "Requirement already satisfied: tensorboard-data-server<0.8.0,>=0.7.0 in /usr/local/lib/python3.11/dist-packages (from tensorboard<2.19,>=2.18->tensorflow) (0.7.2)\n",
            "Requirement already satisfied: werkzeug>=1.0.1 in /usr/local/lib/python3.11/dist-packages (from tensorboard<2.19,>=2.18->tensorflow) (3.1.3)\n",
            "Requirement already satisfied: MarkupSafe>=2.1.1 in /usr/local/lib/python3.11/dist-packages (from werkzeug>=1.0.1->tensorboard<2.19,>=2.18->tensorflow) (3.0.2)\n",
            "Requirement already satisfied: markdown-it-py>=2.2.0 in /usr/local/lib/python3.11/dist-packages (from rich->keras>=3.5.0->tensorflow) (3.0.0)\n",
            "Requirement already satisfied: pygments<3.0.0,>=2.13.0 in /usr/local/lib/python3.11/dist-packages (from rich->keras>=3.5.0->tensorflow) (2.19.1)\n",
            "Requirement already satisfied: mdurl~=0.1 in /usr/local/lib/python3.11/dist-packages (from markdown-it-py>=2.2.0->rich->keras>=3.5.0->tensorflow) (0.1.2)\n"
          ]
        }
      ]
    },
    {
      "cell_type": "code",
      "source": [
        "import numpy as np\n",
        "\n",
        "import tensorflow as tf\n",
        "\n",
        "import pandas as pd\n",
        "from collections import Counter\n",
        "import re\n",
        "\n",
        "from tensorflow import keras\n",
        "\n",
        "\n",
        "import numpy as np\n",
        "import tensorflow as tf\n",
        "\n",
        "from tensorflow import keras\n",
        "from tensorflow.keras.utils import to_categorical\n",
        "\n",
        "from tensorflow.keras import Model, Input, layers\n",
        "from tensorflow.keras.layers import Embedding, Dot, Reshape, Dense\n",
        "\n",
        "from tensorflow.keras.preprocessing.text import Tokenizer\n",
        "from tensorflow.keras.preprocessing.sequence import skipgrams\n",
        "\n",
        "from keras.callbacks import TensorBoard\n",
        "\n",
        "import re\n",
        "from collections import Counter\n",
        "from tensorflow.keras.preprocessing.text import Tokenizer\n",
        "\n",
        "import numpy as np\n",
        "from tensorflow.keras.preprocessing.sequence import skipgrams"
      ],
      "metadata": {
        "id": "9sme3605sBSj"
      },
      "id": "9sme3605sBSj",
      "execution_count": 3,
      "outputs": []
    },
    {
      "cell_type": "code",
      "source": [
        "import gdown\n",
        "import os\n",
        "\n",
        "# Crear el directorio de datos si no existe\n",
        "data_dir = \"data\"\n",
        "if not os.path.exists(data_dir):\n",
        "    os.makedirs(data_dir)\n",
        "\n",
        "# URL de Google Drive en formato correcto para gdown\n",
        "url = \"https://drive.google.com/uc?id=1GXSUzaXDvrlcimgTwRR9tmDr6xr8gu49\"\n",
        "zip_filename = \"sentiment_analysis.zip\"\n",
        "zip_path = os.path.join(data_dir, zip_filename)\n",
        "\n",
        "# Descargar el archivo\n",
        "if not os.path.exists(zip_path):\n",
        "    gdown.download(url, zip_path, quiet=False)\n",
        "else:\n",
        "    print(\"Data zipfile already exists\")"
      ],
      "metadata": {
        "colab": {
          "base_uri": "https://localhost:8080/"
        },
        "id": "C3HonUdDiquT",
        "outputId": "0fc1c84f-49ef-4ddc-c2a4-a3296589dbd1"
      },
      "id": "C3HonUdDiquT",
      "execution_count": 4,
      "outputs": [
        {
          "output_type": "stream",
          "name": "stderr",
          "text": [
            "Downloading...\n",
            "From: https://drive.google.com/uc?id=1GXSUzaXDvrlcimgTwRR9tmDr6xr8gu49\n",
            "To: /content/data/sentiment_analysis.zip\n",
            "100%|██████████| 1.86M/1.86M [00:00<00:00, 103MB/s]\n"
          ]
        }
      ]
    },
    {
      "cell_type": "code",
      "source": [
        "import shutil\n",
        "from zipfile import ZipFile\n",
        "from concurrent.futures import ThreadPoolExecutor\n",
        "\n",
        "data_dir = \"data\"\n",
        "zip_filename = \"sentiment_analysis.zip\"\n",
        "zip_path = os.path.join(data_dir, zip_filename)\n",
        "files = [\"train.csv\", \"test.csv\"]\n",
        "full_paths = [os.path.join(data_dir, file) for file in files]\n",
        "\n",
        "if not all(os.path.isfile(path) for path in full_paths):\n",
        "    with ZipFile(zip_path, 'r') as zf:\n",
        "        with ThreadPoolExecutor() as exe:\n",
        "            for file in zf.namelist():\n",
        "                if not file.startswith(\"__MACOSX\"):\n",
        "                    exe.submit(zf.extract, file, path=data_dir)\n",
        "else:\n",
        "    print(\"test and train files already exist\")"
      ],
      "metadata": {
        "id": "fBNIbhvSmW-C"
      },
      "id": "fBNIbhvSmW-C",
      "execution_count": 5,
      "outputs": []
    },
    {
      "cell_type": "code",
      "execution_count": 6,
      "id": "61a5800b",
      "metadata": {
        "id": "61a5800b",
        "outputId": "1b75911d-ec50-4bc7-f97d-58d595dfc70e",
        "colab": {
          "base_uri": "https://localhost:8080/",
          "height": 376
        }
      },
      "outputs": [
        {
          "output_type": "execute_result",
          "data": {
            "text/plain": [
              "                                                         text  \\\n",
              "textID                                                          \n",
              "cb774db0d1                I`d have responded, if I were going   \n",
              "549e992a42      Sooo SAD I will miss you here in San Diego!!!   \n",
              "088c60f138                          my boss is bullying me...   \n",
              "9642c003ef                     what interview! leave me alone   \n",
              "358bd9e861   Sons of ****, why couldn`t they put them on t...   \n",
              "\n",
              "                                  selected_text sentiment Time of Tweet  \\\n",
              "textID                                                                    \n",
              "cb774db0d1  I`d have responded, if I were going   neutral       morning   \n",
              "549e992a42                             Sooo SAD  negative          noon   \n",
              "088c60f138                          bullying me  negative         night   \n",
              "9642c003ef                       leave me alone  negative       morning   \n",
              "358bd9e861                        Sons of ****,  negative          noon   \n",
              "\n",
              "           Age of User      Country  Population -2020  Land Area (Km²)  \\\n",
              "textID                                                                   \n",
              "cb774db0d1        0-20  Afghanistan          38928346         652860.0   \n",
              "549e992a42       21-30      Albania           2877797          27400.0   \n",
              "088c60f138       31-45      Algeria          43851044        2381740.0   \n",
              "9642c003ef       46-60      Andorra             77265            470.0   \n",
              "358bd9e861       60-70       Angola          32866272        1246700.0   \n",
              "\n",
              "            Density (P/Km²)  \n",
              "textID                       \n",
              "cb774db0d1               60  \n",
              "549e992a42              105  \n",
              "088c60f138               18  \n",
              "9642c003ef              164  \n",
              "358bd9e861               26  "
            ],
            "text/html": [
              "\n",
              "  <div id=\"df-1cef0230-6a66-4d71-b5e7-3c7f1e4471d5\" class=\"colab-df-container\">\n",
              "    <div>\n",
              "<style scoped>\n",
              "    .dataframe tbody tr th:only-of-type {\n",
              "        vertical-align: middle;\n",
              "    }\n",
              "\n",
              "    .dataframe tbody tr th {\n",
              "        vertical-align: top;\n",
              "    }\n",
              "\n",
              "    .dataframe thead th {\n",
              "        text-align: right;\n",
              "    }\n",
              "</style>\n",
              "<table border=\"1\" class=\"dataframe\">\n",
              "  <thead>\n",
              "    <tr style=\"text-align: right;\">\n",
              "      <th></th>\n",
              "      <th>text</th>\n",
              "      <th>selected_text</th>\n",
              "      <th>sentiment</th>\n",
              "      <th>Time of Tweet</th>\n",
              "      <th>Age of User</th>\n",
              "      <th>Country</th>\n",
              "      <th>Population -2020</th>\n",
              "      <th>Land Area (Km²)</th>\n",
              "      <th>Density (P/Km²)</th>\n",
              "    </tr>\n",
              "    <tr>\n",
              "      <th>textID</th>\n",
              "      <th></th>\n",
              "      <th></th>\n",
              "      <th></th>\n",
              "      <th></th>\n",
              "      <th></th>\n",
              "      <th></th>\n",
              "      <th></th>\n",
              "      <th></th>\n",
              "      <th></th>\n",
              "    </tr>\n",
              "  </thead>\n",
              "  <tbody>\n",
              "    <tr>\n",
              "      <th>cb774db0d1</th>\n",
              "      <td>I`d have responded, if I were going</td>\n",
              "      <td>I`d have responded, if I were going</td>\n",
              "      <td>neutral</td>\n",
              "      <td>morning</td>\n",
              "      <td>0-20</td>\n",
              "      <td>Afghanistan</td>\n",
              "      <td>38928346</td>\n",
              "      <td>652860.0</td>\n",
              "      <td>60</td>\n",
              "    </tr>\n",
              "    <tr>\n",
              "      <th>549e992a42</th>\n",
              "      <td>Sooo SAD I will miss you here in San Diego!!!</td>\n",
              "      <td>Sooo SAD</td>\n",
              "      <td>negative</td>\n",
              "      <td>noon</td>\n",
              "      <td>21-30</td>\n",
              "      <td>Albania</td>\n",
              "      <td>2877797</td>\n",
              "      <td>27400.0</td>\n",
              "      <td>105</td>\n",
              "    </tr>\n",
              "    <tr>\n",
              "      <th>088c60f138</th>\n",
              "      <td>my boss is bullying me...</td>\n",
              "      <td>bullying me</td>\n",
              "      <td>negative</td>\n",
              "      <td>night</td>\n",
              "      <td>31-45</td>\n",
              "      <td>Algeria</td>\n",
              "      <td>43851044</td>\n",
              "      <td>2381740.0</td>\n",
              "      <td>18</td>\n",
              "    </tr>\n",
              "    <tr>\n",
              "      <th>9642c003ef</th>\n",
              "      <td>what interview! leave me alone</td>\n",
              "      <td>leave me alone</td>\n",
              "      <td>negative</td>\n",
              "      <td>morning</td>\n",
              "      <td>46-60</td>\n",
              "      <td>Andorra</td>\n",
              "      <td>77265</td>\n",
              "      <td>470.0</td>\n",
              "      <td>164</td>\n",
              "    </tr>\n",
              "    <tr>\n",
              "      <th>358bd9e861</th>\n",
              "      <td>Sons of ****, why couldn`t they put them on t...</td>\n",
              "      <td>Sons of ****,</td>\n",
              "      <td>negative</td>\n",
              "      <td>noon</td>\n",
              "      <td>60-70</td>\n",
              "      <td>Angola</td>\n",
              "      <td>32866272</td>\n",
              "      <td>1246700.0</td>\n",
              "      <td>26</td>\n",
              "    </tr>\n",
              "  </tbody>\n",
              "</table>\n",
              "</div>\n",
              "    <div class=\"colab-df-buttons\">\n",
              "\n",
              "  <div class=\"colab-df-container\">\n",
              "    <button class=\"colab-df-convert\" onclick=\"convertToInteractive('df-1cef0230-6a66-4d71-b5e7-3c7f1e4471d5')\"\n",
              "            title=\"Convert this dataframe to an interactive table.\"\n",
              "            style=\"display:none;\">\n",
              "\n",
              "  <svg xmlns=\"http://www.w3.org/2000/svg\" height=\"24px\" viewBox=\"0 -960 960 960\">\n",
              "    <path d=\"M120-120v-720h720v720H120Zm60-500h600v-160H180v160Zm220 220h160v-160H400v160Zm0 220h160v-160H400v160ZM180-400h160v-160H180v160Zm440 0h160v-160H620v160ZM180-180h160v-160H180v160Zm440 0h160v-160H620v160Z\"/>\n",
              "  </svg>\n",
              "    </button>\n",
              "\n",
              "  <style>\n",
              "    .colab-df-container {\n",
              "      display:flex;\n",
              "      gap: 12px;\n",
              "    }\n",
              "\n",
              "    .colab-df-convert {\n",
              "      background-color: #E8F0FE;\n",
              "      border: none;\n",
              "      border-radius: 50%;\n",
              "      cursor: pointer;\n",
              "      display: none;\n",
              "      fill: #1967D2;\n",
              "      height: 32px;\n",
              "      padding: 0 0 0 0;\n",
              "      width: 32px;\n",
              "    }\n",
              "\n",
              "    .colab-df-convert:hover {\n",
              "      background-color: #E2EBFA;\n",
              "      box-shadow: 0px 1px 2px rgba(60, 64, 67, 0.3), 0px 1px 3px 1px rgba(60, 64, 67, 0.15);\n",
              "      fill: #174EA6;\n",
              "    }\n",
              "\n",
              "    .colab-df-buttons div {\n",
              "      margin-bottom: 4px;\n",
              "    }\n",
              "\n",
              "    [theme=dark] .colab-df-convert {\n",
              "      background-color: #3B4455;\n",
              "      fill: #D2E3FC;\n",
              "    }\n",
              "\n",
              "    [theme=dark] .colab-df-convert:hover {\n",
              "      background-color: #434B5C;\n",
              "      box-shadow: 0px 1px 3px 1px rgba(0, 0, 0, 0.15);\n",
              "      filter: drop-shadow(0px 1px 2px rgba(0, 0, 0, 0.3));\n",
              "      fill: #FFFFFF;\n",
              "    }\n",
              "  </style>\n",
              "\n",
              "    <script>\n",
              "      const buttonEl =\n",
              "        document.querySelector('#df-1cef0230-6a66-4d71-b5e7-3c7f1e4471d5 button.colab-df-convert');\n",
              "      buttonEl.style.display =\n",
              "        google.colab.kernel.accessAllowed ? 'block' : 'none';\n",
              "\n",
              "      async function convertToInteractive(key) {\n",
              "        const element = document.querySelector('#df-1cef0230-6a66-4d71-b5e7-3c7f1e4471d5');\n",
              "        const dataTable =\n",
              "          await google.colab.kernel.invokeFunction('convertToInteractive',\n",
              "                                                    [key], {});\n",
              "        if (!dataTable) return;\n",
              "\n",
              "        const docLinkHtml = 'Like what you see? Visit the ' +\n",
              "          '<a target=\"_blank\" href=https://colab.research.google.com/notebooks/data_table.ipynb>data table notebook</a>'\n",
              "          + ' to learn more about interactive tables.';\n",
              "        element.innerHTML = '';\n",
              "        dataTable['output_type'] = 'display_data';\n",
              "        await google.colab.output.renderOutput(dataTable, element);\n",
              "        const docLink = document.createElement('div');\n",
              "        docLink.innerHTML = docLinkHtml;\n",
              "        element.appendChild(docLink);\n",
              "      }\n",
              "    </script>\n",
              "  </div>\n",
              "\n",
              "\n",
              "    <div id=\"df-57cb92a2-1246-494c-95b7-ee57acde2823\">\n",
              "      <button class=\"colab-df-quickchart\" onclick=\"quickchart('df-57cb92a2-1246-494c-95b7-ee57acde2823')\"\n",
              "                title=\"Suggest charts\"\n",
              "                style=\"display:none;\">\n",
              "\n",
              "<svg xmlns=\"http://www.w3.org/2000/svg\" height=\"24px\"viewBox=\"0 0 24 24\"\n",
              "     width=\"24px\">\n",
              "    <g>\n",
              "        <path d=\"M19 3H5c-1.1 0-2 .9-2 2v14c0 1.1.9 2 2 2h14c1.1 0 2-.9 2-2V5c0-1.1-.9-2-2-2zM9 17H7v-7h2v7zm4 0h-2V7h2v10zm4 0h-2v-4h2v4z\"/>\n",
              "    </g>\n",
              "</svg>\n",
              "      </button>\n",
              "\n",
              "<style>\n",
              "  .colab-df-quickchart {\n",
              "      --bg-color: #E8F0FE;\n",
              "      --fill-color: #1967D2;\n",
              "      --hover-bg-color: #E2EBFA;\n",
              "      --hover-fill-color: #174EA6;\n",
              "      --disabled-fill-color: #AAA;\n",
              "      --disabled-bg-color: #DDD;\n",
              "  }\n",
              "\n",
              "  [theme=dark] .colab-df-quickchart {\n",
              "      --bg-color: #3B4455;\n",
              "      --fill-color: #D2E3FC;\n",
              "      --hover-bg-color: #434B5C;\n",
              "      --hover-fill-color: #FFFFFF;\n",
              "      --disabled-bg-color: #3B4455;\n",
              "      --disabled-fill-color: #666;\n",
              "  }\n",
              "\n",
              "  .colab-df-quickchart {\n",
              "    background-color: var(--bg-color);\n",
              "    border: none;\n",
              "    border-radius: 50%;\n",
              "    cursor: pointer;\n",
              "    display: none;\n",
              "    fill: var(--fill-color);\n",
              "    height: 32px;\n",
              "    padding: 0;\n",
              "    width: 32px;\n",
              "  }\n",
              "\n",
              "  .colab-df-quickchart:hover {\n",
              "    background-color: var(--hover-bg-color);\n",
              "    box-shadow: 0 1px 2px rgba(60, 64, 67, 0.3), 0 1px 3px 1px rgba(60, 64, 67, 0.15);\n",
              "    fill: var(--button-hover-fill-color);\n",
              "  }\n",
              "\n",
              "  .colab-df-quickchart-complete:disabled,\n",
              "  .colab-df-quickchart-complete:disabled:hover {\n",
              "    background-color: var(--disabled-bg-color);\n",
              "    fill: var(--disabled-fill-color);\n",
              "    box-shadow: none;\n",
              "  }\n",
              "\n",
              "  .colab-df-spinner {\n",
              "    border: 2px solid var(--fill-color);\n",
              "    border-color: transparent;\n",
              "    border-bottom-color: var(--fill-color);\n",
              "    animation:\n",
              "      spin 1s steps(1) infinite;\n",
              "  }\n",
              "\n",
              "  @keyframes spin {\n",
              "    0% {\n",
              "      border-color: transparent;\n",
              "      border-bottom-color: var(--fill-color);\n",
              "      border-left-color: var(--fill-color);\n",
              "    }\n",
              "    20% {\n",
              "      border-color: transparent;\n",
              "      border-left-color: var(--fill-color);\n",
              "      border-top-color: var(--fill-color);\n",
              "    }\n",
              "    30% {\n",
              "      border-color: transparent;\n",
              "      border-left-color: var(--fill-color);\n",
              "      border-top-color: var(--fill-color);\n",
              "      border-right-color: var(--fill-color);\n",
              "    }\n",
              "    40% {\n",
              "      border-color: transparent;\n",
              "      border-right-color: var(--fill-color);\n",
              "      border-top-color: var(--fill-color);\n",
              "    }\n",
              "    60% {\n",
              "      border-color: transparent;\n",
              "      border-right-color: var(--fill-color);\n",
              "    }\n",
              "    80% {\n",
              "      border-color: transparent;\n",
              "      border-right-color: var(--fill-color);\n",
              "      border-bottom-color: var(--fill-color);\n",
              "    }\n",
              "    90% {\n",
              "      border-color: transparent;\n",
              "      border-bottom-color: var(--fill-color);\n",
              "    }\n",
              "  }\n",
              "</style>\n",
              "\n",
              "      <script>\n",
              "        async function quickchart(key) {\n",
              "          const quickchartButtonEl =\n",
              "            document.querySelector('#' + key + ' button');\n",
              "          quickchartButtonEl.disabled = true;  // To prevent multiple clicks.\n",
              "          quickchartButtonEl.classList.add('colab-df-spinner');\n",
              "          try {\n",
              "            const charts = await google.colab.kernel.invokeFunction(\n",
              "                'suggestCharts', [key], {});\n",
              "          } catch (error) {\n",
              "            console.error('Error during call to suggestCharts:', error);\n",
              "          }\n",
              "          quickchartButtonEl.classList.remove('colab-df-spinner');\n",
              "          quickchartButtonEl.classList.add('colab-df-quickchart-complete');\n",
              "        }\n",
              "        (() => {\n",
              "          let quickchartButtonEl =\n",
              "            document.querySelector('#df-57cb92a2-1246-494c-95b7-ee57acde2823 button');\n",
              "          quickchartButtonEl.style.display =\n",
              "            google.colab.kernel.accessAllowed ? 'block' : 'none';\n",
              "        })();\n",
              "      </script>\n",
              "    </div>\n",
              "\n",
              "    </div>\n",
              "  </div>\n"
            ],
            "application/vnd.google.colaboratory.intrinsic+json": {
              "type": "dataframe",
              "variable_name": "train_df",
              "summary": "{\n  \"name\": \"train_df\",\n  \"rows\": 27481,\n  \"fields\": [\n    {\n      \"column\": \"textID\",\n      \"properties\": {\n        \"dtype\": \"string\",\n        \"num_unique_values\": 27481,\n        \"samples\": [\n          \"a7f72a928a\",\n          \"ef42dee96c\",\n          \"07d17131b1\"\n        ],\n        \"semantic_type\": \"\",\n        \"description\": \"\"\n      }\n    },\n    {\n      \"column\": \"text\",\n      \"properties\": {\n        \"dtype\": \"string\",\n        \"num_unique_values\": 27480,\n        \"samples\": [\n          \" Enjoy! Family trumps everything\",\n          \" --of them kinda turns me off of it all.  And then I buy more of them and dig a deeper hole, etc. ;;\",\n          \"Clive it`s my birthday pat me  http://apps.facebook.com/dogbook/profile/view/6386106\"\n        ],\n        \"semantic_type\": \"\",\n        \"description\": \"\"\n      }\n    },\n    {\n      \"column\": \"selected_text\",\n      \"properties\": {\n        \"dtype\": \"string\",\n        \"num_unique_values\": 22430,\n        \"samples\": [\n          \"that is why I drive a (teeny tiny) honda civic\",\n          \"Sorry...but, I bet they aren`t that bad...\",\n          \"yummy\"\n        ],\n        \"semantic_type\": \"\",\n        \"description\": \"\"\n      }\n    },\n    {\n      \"column\": \"sentiment\",\n      \"properties\": {\n        \"dtype\": \"category\",\n        \"num_unique_values\": 3,\n        \"samples\": [\n          \"neutral\",\n          \"negative\",\n          \"positive\"\n        ],\n        \"semantic_type\": \"\",\n        \"description\": \"\"\n      }\n    },\n    {\n      \"column\": \"Time of Tweet\",\n      \"properties\": {\n        \"dtype\": \"category\",\n        \"num_unique_values\": 3,\n        \"samples\": [\n          \"morning\",\n          \"noon\",\n          \"night\"\n        ],\n        \"semantic_type\": \"\",\n        \"description\": \"\"\n      }\n    },\n    {\n      \"column\": \"Age of User\",\n      \"properties\": {\n        \"dtype\": \"category\",\n        \"num_unique_values\": 6,\n        \"samples\": [\n          \"0-20\",\n          \"21-30\",\n          \"70-100\"\n        ],\n        \"semantic_type\": \"\",\n        \"description\": \"\"\n      }\n    },\n    {\n      \"column\": \"Country\",\n      \"properties\": {\n        \"dtype\": \"category\",\n        \"num_unique_values\": 195,\n        \"samples\": [\n          \"Philippines\",\n          \"Belgium\",\n          \"Sierra Leone\"\n        ],\n        \"semantic_type\": \"\",\n        \"description\": \"\"\n      }\n    },\n    {\n      \"column\": \"Population -2020\",\n      \"properties\": {\n        \"dtype\": \"number\",\n        \"std\": 150494590,\n        \"min\": 801,\n        \"max\": 1439323776,\n        \"num_unique_values\": 195,\n        \"samples\": [\n          109581078,\n          11589623,\n          7976983\n        ],\n        \"semantic_type\": \"\",\n        \"description\": \"\"\n      }\n    },\n    {\n      \"column\": \"Land Area (Km\\u00b2)\",\n      \"properties\": {\n        \"dtype\": \"number\",\n        \"std\": 1807424.6900064405,\n        \"min\": 0.0,\n        \"max\": 16376870.0,\n        \"num_unique_values\": 193,\n        \"samples\": [\n          2267050.0,\n          1280000.0,\n          100250.0\n        ],\n        \"semantic_type\": \"\",\n        \"description\": \"\"\n      }\n    },\n    {\n      \"column\": \"Density (P/Km\\u00b2)\",\n      \"properties\": {\n        \"dtype\": \"number\",\n        \"std\": 2013,\n        \"min\": 2,\n        \"max\": 26337,\n        \"num_unique_values\": 136,\n        \"samples\": [\n          400,\n          71,\n          331\n        ],\n        \"semantic_type\": \"\",\n        \"description\": \"\"\n      }\n    }\n  ]\n}"
            }
          },
          "metadata": {},
          "execution_count": 6
        }
      ],
      "source": [
        "import os\n",
        "import pandas as pd\n",
        "\n",
        "data_dir = \"data\"\n",
        "train_path = os.path.join(data_dir, \"train.csv\")\n",
        "test_path = os.path.join(data_dir, \"test.csv\")\n",
        "train_df = pd.read_csv(train_path, encoding='ISO-8859-1', index_col=\"textID\")\n",
        "test_df = pd.read_csv(test_path, encoding='ISO-8859-1', index_col=\"textID\")\n",
        "train_df.head()"
      ]
    },
    {
      "cell_type": "code",
      "source": [
        "train_df = train_df.dropna()\n",
        "test_df = test_df.dropna()\n",
        "text_df = pd.concat([train_df, test_df])\n",
        "text_df.shape"
      ],
      "metadata": {
        "colab": {
          "base_uri": "https://localhost:8080/"
        },
        "id": "Eq0r0Gzm4Voe",
        "outputId": "710146a3-a813-4f8f-bd1d-a75fc741e62b"
      },
      "id": "Eq0r0Gzm4Voe",
      "execution_count": 7,
      "outputs": [
        {
          "output_type": "execute_result",
          "data": {
            "text/plain": [
              "(31014, 9)"
            ]
          },
          "metadata": {},
          "execution_count": 7
        }
      ]
    },
    {
      "cell_type": "code",
      "execution_count": 8,
      "id": "b8a6ad5f",
      "metadata": {
        "id": "b8a6ad5f",
        "outputId": "92d352b4-0e2a-40c7-8e70-b51193ea2526",
        "colab": {
          "base_uri": "https://localhost:8080/"
        }
      },
      "outputs": [
        {
          "output_type": "execute_result",
          "data": {
            "text/plain": [
              "<tf.Tensor: shape=(31014, 33), dtype=int64, numpy=\n",
              "array([[284,  17,   1, ...,   0,   0,   0],\n",
              "       [416, 112,   2, ...,   0,   0,   0],\n",
              "       [  6,   1,  10, ...,   0,   0,   0],\n",
              "       ...,\n",
              "       [  2,  54,  57, ...,   0,   0,   0],\n",
              "       [  1,  57,  10, ...,   0,   0,   0],\n",
              "       [  1,   1,   1, ...,   0,   0,   0]])>"
            ]
          },
          "metadata": {},
          "execution_count": 8
        }
      ],
      "source": [
        "from tensorflow.keras.layers import TextVectorization\n",
        "\n",
        "vocab_size = 1_000\n",
        "\n",
        "vectorize_layer = TextVectorization(\n",
        "    max_tokens=vocab_size,\n",
        "    output_mode='int',\n",
        "    standardize=\"lower_and_strip_punctuation\",\n",
        "    split=\"whitespace\",\n",
        ")\n",
        "\n",
        "corpus = text_df[\"text\"].values\n",
        "\n",
        "vectorize_layer.adapt(corpus)\n",
        "\n",
        "vectorize_layer(corpus)"
      ]
    },
    {
      "cell_type": "code",
      "execution_count": 12,
      "id": "29037a2f",
      "metadata": {
        "id": "29037a2f",
        "outputId": "61198fb5-8fb5-47ee-872e-736498317d10",
        "colab": {
          "base_uri": "https://localhost:8080/"
        }
      },
      "outputs": [
        {
          "output_type": "execute_result",
          "data": {
            "text/plain": [
              "['',\n",
              " '[UNK]',\n",
              " np.str_('i'),\n",
              " np.str_('to'),\n",
              " np.str_('the'),\n",
              " np.str_('a'),\n",
              " np.str_('my'),\n",
              " np.str_('and'),\n",
              " np.str_('you'),\n",
              " np.str_('it')]"
            ]
          },
          "metadata": {},
          "execution_count": 12
        }
      ],
      "source": [
        "vectorize_layer.get_vocabulary()[:10]"
      ]
    },
    {
      "cell_type": "code",
      "source": [
        "import tensorflow as tf\n",
        "\n",
        "text_ds = tf.data.Dataset.from_tensor_slices(train_df[\"text\"])\n",
        "\n",
        "print(text_ds.element_spec)\n",
        "for sentence in text_ds.take(5):\n",
        "  print(sentence)"
      ],
      "metadata": {
        "colab": {
          "base_uri": "https://localhost:8080/"
        },
        "id": "_VRzmr9wSPb0",
        "outputId": "a609bf51-7675-4c4f-9628-853782e6f2a7"
      },
      "id": "_VRzmr9wSPb0",
      "execution_count": 13,
      "outputs": [
        {
          "output_type": "stream",
          "name": "stdout",
          "text": [
            "TensorSpec(shape=(), dtype=tf.string, name=None)\n",
            "tf.Tensor(b' I`d have responded, if I were going', shape=(), dtype=string)\n",
            "tf.Tensor(b' Sooo SAD I will miss you here in San Diego!!!', shape=(), dtype=string)\n",
            "tf.Tensor(b'my boss is bullying me...', shape=(), dtype=string)\n",
            "tf.Tensor(b' what interview! leave me alone', shape=(), dtype=string)\n",
            "tf.Tensor(b' Sons of ****, why couldn`t they put them on the releases we already bought', shape=(), dtype=string)\n"
          ]
        }
      ]
    },
    {
      "cell_type": "code",
      "source": [
        "# Apply the vectorization layer to get token sequences\n",
        "vectorized_ds = text_ds.map(lambda x: vectorize_layer(x))\n",
        "\n",
        "print(vectorized_ds.element_spec)\n",
        "next(vectorized_ds.as_numpy_iterator())"
      ],
      "metadata": {
        "colab": {
          "base_uri": "https://localhost:8080/"
        },
        "id": "EJraTh4yE83Y",
        "outputId": "2d79b78c-3096-44c0-e4d7-4b839a61d0a2"
      },
      "id": "EJraTh4yE83Y",
      "execution_count": 14,
      "outputs": [
        {
          "output_type": "stream",
          "name": "stdout",
          "text": [
            "TensorSpec(shape=(None,), dtype=tf.int64, name=None)\n"
          ]
        },
        {
          "output_type": "execute_result",
          "data": {
            "text/plain": [
              "array([284,  17,   1,  68,   2, 121,  47])"
            ]
          },
          "metadata": {},
          "execution_count": 14
        }
      ]
    },
    {
      "cell_type": "code",
      "source": [
        "def generate_skipgram_pairs(sequence, window_size=4):\n",
        "    seq_len = tf.shape(sequence)[0]\n",
        "    positions = tf.range(seq_len)\n",
        "\n",
        "    def extract_context(i):\n",
        "        target = sequence[i]\n",
        "        return tf.cond(\n",
        "            tf.equal(target, 0),\n",
        "            lambda: tf.data.Dataset.from_tensors((tf.constant(-1, dtype=sequence.dtype),\n",
        "                                                  tf.constant(-1, dtype=sequence.dtype))).take(0),\n",
        "            lambda: _valid_context(i, target)\n",
        "        )\n",
        "\n",
        "    def _valid_context(i, target):\n",
        "        start = tf.maximum(0, i - window_size)\n",
        "        end = tf.minimum(seq_len, i + window_size + 1)\n",
        "\n",
        "        # Exclude center word\n",
        "        left = sequence[start:i]\n",
        "        right = sequence[i + 1:end]\n",
        "        context = tf.concat([left, right], axis=0)\n",
        "\n",
        "        # Remove zeros\n",
        "        non_zero = tf.not_equal(context, 0)\n",
        "        context = tf.boolean_mask(context, non_zero)\n",
        "        targets = tf.fill([tf.shape(context)[0]], target)\n",
        "\n",
        "        return tf.data.Dataset.from_tensor_slices((targets, context))\n",
        "\n",
        "    return tf.data.Dataset.from_tensor_slices(positions).flat_map(extract_context)\n",
        "\n",
        "# Apply skipgram generation to each vectorized sentence\n",
        "sg_ds = vectorized_ds.flat_map(lambda x: generate_skipgram_pairs(x, window_size=4))\n",
        "\n",
        "# Optionally convert to list of tuples\n",
        "print(sg_ds.element_spec)\n",
        "next(sg_ds.as_numpy_iterator())"
      ],
      "metadata": {
        "colab": {
          "base_uri": "https://localhost:8080/"
        },
        "id": "yTiOtnJcFWlJ",
        "outputId": "08155733-ae1a-45f9-dd68-ebb51b47b1a6"
      },
      "id": "yTiOtnJcFWlJ",
      "execution_count": 15,
      "outputs": [
        {
          "output_type": "stream",
          "name": "stdout",
          "text": [
            "(TensorSpec(shape=(), dtype=tf.int64, name=None), TensorSpec(shape=(), dtype=tf.int64, name=None))\n"
          ]
        },
        {
          "output_type": "execute_result",
          "data": {
            "text/plain": [
              "(np.int64(284), np.int64(17))"
            ]
          },
          "metadata": {},
          "execution_count": 15
        }
      ]
    },
    {
      "cell_type": "code",
      "source": [
        "for target_idx, context_idx in sg_ds.take(20):\n",
        "  print(f\"target: {vectorize_layer.get_vocabulary()[target_idx]} | context: {vectorize_layer.get_vocabulary()[context_idx]}\")"
      ],
      "metadata": {
        "colab": {
          "base_uri": "https://localhost:8080/"
        },
        "id": "hURVd-JIFmbQ",
        "outputId": "117bc81a-f9b2-4560-e677-14f143c83588"
      },
      "id": "hURVd-JIFmbQ",
      "execution_count": 16,
      "outputs": [
        {
          "output_type": "stream",
          "name": "stdout",
          "text": [
            "target: id | context: have\n",
            "target: id | context: [UNK]\n",
            "target: id | context: if\n",
            "target: id | context: i\n",
            "target: have | context: id\n",
            "target: have | context: [UNK]\n",
            "target: have | context: if\n",
            "target: have | context: i\n",
            "target: have | context: were\n",
            "target: [UNK] | context: id\n",
            "target: [UNK] | context: have\n",
            "target: [UNK] | context: if\n",
            "target: [UNK] | context: i\n",
            "target: [UNK] | context: were\n",
            "target: [UNK] | context: going\n",
            "target: if | context: id\n",
            "target: if | context: have\n",
            "target: if | context: [UNK]\n",
            "target: if | context: i\n",
            "target: if | context: were\n"
          ]
        }
      ]
    },
    {
      "cell_type": "code",
      "source": [
        "import tensorflow as tf\n",
        "\n",
        "train_ds = tf.data.Dataset.from_tensor_slices(train_df[\"text\"])\n",
        "\n",
        "print(train_ds.element_spec)\n",
        "for sentence in train_ds.take(5):\n",
        "  print(sentence)"
      ],
      "metadata": {
        "colab": {
          "base_uri": "https://localhost:8080/"
        },
        "id": "U7aQqkOvSXSZ",
        "outputId": "7ba2fe77-1e43-45b7-b1f8-f14d791b3b98"
      },
      "id": "U7aQqkOvSXSZ",
      "execution_count": 17,
      "outputs": [
        {
          "output_type": "stream",
          "name": "stdout",
          "text": [
            "TensorSpec(shape=(), dtype=tf.string, name=None)\n",
            "tf.Tensor(b' I`d have responded, if I were going', shape=(), dtype=string)\n",
            "tf.Tensor(b' Sooo SAD I will miss you here in San Diego!!!', shape=(), dtype=string)\n",
            "tf.Tensor(b'my boss is bullying me...', shape=(), dtype=string)\n",
            "tf.Tensor(b' what interview! leave me alone', shape=(), dtype=string)\n",
            "tf.Tensor(b' Sons of ****, why couldn`t they put them on the releases we already bought', shape=(), dtype=string)\n"
          ]
        }
      ]
    },
    {
      "cell_type": "code",
      "source": [
        "train_ds = tf.data.Dataset.from_tensor_slices(train_df[\"text\"])\n",
        "\n",
        "train_ds = (\n",
        "    train_ds\n",
        "    .map(\n",
        "        lambda x: vectorize_layer(x),\n",
        "        num_parallel_calls=tf.data.AUTOTUNE,\n",
        "    )\n",
        "    .flat_map(\n",
        "        lambda x: generate_skipgram_pairs(x, window_size=2),\n",
        "    )\n",
        "    # .cache()\n",
        "    # .map(\n",
        "    #     lambda x, y: ((x, y), tf.constant(1)),\n",
        "    #     num_parallel_calls=tf.data.AUTOTUNE,\n",
        "    # )\n",
        ")\n",
        "\n",
        "# lambda x: ((tf.one_hot(x[0], depth=vocab_size), tf.one_hot(x[1], depth=vocab_size)), tf.constant(1.0)),\n",
        "\n",
        "print(train_ds.element_spec)\n",
        "next(train_ds.as_numpy_iterator())"
      ],
      "metadata": {
        "colab": {
          "base_uri": "https://localhost:8080/"
        },
        "id": "4uYbFkAoQxZf",
        "outputId": "8d066672-5508-4104-98fe-c97cbf75f033"
      },
      "id": "4uYbFkAoQxZf",
      "execution_count": 18,
      "outputs": [
        {
          "output_type": "stream",
          "name": "stdout",
          "text": [
            "(TensorSpec(shape=(), dtype=tf.int64, name=None), TensorSpec(shape=(), dtype=tf.int64, name=None))\n"
          ]
        },
        {
          "output_type": "execute_result",
          "data": {
            "text/plain": [
              "(np.int64(284), np.int64(17))"
            ]
          },
          "metadata": {},
          "execution_count": 18
        }
      ]
    },
    {
      "cell_type": "code",
      "source": [
        "count = train_ds.reduce(tf.constant(0), lambda x, _: x + 1).numpy()\n",
        "train_ds = train_ds.cache()\n",
        "train_ds = train_ds.apply(tf.data.experimental.assert_cardinality(count))"
      ],
      "metadata": {
        "id": "eC32s-jSXVJz"
      },
      "id": "eC32s-jSXVJz",
      "execution_count": 19,
      "outputs": []
    },
    {
      "cell_type": "code",
      "source": [
        "tf.data.experimental.cardinality(train_ds).numpy()"
      ],
      "metadata": {
        "colab": {
          "base_uri": "https://localhost:8080/"
        },
        "id": "0-HgQnFc9Y4L",
        "outputId": "52c65a35-9c89-49b5-beac-f23aceffc10a"
      },
      "id": "0-HgQnFc9Y4L",
      "execution_count": 20,
      "outputs": [
        {
          "output_type": "execute_result",
          "data": {
            "text/plain": [
              "np.int64(1229566)"
            ]
          },
          "metadata": {},
          "execution_count": 20
        }
      ]
    },
    {
      "cell_type": "code",
      "source": [
        "train_ds = (\n",
        "    train_ds\n",
        "    .map(\n",
        "        lambda x, y: ((x, y), tf.constant(1)),\n",
        "        num_parallel_calls=tf.data.AUTOTUNE,\n",
        "    )\n",
        ")\n",
        "print(train_ds.element_spec)\n",
        "next(train_ds.as_numpy_iterator())"
      ],
      "metadata": {
        "colab": {
          "base_uri": "https://localhost:8080/"
        },
        "id": "IwxOCxw7YmyW",
        "outputId": "143a1b39-e9f3-4837-d667-5970092cd16c"
      },
      "id": "IwxOCxw7YmyW",
      "execution_count": 21,
      "outputs": [
        {
          "output_type": "stream",
          "name": "stdout",
          "text": [
            "((TensorSpec(shape=(), dtype=tf.int64, name=None), TensorSpec(shape=(), dtype=tf.int64, name=None)), TensorSpec(shape=(), dtype=tf.int32, name=None))\n"
          ]
        },
        {
          "output_type": "execute_result",
          "data": {
            "text/plain": [
              "((np.int64(284), np.int64(17)), np.int32(1))"
            ]
          },
          "metadata": {},
          "execution_count": 21
        }
      ]
    },
    {
      "cell_type": "code",
      "source": [
        "import tensorflow as tf\n",
        "from tensorflow.keras import Input, Model\n",
        "from tensorflow.keras.layers import Embedding, Dot, Activation, Flatten\n",
        "\n",
        "embedding_dims = [45, 312, 752]\n",
        "window_sizes   = [2, 4]\n",
        "histories      = {}\n",
        "\n",
        "for w in window_sizes:\n",
        "    for ed in embedding_dims:\n",
        "        print(f\"{w=}, {ed=}\")\n",
        "        train_ds = tf.data.Dataset.from_tensor_slices(train_df[\"text\"])\n",
        "\n",
        "        train_ds = (\n",
        "            train_ds\n",
        "            .map(\n",
        "                lambda x: vectorize_layer(x),\n",
        "                num_parallel_calls=tf.data.AUTOTUNE,\n",
        "            )\n",
        "            .flat_map(\n",
        "                lambda x: generate_skipgram_pairs(x, window_size=w),\n",
        "            )\n",
        "        )\n",
        "\n",
        "        count = train_ds.reduce(tf.constant(0), lambda x, _: x + 1).numpy()\n",
        "        train_ds = train_ds.cache()\n",
        "        train_ds = train_ds.apply(tf.data.experimental.assert_cardinality(count))\n",
        "\n",
        "        train_ds = (\n",
        "            train_ds\n",
        "            .map(\n",
        "                lambda x, y: ((x, y), tf.constant(1)),\n",
        "                num_parallel_calls=tf.data.AUTOTUNE,\n",
        "            )\n",
        "        )\n",
        "\n",
        "        # Index-based input (scalar integer)\n",
        "        input_target = Input(shape=(), dtype=tf.int32)\n",
        "        input_context = Input(shape=(), dtype=tf.int32)\n",
        "\n",
        "        # Shared embedding layer\n",
        "        embedding_layer = Embedding(input_dim=vocab_size, output_dim=ed)\n",
        "\n",
        "        target_embedding = embedding_layer(input_target)   # shape: (ed,)\n",
        "        context_embedding = embedding_layer(input_context) # shape: (ed,)\n",
        "\n",
        "        # If shape issues arise, flatten the embedding\n",
        "        target_embedding = Flatten()(target_embedding)\n",
        "        context_embedding = Flatten()(context_embedding)\n",
        "\n",
        "        # Dot product of embeddings\n",
        "        dot_product = Dot(axes=-1)([target_embedding, context_embedding])\n",
        "\n",
        "        # Sigmoid output for skipgram-style binary prediction\n",
        "        output = Activation('sigmoid')(dot_product)\n",
        "\n",
        "        model = Model(inputs=[input_target, input_context], outputs=output)\n",
        "        model.compile(optimizer='adam', loss='binary_crossentropy')\n",
        "\n",
        "        history = model.fit(train_ds.batch(1024).prefetch(tf.data.AUTOTUNE), epochs=3)\n",
        "\n",
        "        histories[(w, ed)] = history\n",
        "\n",
        "list(histories.keys())"
      ],
      "metadata": {
        "colab": {
          "base_uri": "https://localhost:8080/"
        },
        "id": "CoISc-dCR32e",
        "outputId": "4b4dc64f-6e2b-4c43-941d-98f678b58563"
      },
      "id": "CoISc-dCR32e",
      "execution_count": 22,
      "outputs": [
        {
          "output_type": "stream",
          "name": "stdout",
          "text": [
            "w=2, ed=45\n",
            "Epoch 1/3\n",
            "\u001b[1m1201/1201\u001b[0m \u001b[32m━━━━━━━━━━━━━━━━━━━━\u001b[0m\u001b[37m\u001b[0m \u001b[1m83s\u001b[0m 68ms/step - loss: 0.1728\n",
            "Epoch 2/3\n",
            "\u001b[1m1201/1201\u001b[0m \u001b[32m━━━━━━━━━━━━━━━━━━━━\u001b[0m\u001b[37m\u001b[0m \u001b[1m23s\u001b[0m 19ms/step - loss: 0.0015\n",
            "Epoch 3/3\n",
            "\u001b[1m1201/1201\u001b[0m \u001b[32m━━━━━━━━━━━━━━━━━━━━\u001b[0m\u001b[37m\u001b[0m \u001b[1m41s\u001b[0m 19ms/step - loss: 3.5102e-04\n",
            "w=2, ed=312\n",
            "Epoch 1/3\n",
            "\u001b[1m1201/1201\u001b[0m \u001b[32m━━━━━━━━━━━━━━━━━━━━\u001b[0m\u001b[37m\u001b[0m \u001b[1m83s\u001b[0m 68ms/step - loss: 0.1096\n",
            "Epoch 2/3\n",
            "\u001b[1m1201/1201\u001b[0m \u001b[32m━━━━━━━━━━━━━━━━━━━━\u001b[0m\u001b[37m\u001b[0m \u001b[1m25s\u001b[0m 20ms/step - loss: 2.7385e-04\n",
            "Epoch 3/3\n",
            "\u001b[1m1201/1201\u001b[0m \u001b[32m━━━━━━━━━━━━━━━━━━━━\u001b[0m\u001b[37m\u001b[0m \u001b[1m40s\u001b[0m 20ms/step - loss: 6.7323e-05\n",
            "w=2, ed=752\n",
            "Epoch 1/3\n",
            "\u001b[1m1201/1201\u001b[0m \u001b[32m━━━━━━━━━━━━━━━━━━━━\u001b[0m\u001b[37m\u001b[0m \u001b[1m84s\u001b[0m 69ms/step - loss: 0.0904\n",
            "Epoch 2/3\n",
            "\u001b[1m1201/1201\u001b[0m \u001b[32m━━━━━━━━━━━━━━━━━━━━\u001b[0m\u001b[37m\u001b[0m \u001b[1m86s\u001b[0m 23ms/step - loss: 1.5918e-04\n",
            "Epoch 3/3\n",
            "\u001b[1m1201/1201\u001b[0m \u001b[32m━━━━━━━━━━━━━━━━━━━━\u001b[0m\u001b[37m\u001b[0m \u001b[1m40s\u001b[0m 22ms/step - loss: 4.0907e-05\n",
            "w=4, ed=45\n",
            "Epoch 1/3\n",
            "\u001b[1m2194/2194\u001b[0m \u001b[32m━━━━━━━━━━━━━━━━━━━━\u001b[0m\u001b[37m\u001b[0m \u001b[1m114s\u001b[0m 51ms/step - loss: 0.1182\n",
            "Epoch 2/3\n",
            "\u001b[1m2194/2194\u001b[0m \u001b[32m━━━━━━━━━━━━━━━━━━━━\u001b[0m\u001b[37m\u001b[0m \u001b[1m46s\u001b[0m 21ms/step - loss: 4.1027e-04\n",
            "Epoch 3/3\n",
            "\u001b[1m2194/2194\u001b[0m \u001b[32m━━━━━━━━━━━━━━━━━━━━\u001b[0m\u001b[37m\u001b[0m \u001b[1m78s\u001b[0m 19ms/step - loss: 7.0452e-05\n",
            "w=4, ed=312\n",
            "Epoch 1/3\n",
            "\u001b[1m2194/2194\u001b[0m \u001b[32m━━━━━━━━━━━━━━━━━━━━\u001b[0m\u001b[37m\u001b[0m \u001b[1m118s\u001b[0m 53ms/step - loss: 0.0732\n",
            "Epoch 2/3\n",
            "\u001b[1m2194/2194\u001b[0m \u001b[32m━━━━━━━━━━━━━━━━━━━━\u001b[0m\u001b[37m\u001b[0m \u001b[1m45s\u001b[0m 20ms/step - loss: 7.5535e-05\n",
            "Epoch 3/3\n",
            "\u001b[1m2194/2194\u001b[0m \u001b[32m━━━━━━━━━━━━━━━━━━━━\u001b[0m\u001b[37m\u001b[0m \u001b[1m82s\u001b[0m 20ms/step - loss: 1.4326e-05\n",
            "w=4, ed=752\n",
            "Epoch 1/3\n",
            "\u001b[1m2194/2194\u001b[0m \u001b[32m━━━━━━━━━━━━━━━━━━━━\u001b[0m\u001b[37m\u001b[0m \u001b[1m120s\u001b[0m 54ms/step - loss: 0.0605\n",
            "Epoch 2/3\n",
            "\u001b[1m2194/2194\u001b[0m \u001b[32m━━━━━━━━━━━━━━━━━━━━\u001b[0m\u001b[37m\u001b[0m \u001b[1m53s\u001b[0m 24ms/step - loss: 4.7139e-05\n",
            "Epoch 3/3\n",
            "\u001b[1m2194/2194\u001b[0m \u001b[32m━━━━━━━━━━━━━━━━━━━━\u001b[0m\u001b[37m\u001b[0m \u001b[1m81s\u001b[0m 23ms/step - loss: 9.4705e-06\n"
          ]
        },
        {
          "output_type": "execute_result",
          "data": {
            "text/plain": [
              "[(2, 45), (2, 312), (2, 752), (4, 45), (4, 312), (4, 752)]"
            ]
          },
          "metadata": {},
          "execution_count": 22
        }
      ]
    },
    {
      "cell_type": "code",
      "source": [
        "embeddings = embedding_layer.get_weights()[0]\n",
        "\n",
        "print(embeddings.shape)"
      ],
      "metadata": {
        "id": "Ibi-GFZhbPrc",
        "outputId": "48adc440-86a0-4e1e-c5ab-c59ac3de3b74",
        "colab": {
          "base_uri": "https://localhost:8080/"
        }
      },
      "id": "Ibi-GFZhbPrc",
      "execution_count": 23,
      "outputs": [
        {
          "output_type": "stream",
          "name": "stdout",
          "text": [
            "(1000, 752)\n"
          ]
        }
      ]
    },
    {
      "cell_type": "code",
      "source": [
        "# prompt: given vectorize_layer how to obtain the index for the word \"what\"\n",
        "\n",
        "import numpy as np\n",
        "\n",
        "# Get the vocabulary from the vectorize_layer\n",
        "vocabulary = vectorize_layer.get_vocabulary()\n",
        "\n",
        "word = \"train\"\n",
        "# Find the index of the word\n",
        "try:\n",
        "    what_index = vocabulary.index(word)\n",
        "    print(f\"The index of {word} in the vocabulary is: {what_index}\")\n",
        "except ValueError:\n",
        "    print(f\"{word} is not found in the vocabulary.\")\n"
      ],
      "metadata": {
        "id": "9eKQn7NKbd5J",
        "outputId": "68d9d32c-c7e6-492d-af5b-45f59555f35e",
        "colab": {
          "base_uri": "https://localhost:8080/"
        }
      },
      "id": "9eKQn7NKbd5J",
      "execution_count": 81,
      "outputs": [
        {
          "output_type": "stream",
          "name": "stdout",
          "text": [
            "The index of train in the vocabulary is: 983\n"
          ]
        }
      ]
    },
    {
      "cell_type": "code",
      "source": [
        "import numpy as np\n",
        "import pandas as pd\n",
        "import matplotlib.pyplot as plt\n",
        "import seaborn as sns\n",
        "from sklearn.metrics.pairwise import cosine_similarity\n",
        "\n",
        "all_indices = [488, 612, 51, 112, 787, 983]\n",
        "\n",
        "# 2) Construir la lista de palabras usando idx2word (invertido de word2idx)\n",
        "# idx2word = {idx: w for w, idx in word2idx.items()}\n",
        "# idx2word = dict(zip(enumerate(vectorize_layer.get_vocabulary())))\n",
        "idx2word = dict(enumerate(vectorize_layer.get_vocabulary()))\n",
        "words_15 = [idx2word.get(i, f\"idx{i}\") for i in all_indices]\n",
        "\n",
        "# 3) Extraer la matriz de embeddings del modelo ya entrenado\n",
        "emb_layer = model.get_layer('embedding_5')\n",
        "emb_matrix = emb_layer.get_weights()[0]        # forma = (vocab_size, embedding_dim)\n",
        "\n",
        "# 4) Recoger los vectores para las 15 palabras\n",
        "vectors_15 = []\n",
        "for idx in all_indices:\n",
        "    if idx < emb_matrix.shape[0]:\n",
        "        vectors_15.append(emb_matrix[idx])\n",
        "    else:\n",
        "        vectors_15.append(np.zeros(emb_matrix.shape[1]))\n",
        "vectors_15 = np.vstack(vectors_15)\n",
        "\n",
        "# 5) Calcular similitud coseno y distancia (1–coseno)\n",
        "sim_matrix = cosine_similarity(vectors_15)\n",
        "dist_matrix = 1 - sim_matrix\n",
        "\n",
        "# 6) DataFrame para visualización\n",
        "df_sim  = pd.DataFrame(sim_matrix, index=words_15, columns=words_15)\n",
        "df_dist = pd.DataFrame(dist_matrix, index=words_15, columns=words_15)\n",
        "\n",
        "# 7) Heatmap de similitud (mitad inferior)\n",
        "mask = np.triu(np.ones_like(df_sim, dtype=bool))\n",
        "mask = None\n",
        "plt.figure(figsize=(10, 8))\n",
        "sns.heatmap(df_sim, mask=mask, annot=True, fmt=\".2f\",\n",
        "            cmap=\"viridis\", square=True, cbar_kws={'shrink':.8})\n",
        "plt.title(\"Similitud coseno\")\n",
        "plt.xticks(rotation=45, ha=\"right\")\n",
        "plt.yticks(rotation=0)\n",
        "plt.tight_layout()\n",
        "plt.show()\n",
        "\n",
        "# 8) Mostrar la matriz de distancias\n",
        "print(\"Matriz de distancias (1–coseno):\")\n",
        "display(df_dist.round(2))"
      ],
      "metadata": {
        "id": "j28kRI405gYj",
        "outputId": "610ad146-d11b-4da1-964e-63b1272e21cd",
        "colab": {
          "base_uri": "https://localhost:8080/",
          "height": 1000
        }
      },
      "id": "j28kRI405gYj",
      "execution_count": 82,
      "outputs": [
        {
          "output_type": "display_data",
          "data": {
            "text/plain": [
              "<Figure size 1000x800 with 2 Axes>"
            ],
            "image/png": "[encoded data removed]"
          },
          "metadata": {}
        },
        {
          "output_type": "stream",
          "name": "stdout",
          "text": [
            "Matriz de distancias (1–coseno):\n"
          ]
        },
        {
          "output_type": "display_data",
          "data": {
            "text/plain": [
              "        dog   cat  happy   sad   bus  train\n",
              "dog    0.00  0.08   0.09  0.08  0.09   0.08\n",
              "cat    0.08 -0.00   0.10  0.09  0.10   0.09\n",
              "happy  0.09  0.10   0.00  0.06  0.15   0.11\n",
              "sad    0.08  0.09   0.06 -0.00  0.14   0.11\n",
              "bus    0.09  0.10   0.15  0.14 -0.00   0.08\n",
              "train  0.08  0.09   0.11  0.11  0.08   0.00"
            ],
            "text/html": [
              "\n",
              "  <div id=\"df-46101fe4-8776-4a92-8911-f37d3cc4b005\" class=\"colab-df-container\">\n",
              "    <div>\n",
              "<style scoped>\n",
              "    .dataframe tbody tr th:only-of-type {\n",
              "        vertical-align: middle;\n",
              "    }\n",
              "\n",
              "    .dataframe tbody tr th {\n",
              "        vertical-align: top;\n",
              "    }\n",
              "\n",
              "    .dataframe thead th {\n",
              "        text-align: right;\n",
              "    }\n",
              "</style>\n",
              "<table border=\"1\" class=\"dataframe\">\n",
              "  <thead>\n",
              "    <tr style=\"text-align: right;\">\n",
              "      <th></th>\n",
              "      <th>dog</th>\n",
              "      <th>cat</th>\n",
              "      <th>happy</th>\n",
              "      <th>sad</th>\n",
              "      <th>bus</th>\n",
              "      <th>train</th>\n",
              "    </tr>\n",
              "  </thead>\n",
              "  <tbody>\n",
              "    <tr>\n",
              "      <th>dog</th>\n",
              "      <td>0.00</td>\n",
              "      <td>0.08</td>\n",
              "      <td>0.09</td>\n",
              "      <td>0.08</td>\n",
              "      <td>0.09</td>\n",
              "      <td>0.08</td>\n",
              "    </tr>\n",
              "    <tr>\n",
              "      <th>cat</th>\n",
              "      <td>0.08</td>\n",
              "      <td>-0.00</td>\n",
              "      <td>0.10</td>\n",
              "      <td>0.09</td>\n",
              "      <td>0.10</td>\n",
              "      <td>0.09</td>\n",
              "    </tr>\n",
              "    <tr>\n",
              "      <th>happy</th>\n",
              "      <td>0.09</td>\n",
              "      <td>0.10</td>\n",
              "      <td>0.00</td>\n",
              "      <td>0.06</td>\n",
              "      <td>0.15</td>\n",
              "      <td>0.11</td>\n",
              "    </tr>\n",
              "    <tr>\n",
              "      <th>sad</th>\n",
              "      <td>0.08</td>\n",
              "      <td>0.09</td>\n",
              "      <td>0.06</td>\n",
              "      <td>-0.00</td>\n",
              "      <td>0.14</td>\n",
              "      <td>0.11</td>\n",
              "    </tr>\n",
              "    <tr>\n",
              "      <th>bus</th>\n",
              "      <td>0.09</td>\n",
              "      <td>0.10</td>\n",
              "      <td>0.15</td>\n",
              "      <td>0.14</td>\n",
              "      <td>-0.00</td>\n",
              "      <td>0.08</td>\n",
              "    </tr>\n",
              "    <tr>\n",
              "      <th>train</th>\n",
              "      <td>0.08</td>\n",
              "      <td>0.09</td>\n",
              "      <td>0.11</td>\n",
              "      <td>0.11</td>\n",
              "      <td>0.08</td>\n",
              "      <td>0.00</td>\n",
              "    </tr>\n",
              "  </tbody>\n",
              "</table>\n",
              "</div>\n",
              "    <div class=\"colab-df-buttons\">\n",
              "\n",
              "  <div class=\"colab-df-container\">\n",
              "    <button class=\"colab-df-convert\" onclick=\"convertToInteractive('df-46101fe4-8776-4a92-8911-f37d3cc4b005')\"\n",
              "            title=\"Convert this dataframe to an interactive table.\"\n",
              "            style=\"display:none;\">\n",
              "\n",
              "  <svg xmlns=\"http://www.w3.org/2000/svg\" height=\"24px\" viewBox=\"0 -960 960 960\">\n",
              "    <path d=\"M120-120v-720h720v720H120Zm60-500h600v-160H180v160Zm220 220h160v-160H400v160Zm0 220h160v-160H400v160ZM180-400h160v-160H180v160Zm440 0h160v-160H620v160ZM180-180h160v-160H180v160Zm440 0h160v-160H620v160Z\"/>\n",
              "  </svg>\n",
              "    </button>\n",
              "\n",
              "  <style>\n",
              "    .colab-df-container {\n",
              "      display:flex;\n",
              "      gap: 12px;\n",
              "    }\n",
              "\n",
              "    .colab-df-convert {\n",
              "      background-color: #E8F0FE;\n",
              "      border: none;\n",
              "      border-radius: 50%;\n",
              "      cursor: pointer;\n",
              "      display: none;\n",
              "      fill: #1967D2;\n",
              "      height: 32px;\n",
              "      padding: 0 0 0 0;\n",
              "      width: 32px;\n",
              "    }\n",
              "\n",
              "    .colab-df-convert:hover {\n",
              "      background-color: #E2EBFA;\n",
              "      box-shadow: 0px 1px 2px rgba(60, 64, 67, 0.3), 0px 1px 3px 1px rgba(60, 64, 67, 0.15);\n",
              "      fill: #174EA6;\n",
              "    }\n",
              "\n",
              "    .colab-df-buttons div {\n",
              "      margin-bottom: 4px;\n",
              "    }\n",
              "\n",
              "    [theme=dark] .colab-df-convert {\n",
              "      background-color: #3B4455;\n",
              "      fill: #D2E3FC;\n",
              "    }\n",
              "\n",
              "    [theme=dark] .colab-df-convert:hover {\n",
              "      background-color: #434B5C;\n",
              "      box-shadow: 0px 1px 3px 1px rgba(0, 0, 0, 0.15);\n",
              "      filter: drop-shadow(0px 1px 2px rgba(0, 0, 0, 0.3));\n",
              "      fill: #FFFFFF;\n",
              "    }\n",
              "  </style>\n",
              "\n",
              "    <script>\n",
              "      const buttonEl =\n",
              "        document.querySelector('#df-46101fe4-8776-4a92-8911-f37d3cc4b005 button.colab-df-convert');\n",
              "      buttonEl.style.display =\n",
              "        google.colab.kernel.accessAllowed ? 'block' : 'none';\n",
              "\n",
              "      async function convertToInteractive(key) {\n",
              "        const element = document.querySelector('#df-46101fe4-8776-4a92-8911-f37d3cc4b005');\n",
              "        const dataTable =\n",
              "          await google.colab.kernel.invokeFunction('convertToInteractive',\n",
              "                                                    [key], {});\n",
              "        if (!dataTable) return;\n",
              "\n",
              "        const docLinkHtml = 'Like what you see? Visit the ' +\n",
              "          '<a target=\"_blank\" href=https://colab.research.google.com/notebooks/data_table.ipynb>data table notebook</a>'\n",
              "          + ' to learn more about interactive tables.';\n",
              "        element.innerHTML = '';\n",
              "        dataTable['output_type'] = 'display_data';\n",
              "        await google.colab.output.renderOutput(dataTable, element);\n",
              "        const docLink = document.createElement('div');\n",
              "        docLink.innerHTML = docLinkHtml;\n",
              "        element.appendChild(docLink);\n",
              "      }\n",
              "    </script>\n",
              "  </div>\n",
              "\n",
              "\n",
              "    <div id=\"df-915f5d4a-f482-422b-a66a-c34f69a2bdbb\">\n",
              "      <button class=\"colab-df-quickchart\" onclick=\"quickchart('df-915f5d4a-f482-422b-a66a-c34f69a2bdbb')\"\n",
              "                title=\"Suggest charts\"\n",
              "                style=\"display:none;\">\n",
              "\n",
              "<svg xmlns=\"http://www.w3.org/2000/svg\" height=\"24px\"viewBox=\"0 0 24 24\"\n",
              "     width=\"24px\">\n",
              "    <g>\n",
              "        <path d=\"M19 3H5c-1.1 0-2 .9-2 2v14c0 1.1.9 2 2 2h14c1.1 0 2-.9 2-2V5c0-1.1-.9-2-2-2zM9 17H7v-7h2v7zm4 0h-2V7h2v10zm4 0h-2v-4h2v4z\"/>\n",
              "    </g>\n",
              "</svg>\n",
              "      </button>\n",
              "\n",
              "<style>\n",
              "  .colab-df-quickchart {\n",
              "      --bg-color: #E8F0FE;\n",
              "      --fill-color: #1967D2;\n",
              "      --hover-bg-color: #E2EBFA;\n",
              "      --hover-fill-color: #174EA6;\n",
              "      --disabled-fill-color: #AAA;\n",
              "      --disabled-bg-color: #DDD;\n",
              "  }\n",
              "\n",
              "  [theme=dark] .colab-df-quickchart {\n",
              "      --bg-color: #3B4455;\n",
              "      --fill-color: #D2E3FC;\n",
              "      --hover-bg-color: #434B5C;\n",
              "      --hover-fill-color: #FFFFFF;\n",
              "      --disabled-bg-color: #3B4455;\n",
              "      --disabled-fill-color: #666;\n",
              "  }\n",
              "\n",
              "  .colab-df-quickchart {\n",
              "    background-color: var(--bg-color);\n",
              "    border: none;\n",
              "    border-radius: 50%;\n",
              "    cursor: pointer;\n",
              "    display: none;\n",
              "    fill: var(--fill-color);\n",
              "    height: 32px;\n",
              "    padding: 0;\n",
              "    width: 32px;\n",
              "  }\n",
              "\n",
              "  .colab-df-quickchart:hover {\n",
              "    background-color: var(--hover-bg-color);\n",
              "    box-shadow: 0 1px 2px rgba(60, 64, 67, 0.3), 0 1px 3px 1px rgba(60, 64, 67, 0.15);\n",
              "    fill: var(--button-hover-fill-color);\n",
              "  }\n",
              "\n",
              "  .colab-df-quickchart-complete:disabled,\n",
              "  .colab-df-quickchart-complete:disabled:hover {\n",
              "    background-color: var(--disabled-bg-color);\n",
              "    fill: var(--disabled-fill-color);\n",
              "    box-shadow: none;\n",
              "  }\n",
              "\n",
              "  .colab-df-spinner {\n",
              "    border: 2px solid var(--fill-color);\n",
              "    border-color: transparent;\n",
              "    border-bottom-color: var(--fill-color);\n",
              "    animation:\n",
              "      spin 1s steps(1) infinite;\n",
              "  }\n",
              "\n",
              "  @keyframes spin {\n",
              "    0% {\n",
              "      border-color: transparent;\n",
              "      border-bottom-color: var(--fill-color);\n",
              "      border-left-color: var(--fill-color);\n",
              "    }\n",
              "    20% {\n",
              "      border-color: transparent;\n",
              "      border-left-color: var(--fill-color);\n",
              "      border-top-color: var(--fill-color);\n",
              "    }\n",
              "    30% {\n",
              "      border-color: transparent;\n",
              "      border-left-color: var(--fill-color);\n",
              "      border-top-color: var(--fill-color);\n",
              "      border-right-color: var(--fill-color);\n",
              "    }\n",
              "    40% {\n",
              "      border-color: transparent;\n",
              "      border-right-color: var(--fill-color);\n",
              "      border-top-color: var(--fill-color);\n",
              "    }\n",
              "    60% {\n",
              "      border-color: transparent;\n",
              "      border-right-color: var(--fill-color);\n",
              "    }\n",
              "    80% {\n",
              "      border-color: transparent;\n",
              "      border-right-color: var(--fill-color);\n",
              "      border-bottom-color: var(--fill-color);\n",
              "    }\n",
              "    90% {\n",
              "      border-color: transparent;\n",
              "      border-bottom-color: var(--fill-color);\n",
              "    }\n",
              "  }\n",
              "</style>\n",
              "\n",
              "      <script>\n",
              "        async function quickchart(key) {\n",
              "          const quickchartButtonEl =\n",
              "            document.querySelector('#' + key + ' button');\n",
              "          quickchartButtonEl.disabled = true;  // To prevent multiple clicks.\n",
              "          quickchartButtonEl.classList.add('colab-df-spinner');\n",
              "          try {\n",
              "            const charts = await google.colab.kernel.invokeFunction(\n",
              "                'suggestCharts', [key], {});\n",
              "          } catch (error) {\n",
              "            console.error('Error during call to suggestCharts:', error);\n",
              "          }\n",
              "          quickchartButtonEl.classList.remove('colab-df-spinner');\n",
              "          quickchartButtonEl.classList.add('colab-df-quickchart-complete');\n",
              "        }\n",
              "        (() => {\n",
              "          let quickchartButtonEl =\n",
              "            document.querySelector('#df-915f5d4a-f482-422b-a66a-c34f69a2bdbb button');\n",
              "          quickchartButtonEl.style.display =\n",
              "            google.colab.kernel.accessAllowed ? 'block' : 'none';\n",
              "        })();\n",
              "      </script>\n",
              "    </div>\n",
              "\n",
              "    </div>\n",
              "  </div>\n"
            ],
            "application/vnd.google.colaboratory.intrinsic+json": {
              "type": "dataframe",
              "summary": "{\n  \"name\": \"display(df_dist\",\n  \"rows\": 6,\n  \"fields\": [\n    {\n      \"column\": \"dog\",\n      \"properties\": {\n        \"dtype\": \"float32\",\n        \"num_unique_values\": 3,\n        \"samples\": [\n          0.0,\n          0.07999999821186066,\n          0.09000000357627869\n        ],\n        \"semantic_type\": \"\",\n        \"description\": \"\"\n      }\n    },\n    {\n      \"column\": \"cat\",\n      \"properties\": {\n        \"dtype\": \"float32\",\n        \"num_unique_values\": 4,\n        \"samples\": [\n          -0.0,\n          0.09000000357627869,\n          0.07999999821186066\n        ],\n        \"semantic_type\": \"\",\n        \"description\": \"\"\n      }\n    },\n    {\n      \"column\": \"happy\",\n      \"properties\": {\n        \"dtype\": \"float32\",\n        \"num_unique_values\": 6,\n        \"samples\": [\n          0.09000000357627869,\n          0.10000000149011612,\n          0.10999999940395355\n        ],\n        \"semantic_type\": \"\",\n        \"description\": \"\"\n      }\n    },\n    {\n      \"column\": \"sad\",\n      \"properties\": {\n        \"dtype\": \"float32\",\n        \"num_unique_values\": 6,\n        \"samples\": [\n          0.07999999821186066,\n          0.09000000357627869,\n          0.10999999940395355\n        ],\n        \"semantic_type\": \"\",\n        \"description\": \"\"\n      }\n    },\n    {\n      \"column\": \"bus\",\n      \"properties\": {\n        \"dtype\": \"float32\",\n        \"num_unique_values\": 6,\n        \"samples\": [\n          0.09000000357627869,\n          0.10000000149011612,\n          0.07999999821186066\n        ],\n        \"semantic_type\": \"\",\n        \"description\": \"\"\n      }\n    },\n    {\n      \"column\": \"train\",\n      \"properties\": {\n        \"dtype\": \"float32\",\n        \"num_unique_values\": 4,\n        \"samples\": [\n          0.09000000357627869,\n          0.0,\n          0.07999999821186066\n        ],\n        \"semantic_type\": \"\",\n        \"description\": \"\"\n      }\n    }\n  ]\n}"
            }
          },
          "metadata": {}
        }
      ]
    },
    {
      "cell_type": "code",
      "source": [
        "print(train_ds.element_spec)\n",
        "next(train_ds.as_numpy_iterator())"
      ],
      "metadata": {
        "id": "G80B_OCWPSYX",
        "outputId": "283875e2-f617-4cc9-a2e2-b66480eb925c",
        "colab": {
          "base_uri": "https://localhost:8080/"
        }
      },
      "id": "G80B_OCWPSYX",
      "execution_count": 26,
      "outputs": [
        {
          "output_type": "stream",
          "name": "stdout",
          "text": [
            "((TensorSpec(shape=(), dtype=tf.int64, name=None), TensorSpec(shape=(), dtype=tf.int64, name=None)), TensorSpec(shape=(), dtype=tf.int32, name=None))\n"
          ]
        },
        {
          "output_type": "execute_result",
          "data": {
            "text/plain": [
              "((np.int64(284), np.int64(17)), np.int32(1))"
            ]
          },
          "metadata": {},
          "execution_count": 26
        }
      ]
    },
    {
      "cell_type": "code",
      "source": [
        "classifier_train_ds = tf.data.Dataset.from_tensor_slices((vectorized_train, df_train[\"sentiment\"].values))\n",
        "\n",
        "print(classifier_train_ds.element_spec)\n",
        "next(classifier_train_ds.as_numpy_iterator())"
      ],
      "metadata": {
        "id": "HS-tFMUvPYBb",
        "outputId": "ccdd09c4-ab95-41b5-d741-5620701a813d",
        "colab": {
          "base_uri": "https://localhost:8080/"
        }
      },
      "id": "HS-tFMUvPYBb",
      "execution_count": null,
      "outputs": [
        {
          "output_type": "stream",
          "name": "stdout",
          "text": [
            "(TensorSpec(shape=(33,), dtype=tf.int64, name=None), TensorSpec(shape=(), dtype=tf.string, name=None))\n"
          ]
        },
        {
          "output_type": "execute_result",
          "data": {
            "text/plain": [
              "(array([  293,    17, 15185,    69,     2,   120,    47,     0,     0,\n",
              "            0,     0,     0,     0,     0,     0,     0,     0,     0,\n",
              "            0,     0,     0,     0,     0,     0,     0,     0,     0,\n",
              "            0,     0,     0,     0,     0,     0]),\n",
              " b'neutral')"
            ]
          },
          "metadata": {},
          "execution_count": 40
        }
      ]
    },
    {
      "cell_type": "code",
      "source": [
        "embedding_layer = tf.keras.layers.Embedding(\n",
        "    input_dim=embeddings.shape[0],\n",
        "    output_dim=embeddings.shape[1],\n",
        "    weights=[embeddings],\n",
        "    trainable=False\n",
        ")\n",
        "\n",
        "def embed_and_flatten(indices, label):\n",
        "    embedded = embedding_layer(indices)        # shape: (seq_len, embed_dim)\n",
        "    flat = tf.reshape(embedded, [-1])          # shape: (seq_len * embed_dim,)\n",
        "    return flat, label"
      ],
      "metadata": {
        "id": "8kin8-5YRikR"
      },
      "id": "8kin8-5YRikR",
      "execution_count": null,
      "outputs": []
    },
    {
      "cell_type": "code",
      "source": [
        "classifier_train_ds = classifier_train_ds.map(embed_and_flatten)\n",
        "print(classifier_train_ds.element_spec)\n",
        "next(classifier_train_ds.as_numpy_iterator())"
      ],
      "metadata": {
        "id": "fQulJta9Qf4m",
        "outputId": "45e3f88f-36ec-459d-db4d-7994e18b27b0",
        "colab": {
          "base_uri": "https://localhost:8080/"
        }
      },
      "id": "fQulJta9Qf4m",
      "execution_count": null,
      "outputs": [
        {
          "output_type": "stream",
          "name": "stdout",
          "text": [
            "(TensorSpec(shape=(4224,), dtype=tf.float32, name=None), TensorSpec(shape=(), dtype=tf.string, name=None))\n"
          ]
        },
        {
          "output_type": "execute_result",
          "data": {
            "text/plain": [
              "(array([-0.17132318, -0.15126888, -0.17530611, ...,  0.4272256 ,\n",
              "        -0.41871053, -0.40135565], dtype=float32),\n",
              " b'neutral')"
            ]
          },
          "metadata": {},
          "execution_count": 42
        }
      ]
    },
    {
      "cell_type": "code",
      "source": [
        "# Define a lookup table to convert string → integer\n",
        "label_lookup = tf.keras.layers.StringLookup(\n",
        "    vocabulary=df_train[\"sentiment\"].unique().tolist(),\n",
        "    num_oov_indices=0,\n",
        ")\n",
        "\n",
        "# Optional: one-hot encode\n",
        "num_classes = label_lookup.vocabulary_size()\n",
        "\n",
        "classifier_train_ds = classifier_train_ds.map(lambda x, y: (x, tf.one_hot(label_lookup(y), depth=num_classes)))\n",
        "\n",
        "print(classifier_train_ds.element_spec)\n",
        "next(classifier_train_ds.as_numpy_iterator())"
      ],
      "metadata": {
        "id": "VC1oGoZeYIKe",
        "outputId": "5e75026e-f419-4367-8f46-aae31c8ac786",
        "colab": {
          "base_uri": "https://localhost:8080/"
        }
      },
      "id": "VC1oGoZeYIKe",
      "execution_count": null,
      "outputs": [
        {
          "output_type": "stream",
          "name": "stdout",
          "text": [
            "(TensorSpec(shape=(4224,), dtype=tf.float32, name=None), TensorSpec(shape=(3,), dtype=tf.float32, name=None))\n"
          ]
        },
        {
          "output_type": "execute_result",
          "data": {
            "text/plain": [
              "(array([-0.17132318, -0.15126888, -0.17530611, ...,  0.4272256 ,\n",
              "        -0.41871053, -0.40135565], dtype=float32),\n",
              " array([1., 0., 0.], dtype=float32))"
            ]
          },
          "metadata": {},
          "execution_count": 43
        }
      ]
    },
    {
      "cell_type": "code",
      "source": [
        "classifier_train_ds = classifier_train_ds.batch(128)"
      ],
      "metadata": {
        "id": "-f4ljpZPUwEC"
      },
      "id": "-f4ljpZPUwEC",
      "execution_count": null,
      "outputs": []
    },
    {
      "cell_type": "code",
      "source": [
        "import tensorflow as tf\n",
        "\n",
        "model = tf.keras.Sequential([\n",
        "    tf.keras.layers.Dense(32, activation='relu'),\n",
        "    tf.keras.layers.Dense(3, activation='softmax')  # 3-class classification\n",
        "])\n",
        "\n",
        "model.compile(optimizer='adam', loss='binary_crossentropy', metrics=['accuracy'])\n",
        "\n",
        "model.fit(classifier_train_ds, epochs=3)\n"
      ],
      "metadata": {
        "id": "uQ2vXFPkUGM0",
        "outputId": "9cc79eee-6daf-40cc-cf71-630e554f5f24",
        "colab": {
          "base_uri": "https://localhost:8080/"
        }
      },
      "id": "uQ2vXFPkUGM0",
      "execution_count": null,
      "outputs": [
        {
          "output_type": "stream",
          "name": "stdout",
          "text": [
            "Epoch 1/3\n",
            "\u001b[1m215/215\u001b[0m \u001b[32m━━━━━━━━━━━━━━━━━━━━\u001b[0m\u001b[37m\u001b[0m \u001b[1m3s\u001b[0m 9ms/step - accuracy: 0.3925 - loss: 0.6410\n",
            "Epoch 2/3\n",
            "\u001b[1m215/215\u001b[0m \u001b[32m━━━━━━━━━━━━━━━━━━━━\u001b[0m\u001b[37m\u001b[0m \u001b[1m2s\u001b[0m 8ms/step - accuracy: 0.4302 - loss: 0.6215\n",
            "Epoch 3/3\n",
            "\u001b[1m215/215\u001b[0m \u001b[32m━━━━━━━━━━━━━━━━━━━━\u001b[0m\u001b[37m\u001b[0m \u001b[1m2s\u001b[0m 8ms/step - accuracy: 0.4364 - loss: 0.6138\n"
          ]
        },
        {
          "output_type": "execute_result",
          "data": {
            "text/plain": [
              "<keras.src.callbacks.history.History at 0x7fb6dc72b1d0>"
            ]
          },
          "metadata": {},
          "execution_count": 45
        }
      ]
    }
  ],
  "metadata": {
    "kernelspec": {
      "display_name": "Python 3",
      "name": "python3"
    },
    "language_info": {
      "codemirror_mode": {
        "name": "ipython",
        "version": 3
      },
      "file_extension": ".py",
      "mimetype": "text/x-python",
      "name": "python",
      "nbconvert_exporter": "python",
      "pygments_lexer": "ipython3",
      "version": "3.10.12"
    },
    "colab": {
      "provenance": [],
      "gpuType": "V28"
    },
    "accelerator": "TPU"
  },
  "nbformat": 4,
  "nbformat_minor": 5
}