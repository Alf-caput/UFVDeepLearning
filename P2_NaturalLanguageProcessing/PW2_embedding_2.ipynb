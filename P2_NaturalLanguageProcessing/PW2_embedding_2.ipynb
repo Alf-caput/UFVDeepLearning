{
  "cells": [
    {
      "cell_type": "markdown",
      "id": "5c968420",
      "metadata": {
        "id": "5c968420"
      },
      "source": [
        "# Practica 2 - Natural Language processing"
      ]
    },
    {
      "cell_type": "markdown",
      "id": "7dc8f458",
      "metadata": {
        "id": "7dc8f458"
      },
      "source": [
        "## Librerías"
      ]
    },
    {
      "cell_type": "code",
      "execution_count": 3,
      "id": "4b54bd23",
      "metadata": {
        "id": "4b54bd23"
      },
      "outputs": [],
      "source": [
        "import numpy as np\n",
        "\n",
        "import tensorflow as tf\n",
        "\n",
        "import pandas as pd\n",
        "from collections import Counter\n",
        "import re\n",
        "\n",
        "from tensorflow import keras\n",
        "\n",
        "\n",
        "import numpy as np\n",
        "import tensorflow as tf\n",
        "\n",
        "from tensorflow import keras\n",
        "from tensorflow.keras.utils import to_categorical\n",
        "\n",
        "from tensorflow.keras import Model, Input, layers\n",
        "from tensorflow.keras.layers import Embedding, Dot, Reshape, Dense\n",
        "\n",
        "from tensorflow.keras.preprocessing.text import Tokenizer\n",
        "from tensorflow.keras.preprocessing.sequence import skipgrams\n",
        "\n",
        "from keras.callbacks import TensorBoard\n",
        "\n",
        "import re\n",
        "from collections import Counter\n",
        "from tensorflow.keras.preprocessing.text import Tokenizer\n",
        "\n",
        "import numpy as np\n",
        "from tensorflow.keras.preprocessing.sequence import skipgrams"
      ]
    },
    {
      "cell_type": "markdown",
      "id": "49d7982c",
      "metadata": {
        "id": "49d7982c"
      },
      "source": [
        "## Funciones"
      ]
    },
    {
      "cell_type": "markdown",
      "id": "66f57b9d",
      "metadata": {
        "id": "66f57b9d"
      },
      "source": [
        "## Descarga y proceso de datos"
      ]
    },
    {
      "cell_type": "markdown",
      "id": "eec4e58f",
      "metadata": {
        "id": "eec4e58f"
      },
      "source": [
        "### Carga de datos"
      ]
    },
    {
      "cell_type": "code",
      "execution_count": 4,
      "id": "41d34a01",
      "metadata": {
        "id": "41d34a01",
        "outputId": "273ad120-030f-4156-9390-efaae7af24b4",
        "colab": {
          "base_uri": "https://localhost:8080/"
        }
      },
      "outputs": [
        {
          "output_type": "stream",
          "name": "stdout",
          "text": [
            "Fallo con encoding utf-8, probando siguiente...\n",
            "Cargado 'train.csv' con encoding latin1\n",
            "Cargado 'test.csv' con encoding latin1\n",
            "Train shape: (27481, 10)\n",
            "Test  shape: (4815, 9)\n"
          ]
        }
      ],
      "source": [
        "import os\n",
        "import pandas as pd\n",
        "\n",
        "# 1. Directorio portable a P2_NaturalLanguageProcessing/data\n",
        "cwd      = os.getcwd()\n",
        "data_dir = os.path.join(cwd, 'data')\n",
        "\n",
        "# 2. Rutas a los CSV\n",
        "train_path = os.path.join(data_dir, 'train.csv')\n",
        "test_path  = os.path.join(data_dir, 'test.csv')\n",
        "\n",
        "# 3. Lista de codificaciones a probar\n",
        "encodings = ['utf-8', 'latin1', 'iso-8859-1', 'cp1252']\n",
        "\n",
        "def load_csv(path, enc_list):\n",
        "    for enc in enc_list:\n",
        "        try:\n",
        "            df = pd.read_csv(path, encoding=enc)\n",
        "            print(f\"Cargado '{os.path.basename(path)}' con encoding {enc}\")\n",
        "            return df, enc\n",
        "        except UnicodeDecodeError:\n",
        "            print(f\"Fallo con encoding {enc}, probando siguiente...\")\n",
        "    raise ValueError(f\"No se pudo decodificar {path} con las codificaciones {enc_list}\")\n",
        "\n",
        "# 4. Cargar ambos conjuntos usando la misma codificación\n",
        "train_df, used_enc = load_csv(train_path, encodings)\n",
        "test_df, _      = load_csv(test_path, [used_enc])\n",
        "\n",
        "# 5. Verificación\n",
        "print(f\"Train shape: {train_df.shape}\")\n",
        "print(f\"Test  shape: {test_df.shape}\")\n"
      ]
    },
    {
      "cell_type": "markdown",
      "id": "e7f1bd05",
      "metadata": {
        "id": "e7f1bd05"
      },
      "source": [
        "### Exploración y limpieza de datos"
      ]
    },
    {
      "cell_type": "code",
      "execution_count": 5,
      "id": "61a5800b",
      "metadata": {
        "id": "61a5800b",
        "outputId": "5979fb7c-fb44-43cc-b721-484b5c7b3627",
        "colab": {
          "base_uri": "https://localhost:8080/"
        }
      },
      "outputs": [
        {
          "output_type": "stream",
          "name": "stdout",
          "text": [
            "<class 'pandas.core.frame.DataFrame'>\n",
            "RangeIndex: 32296 entries, 0 to 32295\n",
            "Data columns (total 10 columns):\n",
            " #   Column            Non-Null Count  Dtype  \n",
            "---  ------            --------------  -----  \n",
            " 0   textID            31015 non-null  object \n",
            " 1   text              31014 non-null  object \n",
            " 2   selected_text     27480 non-null  object \n",
            " 3   sentiment         31015 non-null  object \n",
            " 4   Time of Tweet     31015 non-null  object \n",
            " 5   Age of User       31015 non-null  object \n",
            " 6   Country           31015 non-null  object \n",
            " 7   Population -2020  31015 non-null  float64\n",
            " 8   Land Area (Km²)   31015 non-null  float64\n",
            " 9   Density (P/Km²)   31015 non-null  float64\n",
            "dtypes: float64(3), object(7)\n",
            "memory usage: 2.5+ MB\n",
            "None\n",
            "       textID                                               text  \\\n",
            "0  cb774db0d1                I`d have responded, if I were going   \n",
            "1  549e992a42      Sooo SAD I will miss you here in San Diego!!!   \n",
            "2  088c60f138                          my boss is bullying me...   \n",
            "3  9642c003ef                     what interview! leave me alone   \n",
            "4  358bd9e861   Sons of ****, why couldn`t they put them on t...   \n",
            "\n",
            "                         selected_text sentiment Time of Tweet Age of User  \\\n",
            "0  I`d have responded, if I were going   neutral       morning        0-20   \n",
            "1                             Sooo SAD  negative          noon       21-30   \n",
            "2                          bullying me  negative         night       31-45   \n",
            "3                       leave me alone  negative       morning       46-60   \n",
            "4                        Sons of ****,  negative          noon       60-70   \n",
            "\n",
            "       Country  Population -2020  Land Area (Km²)  Density (P/Km²)  \n",
            "0  Afghanistan        38928346.0         652860.0             60.0  \n",
            "1      Albania         2877797.0          27400.0            105.0  \n",
            "2      Algeria        43851044.0        2381740.0             18.0  \n",
            "3      Andorra           77265.0            470.0            164.0  \n",
            "4       Angola        32866272.0        1246700.0             26.0  \n",
            "Total de muestras: 32296\n",
            "Palabras únicas encontradas: 28490\n",
            "Top 10 palabras más frecuentes: [('i', 18870), ('to', 11249), ('the', 10200), ('a', 7609), ('my', 6264), ('it', 6123), ('you', 6040), ('and', 5827), ('is', 4490), ('in', 4279)]\n",
            "BUFFER_SIZE = 32768\n",
            "BATCH_SIZE = 128\n",
            "VOCAB_SIZE = 8192\n"
          ]
        }
      ],
      "source": [
        "# 5. Juntar los DataFrames para facilitar el preprocesado\n",
        "data_df = pd.concat([train_df, test_df], ignore_index=True)      # concatenación[2]\n",
        "\n",
        "# 6. Inspeccionar estructura básica\n",
        "print(data_df.info())\n",
        "print(data_df.head())\n",
        "\n",
        "# 7. Contar palabras únicas en la columna 'text' para estimar VOCAB_SIZE\n",
        "all_text = ' '.join(data_df['text'].astype(str)).lower()\n",
        "words = re.findall(r'\\b\\w+\\b', all_text)\n",
        "word_counts = Counter(words)\n",
        "unique_words = len(word_counts)\n",
        "\n",
        "print(f\"Total de muestras: {data_df.shape[0]}\")\n",
        "print(f\"Palabras únicas encontradas: {unique_words}\")\n",
        "print(\"Top 10 palabras más frecuentes:\", word_counts.most_common(10))\n",
        "\n",
        "# 8. Definir parámetros para TensorFlow/Keras\n",
        "BUFFER_SIZE = 32768      # chivo mayor al dataset para buen shuffle 2^15\n",
        "BATCH_SIZE = 128        # potencia de 2 adecuada para GPU\n",
        "VOCAB_SIZE = 8192      # tamaño del vocabulario[4]\n",
        "\n",
        "print(\"BUFFER_SIZE =\", BUFFER_SIZE)\n",
        "print(\"BATCH_SIZE =\", BATCH_SIZE)\n",
        "print(\"VOCAB_SIZE =\", VOCAB_SIZE)"
      ]
    },
    {
      "cell_type": "markdown",
      "source": [
        "### Limpieza de datos:"
      ],
      "metadata": {
        "id": "T0rNfwpW2RQY"
      },
      "id": "T0rNfwpW2RQY"
    },
    {
      "cell_type": "code",
      "source": [],
      "metadata": {
        "id": "cg8lo1DF2T8z"
      },
      "id": "cg8lo1DF2T8z",
      "execution_count": null,
      "outputs": []
    },
    {
      "cell_type": "markdown",
      "id": "28aad5dd",
      "metadata": {
        "id": "28aad5dd"
      },
      "source": [
        "### Preparación de datos"
      ]
    },
    {
      "cell_type": "markdown",
      "id": "f88eb256",
      "metadata": {
        "id": "f88eb256"
      },
      "source": [
        "#### Creación del corpus"
      ]
    },
    {
      "cell_type": "code",
      "execution_count": 6,
      "id": "9d2350be",
      "metadata": {
        "id": "9d2350be",
        "outputId": "a0dbe5a0-8383-4c76-bcb1-9931bcf7754d",
        "colab": {
          "base_uri": "https://localhost:8080/"
        }
      },
      "outputs": [
        {
          "output_type": "stream",
          "name": "stdout",
          "text": [
            "Primeros 5 textos filtrados: ['i d have responded if i were going', 'sooo sad i will miss you here in san diego', 'my boss is me', 'what interview leave me alone', 'sons of why couldn t they put them on the releases we already bought']\n",
            "Primeras 5 secuencias: [[1, 163, 19, 7648, 71, 1, 151, 49], [421, 117, 1, 63, 94, 7, 91, 10, 1447, 2230], [5, 1410, 9, 16], [51, 1193, 350, 16, 495], [4254, 13, 118, 472, 14, 72, 332, 131, 17, 3, 7649, 50, 210, 569]]\n",
            "Tamaño de vocabulario efectivo: 8152\n"
          ]
        }
      ],
      "source": [
        "# 1. Seleccionar las 4 096 palabras más frecuentes\n",
        "most_common_words = {w for w, _ in word_counts.most_common(VOCAB_SIZE)}\n",
        "\n",
        "# 2. Filtrar cada texto para quedarnos solo con tokens en el top 4 096\n",
        "corpus_filtered = []\n",
        "for text in data_df['text'].dropna().astype(str):\n",
        "    tokens = re.findall(r'\\b\\w+\\b', text.lower())\n",
        "    filtered_tokens = [t for t in tokens if t in most_common_words]\n",
        "    corpus_filtered.append(\" \".join(filtered_tokens))\n",
        "\n",
        "# 3. Tokenizar el corpus filtrado\n",
        "tokenizer = Tokenizer(num_words=VOCAB_SIZE)\n",
        "tokenizer.fit_on_texts(corpus_filtered)\n",
        "\n",
        "# 4. Convertir textos a secuencias de índices\n",
        "sequences = tokenizer.texts_to_sequences(corpus_filtered)\n",
        "\n",
        "# 5. Diccionarios de mapeo y tamaño final de vocabulario\n",
        "word2idx = tokenizer.word_index\n",
        "idx2word = {i: w for w, i in word2idx.items()}\n",
        "vocab_size = min(len(word2idx) + 1, VOCAB_SIZE)\n",
        "\n",
        "# 6. Mostrar resultados de prueba\n",
        "print(\"Primeros 5 textos filtrados:\", corpus_filtered[:5])\n",
        "print(\"Primeras 5 secuencias:\", sequences[:5])\n",
        "print(\"Tamaño de vocabulario efectivo:\", vocab_size)\n"
      ]
    },
    {
      "cell_type": "markdown",
      "id": "d7606597",
      "metadata": {
        "id": "d7606597"
      },
      "source": [
        "#### Generación de los pares de entrenamiento"
      ]
    },
    {
      "cell_type": "code",
      "execution_count": 7,
      "id": "8c56d118",
      "metadata": {
        "id": "8c56d118",
        "outputId": "9dcb87d2-5d4d-4b0e-cf72-1292691c40b2",
        "colab": {
          "base_uri": "https://localhost:8080/"
        }
      },
      "outputs": [
        {
          "output_type": "stream",
          "name": "stdout",
          "text": [
            "Window=2: 1384586 pares generados\n",
            "Window=4: 2530442 pares generados\n"
          ]
        }
      ],
      "source": [
        "# Parámetros generales\n",
        "# vocab_size_eff    = vocab_size    # p.ej. 8192\n",
        "negative_samples  = 0.0\n",
        "seed_value        = 42\n",
        "\n",
        "# Ventanas para generar pares\n",
        "window_sizes = [2, 4]\n",
        "\n",
        "# Contenedor de pares por tamaño de ventana\n",
        "pairs_by_window = {}\n",
        "\n",
        "for w in window_sizes:\n",
        "    pairs = []\n",
        "    for seq in sequences:\n",
        "        if len(seq) < 2:\n",
        "            continue\n",
        "        # Generar solo pares positivos con skipgrams\n",
        "        pos_pairs, _ = skipgrams(\n",
        "            sequence=seq,\n",
        "            vocabulary_size=vocab_size,\n",
        "            window_size=w,\n",
        "            negative_samples=negative_samples,\n",
        "            shuffle=True,\n",
        "            seed=seed_value\n",
        "        )\n",
        "        pairs.extend(pos_pairs)\n",
        "\n",
        "    # Convertir a arrays target/context\n",
        "    if pairs:\n",
        "        t, c = zip(*pairs)\n",
        "        targets  = np.array(t, dtype='int32')\n",
        "        contexts = np.array(c, dtype='int32')\n",
        "    else:\n",
        "        targets  = np.zeros((0,), dtype='int32')\n",
        "        contexts = np.zeros((0,), dtype='int32')\n",
        "\n",
        "    pairs_by_window[w] = {\n",
        "        'pairs':   pairs,\n",
        "        'targets': targets,\n",
        "        'contexts':contexts\n",
        "    }\n",
        "    print(f\"Window={w}: {len(pairs)} pares generados\")\n",
        "\n",
        "# Ejemplo de acceso:\n",
        "# pairs_by_window[2]['targets'], pairs_by_window[2]['contexts']\n",
        "# pairs_by_window[4]['targets'], pairs_by_window[4]['contexts']\n",
        "\n"
      ]
    },
    {
      "cell_type": "markdown",
      "id": "8a0ad6f6",
      "metadata": {
        "id": "8a0ad6f6"
      },
      "source": [
        "#### Integer-encoding\n",
        "Un poco de teoría de los dos encoders:\n",
        "\n",
        "- Integer encoding: X_target y X_context son vectores de enteros donde cada valor es el índice de palabra en el vocabulario. Es lo adecuado cuando se usa una capa Embedding, ya que Keras transforma internamente cada índice en su vector embebido.\n",
        "\n",
        "- One-hot encoding: cada índice se convierte en un vector binario de longitud vocab_size con un único 1 en la posición correspondiente al índice. Ocupa mucha más memoria y rara vez es necesario si tu primer bloque es Embedding."
      ]
    },
    {
      "cell_type": "code",
      "execution_count": 8,
      "id": "4c405434",
      "metadata": {
        "id": "4c405434",
        "outputId": "871c2cd2-1d29-476b-8380-f421b358cb49",
        "colab": {
          "base_uri": "https://localhost:8080/"
        }
      },
      "outputs": [
        {
          "output_type": "stream",
          "name": "stdout",
          "text": [
            "--- Ventana = 2 ---\n",
            "Número de pares: 1384586\n",
            "X_target shape: (1384586,)\n",
            "X_context shape: (1384586,)\n",
            "y_train shape: (1384586,)\n",
            "\n",
            "--- Ventana = 4 ---\n",
            "Número de pares: 2530442\n",
            "X_target shape: (2530442,)\n",
            "X_context shape: (2530442,)\n",
            "y_train shape: (2530442,)\n",
            "\n"
          ]
        }
      ],
      "source": [
        "import numpy as np\n",
        "\n",
        "# Suponemos que ya existe:\n",
        "#  - pairs_by_window: dict con keys 2 y 4, cada uno contiene 'targets' y 'contexts'\n",
        "#  - vocab_size: tamaño efectivo del vocabulario (p.ej. 8192)\n",
        "\n",
        "datasets = {}\n",
        "\n",
        "for w, data in pairs_by_window.items():\n",
        "    # 1. Extraer targets y contexts\n",
        "    targets  = data['targets']    # array shape (n_pairs,)\n",
        "    contexts = data['contexts']   # array shape (n_pairs,)\n",
        "\n",
        "    # 2. Crear X_train como representación dispersa (enteros)\n",
        "    X_target  = targets\n",
        "    X_context = contexts\n",
        "    X_train   = [X_target, X_context]\n",
        "\n",
        "    # 3. Etiquetas positivas\n",
        "    y_train = np.ones((len(targets),), dtype='int32')\n",
        "\n",
        "    # 4. Almacenar en el nuevo dict\n",
        "    datasets[w] = {\n",
        "        'X_train': X_train,\n",
        "        'y_train': y_train\n",
        "    }\n",
        "\n",
        "    # 5. Mostrar shapes de comprobación\n",
        "    print(f\"--- Ventana = {w} ---\")\n",
        "    print(\"Número de pares:\", len(targets))\n",
        "    print(\"X_target shape:\",  X_target.shape)\n",
        "    print(\"X_context shape:\", X_context.shape)\n",
        "    print(\"y_train shape:\",    y_train.shape)\n",
        "    print()\n",
        "\n",
        "# Acceso posterior:\n",
        "# datasets[2]['X_train'], datasets[2]['y_train']\n",
        "# datasets[4]['X_train'], datasets[4]['y_train']"
      ]
    },
    {
      "cell_type": "markdown",
      "id": "c96e6680",
      "metadata": {
        "id": "c96e6680"
      },
      "source": [
        "## Arquitectura y ejecucción"
      ]
    },
    {
      "cell_type": "code",
      "execution_count": 9,
      "id": "ea3cfdbe",
      "metadata": {
        "id": "ea3cfdbe",
        "outputId": "4467cb2c-6612-4176-a0a8-72d6805ecef7",
        "colab": {
          "base_uri": "https://localhost:8080/"
        }
      },
      "outputs": [
        {
          "output_type": "stream",
          "name": "stdout",
          "text": [
            "\n",
            "Entrenando Skip-Gram: window=2, embed_dim=45\n"
          ]
        },
        {
          "output_type": "stream",
          "name": "stderr",
          "text": [
            "/usr/local/lib/python3.11/dist-packages/keras/src/layers/core/embedding.py:90: UserWarning: Argument `input_length` is deprecated. Just remove it.\n",
            "  warnings.warn(\n"
          ]
        },
        {
          "output_type": "stream",
          "name": "stdout",
          "text": [
            "Epoch 1/10\n",
            "\u001b[1m10818/10818\u001b[0m \u001b[32m━━━━━━━━━━━━━━━━━━━━\u001b[0m\u001b[37m\u001b[0m \u001b[1m25s\u001b[0m 2ms/step - accuracy: 0.9842 - loss: 0.0271\n",
            "Epoch 2/10\n",
            "\u001b[1m10818/10818\u001b[0m \u001b[32m━━━━━━━━━━━━━━━━━━━━\u001b[0m\u001b[37m\u001b[0m \u001b[1m25s\u001b[0m 2ms/step - accuracy: 1.0000 - loss: 3.4881e-07\n",
            "Epoch 3/10\n",
            "\u001b[1m10818/10818\u001b[0m \u001b[32m━━━━━━━━━━━━━━━━━━━━\u001b[0m\u001b[37m\u001b[0m \u001b[1m39s\u001b[0m 2ms/step - accuracy: 1.0000 - loss: 4.0187e-08\n",
            "Epoch 4/10\n",
            "\u001b[1m10818/10818\u001b[0m \u001b[32m━━━━━━━━━━━━━━━━━━━━\u001b[0m\u001b[37m\u001b[0m \u001b[1m41s\u001b[0m 2ms/step - accuracy: 1.0000 - loss: 2.0562e-08\n",
            "Epoch 5/10\n",
            "\u001b[1m10818/10818\u001b[0m \u001b[32m━━━━━━━━━━━━━━━━━━━━\u001b[0m\u001b[37m\u001b[0m \u001b[1m23s\u001b[0m 2ms/step - accuracy: 1.0000 - loss: 1.3906e-08\n",
            "Epoch 6/10\n",
            "\u001b[1m10818/10818\u001b[0m \u001b[32m━━━━━━━━━━━━━━━━━━━━\u001b[0m\u001b[37m\u001b[0m \u001b[1m23s\u001b[0m 2ms/step - accuracy: 1.0000 - loss: 1.0460e-08\n",
            "Epoch 7/10\n",
            "\u001b[1m10818/10818\u001b[0m \u001b[32m━━━━━━━━━━━━━━━━━━━━\u001b[0m\u001b[37m\u001b[0m \u001b[1m23s\u001b[0m 2ms/step - accuracy: 1.0000 - loss: 8.4691e-09\n",
            "Epoch 8/10\n",
            "\u001b[1m10818/10818\u001b[0m \u001b[32m━━━━━━━━━━━━━━━━━━━━\u001b[0m\u001b[37m\u001b[0m \u001b[1m41s\u001b[0m 2ms/step - accuracy: 1.0000 - loss: 7.0257e-09\n",
            "Epoch 9/10\n",
            "\u001b[1m10818/10818\u001b[0m \u001b[32m━━━━━━━━━━━━━━━━━━━━\u001b[0m\u001b[37m\u001b[0m \u001b[1m41s\u001b[0m 2ms/step - accuracy: 1.0000 - loss: 6.0455e-09\n",
            "Epoch 10/10\n",
            "\u001b[1m10818/10818\u001b[0m \u001b[32m━━━━━━━━━━━━━━━━━━━━\u001b[0m\u001b[37m\u001b[0m \u001b[1m42s\u001b[0m 2ms/step - accuracy: 1.0000 - loss: 5.3199e-09\n",
            "\n",
            "Entrenando Skip-Gram: window=2, embed_dim=312\n",
            "Epoch 1/10\n",
            "\u001b[1m10818/10818\u001b[0m \u001b[32m━━━━━━━━━━━━━━━━━━━━\u001b[0m\u001b[37m\u001b[0m \u001b[1m28s\u001b[0m 2ms/step - accuracy: 0.9846 - loss: 0.0236\n",
            "Epoch 2/10\n",
            "\u001b[1m10818/10818\u001b[0m \u001b[32m━━━━━━━━━━━━━━━━━━━━\u001b[0m\u001b[37m\u001b[0m \u001b[1m26s\u001b[0m 2ms/step - accuracy: 1.0000 - loss: 8.5114e-08\n",
            "Epoch 3/10\n",
            "\u001b[1m10818/10818\u001b[0m \u001b[32m━━━━━━━━━━━━━━━━━━━━\u001b[0m\u001b[37m\u001b[0m \u001b[1m26s\u001b[0m 2ms/step - accuracy: 1.0000 - loss: 1.7518e-08\n",
            "Epoch 4/10\n",
            "\u001b[1m10818/10818\u001b[0m \u001b[32m━━━━━━━━━━━━━━━━━━━━\u001b[0m\u001b[37m\u001b[0m \u001b[1m26s\u001b[0m 2ms/step - accuracy: 1.0000 - loss: 1.0029e-08\n",
            "Epoch 5/10\n",
            "\u001b[1m10818/10818\u001b[0m \u001b[32m━━━━━━━━━━━━━━━━━━━━\u001b[0m\u001b[37m\u001b[0m \u001b[1m42s\u001b[0m 2ms/step - accuracy: 1.0000 - loss: 7.0089e-09\n",
            "Epoch 6/10\n",
            "\u001b[1m10818/10818\u001b[0m \u001b[32m━━━━━━━━━━━━━━━━━━━━\u001b[0m\u001b[37m\u001b[0m \u001b[1m27s\u001b[0m 2ms/step - accuracy: 1.0000 - loss: 5.3979e-09\n",
            "Epoch 7/10\n",
            "\u001b[1m10818/10818\u001b[0m \u001b[32m━━━━━━━━━━━━━━━━━━━━\u001b[0m\u001b[37m\u001b[0m \u001b[1m43s\u001b[0m 3ms/step - accuracy: 1.0000 - loss: 4.4293e-09\n",
            "Epoch 8/10\n",
            "\u001b[1m10818/10818\u001b[0m \u001b[32m━━━━━━━━━━━━━━━━━━━━\u001b[0m\u001b[37m\u001b[0m \u001b[1m38s\u001b[0m 2ms/step - accuracy: 1.0000 - loss: 3.6992e-09\n",
            "Epoch 9/10\n",
            "\u001b[1m10818/10818\u001b[0m \u001b[32m━━━━━━━━━━━━━━━━━━━━\u001b[0m\u001b[37m\u001b[0m \u001b[1m27s\u001b[0m 2ms/step - accuracy: 1.0000 - loss: 3.2495e-09\n",
            "Epoch 10/10\n",
            "\u001b[1m10818/10818\u001b[0m \u001b[32m━━━━━━━━━━━━━━━━━━━━\u001b[0m\u001b[37m\u001b[0m \u001b[1m41s\u001b[0m 2ms/step - accuracy: 1.0000 - loss: 2.8525e-09\n",
            "\n",
            "Entrenando Skip-Gram: window=2, embed_dim=752\n",
            "Epoch 1/10\n"
          ]
        },
        {
          "output_type": "stream",
          "name": "stderr",
          "text": [
            "/usr/local/lib/python3.11/dist-packages/keras/src/layers/core/embedding.py:90: UserWarning: Argument `input_length` is deprecated. Just remove it.\n",
            "  warnings.warn(\n"
          ]
        },
        {
          "output_type": "stream",
          "name": "stdout",
          "text": [
            "\u001b[1m10818/10818\u001b[0m \u001b[32m━━━━━━━━━━━━━━━━━━━━\u001b[0m\u001b[37m\u001b[0m \u001b[1m34s\u001b[0m 3ms/step - accuracy: 0.9847 - loss: 0.0236\n",
            "Epoch 2/10\n",
            "\u001b[1m10818/10818\u001b[0m \u001b[32m━━━━━━━━━━━━━━━━━━━━\u001b[0m\u001b[37m\u001b[0m \u001b[1m40s\u001b[0m 3ms/step - accuracy: 1.0000 - loss: 2.0286e-05\n",
            "Epoch 3/10\n",
            "\u001b[1m10818/10818\u001b[0m \u001b[32m━━━━━━━━━━━━━━━━━━━━\u001b[0m\u001b[37m\u001b[0m \u001b[1m32s\u001b[0m 3ms/step - accuracy: 1.0000 - loss: 9.2005e-09\n",
            "Epoch 4/10\n",
            "\u001b[1m10818/10818\u001b[0m \u001b[32m━━━━━━━━━━━━━━━━━━━━\u001b[0m\u001b[37m\u001b[0m \u001b[1m32s\u001b[0m 3ms/step - accuracy: 1.0000 - loss: 5.4834e-09\n",
            "Epoch 5/10\n",
            "\u001b[1m10818/10818\u001b[0m \u001b[32m━━━━━━━━━━━━━━━━━━━━\u001b[0m\u001b[37m\u001b[0m \u001b[1m41s\u001b[0m 3ms/step - accuracy: 1.0000 - loss: 3.9728e-09\n",
            "Epoch 6/10\n",
            "\u001b[1m10818/10818\u001b[0m \u001b[32m━━━━━━━━━━━━━━━━━━━━\u001b[0m\u001b[37m\u001b[0m \u001b[1m41s\u001b[0m 3ms/step - accuracy: 1.0000 - loss: 3.0870e-09\n",
            "Epoch 7/10\n",
            "\u001b[1m10818/10818\u001b[0m \u001b[32m━━━━━━━━━━━━━━━━━━━━\u001b[0m\u001b[37m\u001b[0m \u001b[1m32s\u001b[0m 3ms/step - accuracy: 1.0000 - loss: 2.5616e-09\n",
            "Epoch 8/10\n",
            "\u001b[1m10818/10818\u001b[0m \u001b[32m━━━━━━━━━━━━━━━━━━━━\u001b[0m\u001b[37m\u001b[0m \u001b[1m40s\u001b[0m 3ms/step - accuracy: 1.0000 - loss: 2.1929e-09\n",
            "Epoch 9/10\n",
            "\u001b[1m10818/10818\u001b[0m \u001b[32m━━━━━━━━━━━━━━━━━━━━\u001b[0m\u001b[37m\u001b[0m \u001b[1m32s\u001b[0m 3ms/step - accuracy: 1.0000 - loss: 1.8918e-09\n",
            "Epoch 10/10\n",
            "\u001b[1m10818/10818\u001b[0m \u001b[32m━━━━━━━━━━━━━━━━━━━━\u001b[0m\u001b[37m\u001b[0m \u001b[1m41s\u001b[0m 3ms/step - accuracy: 1.0000 - loss: 1.6818e-09\n",
            "\n",
            "Entrenando Skip-Gram: window=4, embed_dim=45\n",
            "Epoch 1/10\n"
          ]
        },
        {
          "output_type": "stream",
          "name": "stderr",
          "text": [
            "/usr/local/lib/python3.11/dist-packages/keras/src/layers/core/embedding.py:90: UserWarning: Argument `input_length` is deprecated. Just remove it.\n",
            "  warnings.warn(\n"
          ]
        },
        {
          "output_type": "stream",
          "name": "stdout",
          "text": [
            "\u001b[1m19770/19770\u001b[0m \u001b[32m━━━━━━━━━━━━━━━━━━━━\u001b[0m\u001b[37m\u001b[0m \u001b[1m45s\u001b[0m 2ms/step - accuracy: 0.9905 - loss: 0.0165\n",
            "Epoch 2/10\n",
            "\u001b[1m19770/19770\u001b[0m \u001b[32m━━━━━━━━━━━━━━━━━━━━\u001b[0m\u001b[37m\u001b[0m \u001b[1m81s\u001b[0m 2ms/step - accuracy: 1.0000 - loss: 4.0222e-08\n",
            "Epoch 3/10\n",
            "\u001b[1m19770/19770\u001b[0m \u001b[32m━━━━━━━━━━━━━━━━━━━━\u001b[0m\u001b[37m\u001b[0m \u001b[1m82s\u001b[0m 2ms/step - accuracy: 1.0000 - loss: 1.4404e-08\n",
            "Epoch 4/10\n",
            "\u001b[1m19770/19770\u001b[0m \u001b[32m━━━━━━━━━━━━━━━━━━━━\u001b[0m\u001b[37m\u001b[0m \u001b[1m43s\u001b[0m 2ms/step - accuracy: 1.0000 - loss: 8.8061e-09\n",
            "Epoch 5/10\n",
            "\u001b[1m19770/19770\u001b[0m \u001b[32m━━━━━━━━━━━━━━━━━━━━\u001b[0m\u001b[37m\u001b[0m \u001b[1m82s\u001b[0m 2ms/step - accuracy: 1.0000 - loss: 6.3905e-09\n",
            "Epoch 6/10\n",
            "\u001b[1m19770/19770\u001b[0m \u001b[32m━━━━━━━━━━━━━━━━━━━━\u001b[0m\u001b[37m\u001b[0m \u001b[1m81s\u001b[0m 2ms/step - accuracy: 1.0000 - loss: 4.9729e-09\n",
            "Epoch 7/10\n",
            "\u001b[1m19770/19770\u001b[0m \u001b[32m━━━━━━━━━━━━━━━━━━━━\u001b[0m\u001b[37m\u001b[0m \u001b[1m44s\u001b[0m 2ms/step - accuracy: 1.0000 - loss: 4.1523e-09\n",
            "Epoch 8/10\n",
            "\u001b[1m19770/19770\u001b[0m \u001b[32m━━━━━━━━━━━━━━━━━━━━\u001b[0m\u001b[37m\u001b[0m \u001b[1m82s\u001b[0m 2ms/step - accuracy: 1.0000 - loss: 3.4782e-09\n",
            "Epoch 9/10\n",
            "\u001b[1m19770/19770\u001b[0m \u001b[32m━━━━━━━━━━━━━━━━━━━━\u001b[0m\u001b[37m\u001b[0m \u001b[1m82s\u001b[0m 2ms/step - accuracy: 1.0000 - loss: 3.0595e-09\n",
            "Epoch 10/10\n",
            "\u001b[1m19770/19770\u001b[0m \u001b[32m━━━━━━━━━━━━━━━━━━━━\u001b[0m\u001b[37m\u001b[0m \u001b[1m82s\u001b[0m 2ms/step - accuracy: 1.0000 - loss: 2.6861e-09\n",
            "\n",
            "Entrenando Skip-Gram: window=4, embed_dim=312\n",
            "Epoch 1/10\n"
          ]
        },
        {
          "output_type": "stream",
          "name": "stderr",
          "text": [
            "/usr/local/lib/python3.11/dist-packages/keras/src/layers/core/embedding.py:90: UserWarning: Argument `input_length` is deprecated. Just remove it.\n",
            "  warnings.warn(\n"
          ]
        },
        {
          "output_type": "stream",
          "name": "stdout",
          "text": [
            "\u001b[1m19770/19770\u001b[0m \u001b[32m━━━━━━━━━━━━━━━━━━━━\u001b[0m\u001b[37m\u001b[0m \u001b[1m48s\u001b[0m 2ms/step - accuracy: 0.9905 - loss: 0.0146\n",
            "Epoch 2/10\n",
            "\u001b[1m19770/19770\u001b[0m \u001b[32m━━━━━━━━━━━━━━━━━━━━\u001b[0m\u001b[37m\u001b[0m \u001b[1m81s\u001b[0m 2ms/step - accuracy: 1.0000 - loss: 1.8049e-08\n",
            "Epoch 3/10\n",
            "\u001b[1m19770/19770\u001b[0m \u001b[32m━━━━━━━━━━━━━━━━━━━━\u001b[0m\u001b[37m\u001b[0m \u001b[1m82s\u001b[0m 2ms/step - accuracy: 1.0000 - loss: 7.1045e-09\n",
            "Epoch 4/10\n",
            "\u001b[1m19770/19770\u001b[0m \u001b[32m━━━━━━━━━━━━━━━━━━━━\u001b[0m\u001b[37m\u001b[0m \u001b[1m82s\u001b[0m 2ms/step - accuracy: 1.0000 - loss: 4.5416e-09\n",
            "Epoch 5/10\n",
            "\u001b[1m19770/19770\u001b[0m \u001b[32m━━━━━━━━━━━━━━━━━━━━\u001b[0m\u001b[37m\u001b[0m \u001b[1m46s\u001b[0m 2ms/step - accuracy: 1.0000 - loss: 3.3837e-09\n",
            "Epoch 6/10\n",
            "\u001b[1m19770/19770\u001b[0m \u001b[32m━━━━━━━━━━━━━━━━━━━━\u001b[0m\u001b[37m\u001b[0m \u001b[1m84s\u001b[0m 2ms/step - accuracy: 1.0000 - loss: 2.6906e-09\n",
            "Epoch 7/10\n",
            "\u001b[1m19770/19770\u001b[0m \u001b[32m━━━━━━━━━━━━━━━━━━━━\u001b[0m\u001b[37m\u001b[0m \u001b[1m81s\u001b[0m 2ms/step - accuracy: 1.0000 - loss: 2.2333e-09\n",
            "Epoch 8/10\n",
            "\u001b[1m19770/19770\u001b[0m \u001b[32m━━━━━━━━━━━━━━━━━━━━\u001b[0m\u001b[37m\u001b[0m \u001b[1m84s\u001b[0m 2ms/step - accuracy: 1.0000 - loss: 1.9141e-09\n",
            "Epoch 9/10\n",
            "\u001b[1m19770/19770\u001b[0m \u001b[32m━━━━━━━━━━━━━━━━━━━━\u001b[0m\u001b[37m\u001b[0m \u001b[1m78s\u001b[0m 2ms/step - accuracy: 1.0000 - loss: 1.6735e-09\n",
            "Epoch 10/10\n",
            "\u001b[1m19770/19770\u001b[0m \u001b[32m━━━━━━━━━━━━━━━━━━━━\u001b[0m\u001b[37m\u001b[0m \u001b[1m49s\u001b[0m 2ms/step - accuracy: 1.0000 - loss: 1.4823e-09\n",
            "\n",
            "Entrenando Skip-Gram: window=4, embed_dim=752\n",
            "Epoch 1/10\n"
          ]
        },
        {
          "output_type": "stream",
          "name": "stderr",
          "text": [
            "/usr/local/lib/python3.11/dist-packages/keras/src/layers/core/embedding.py:90: UserWarning: Argument `input_length` is deprecated. Just remove it.\n",
            "  warnings.warn(\n"
          ]
        },
        {
          "output_type": "stream",
          "name": "stdout",
          "text": [
            "\u001b[1m19770/19770\u001b[0m \u001b[32m━━━━━━━━━━━━━━━━━━━━\u001b[0m\u001b[37m\u001b[0m \u001b[1m58s\u001b[0m 3ms/step - accuracy: 0.9906 - loss: 0.0142\n",
            "Epoch 2/10\n",
            "\u001b[1m19770/19770\u001b[0m \u001b[32m━━━━━━━━━━━━━━━━━━━━\u001b[0m\u001b[37m\u001b[0m \u001b[1m81s\u001b[0m 3ms/step - accuracy: 1.0000 - loss: 9.8461e-09\n",
            "Epoch 3/10\n",
            "\u001b[1m19770/19770\u001b[0m \u001b[32m━━━━━━━━━━━━━━━━━━━━\u001b[0m\u001b[37m\u001b[0m \u001b[1m85s\u001b[0m 3ms/step - accuracy: 1.0000 - loss: 3.9429e-09\n",
            "Epoch 4/10\n",
            "\u001b[1m19770/19770\u001b[0m \u001b[32m━━━━━━━━━━━━━━━━━━━━\u001b[0m\u001b[37m\u001b[0m \u001b[1m82s\u001b[0m 3ms/step - accuracy: 1.0000 - loss: 2.6098e-09\n",
            "Epoch 5/10\n",
            "\u001b[1m19770/19770\u001b[0m \u001b[32m━━━━━━━━━━━━━━━━━━━━\u001b[0m\u001b[37m\u001b[0m \u001b[1m61s\u001b[0m 3ms/step - accuracy: 1.0000 - loss: 1.9582e-09\n",
            "Epoch 6/10\n",
            "\u001b[1m19770/19770\u001b[0m \u001b[32m━━━━━━━━━━━━━━━━━━━━\u001b[0m\u001b[37m\u001b[0m \u001b[1m80s\u001b[0m 3ms/step - accuracy: 1.0000 - loss: 1.5884e-09\n",
            "Epoch 7/10\n",
            "\u001b[1m19770/19770\u001b[0m \u001b[32m━━━━━━━━━━━━━━━━━━━━\u001b[0m\u001b[37m\u001b[0m \u001b[1m80s\u001b[0m 3ms/step - accuracy: 1.0000 - loss: 1.3431e-09\n",
            "Epoch 8/10\n",
            "\u001b[1m19770/19770\u001b[0m \u001b[32m━━━━━━━━━━━━━━━━━━━━\u001b[0m\u001b[37m\u001b[0m \u001b[1m82s\u001b[0m 3ms/step - accuracy: 1.0000 - loss: 1.1535e-09\n",
            "Epoch 9/10\n",
            "\u001b[1m19770/19770\u001b[0m \u001b[32m━━━━━━━━━━━━━━━━━━━━\u001b[0m\u001b[37m\u001b[0m \u001b[1m56s\u001b[0m 3ms/step - accuracy: 1.0000 - loss: 1.0210e-09\n",
            "Epoch 10/10\n",
            "\u001b[1m19770/19770\u001b[0m \u001b[32m━━━━━━━━━━━━━━━━━━━━\u001b[0m\u001b[37m\u001b[0m \u001b[1m63s\u001b[0m 3ms/step - accuracy: 1.0000 - loss: 9.0589e-10\n"
          ]
        }
      ],
      "source": [
        "import numpy as np\n",
        "import tensorflow as tf\n",
        "from tensorflow.keras import Model\n",
        "from tensorflow.keras.layers import Input, Embedding, Dot, Reshape\n",
        "from tensorflow.keras.optimizers import Adam\n",
        "\n",
        "def build_skipgram_model(vocab_size,\n",
        "                         embedding_dim,\n",
        "                         learning_rate=0.025,\n",
        "                         beta_1=0.9,\n",
        "                         beta_2=0.999):\n",
        "    \"\"\"\n",
        "    Devuelve un modelo Skip-Gram compilado que:\n",
        "     - Recibe dos inputs enteros (target y context, cada uno shape=())\n",
        "     - Usa una capa Embedding compartida de tamaño (vocab_size, embedding_dim)\n",
        "     - Calcula el dot-product y pasa por sigmoide\n",
        "     - Usa binary_crossentropy + Adam\n",
        "    \"\"\"\n",
        "    # 1) capas de entrada (índice único por ejemplo)\n",
        "    target_input  = Input(shape=(), dtype='int32', name='target_input')\n",
        "    context_input = Input(shape=(), dtype='int32', name='context_input')\n",
        "\n",
        "    # 2) capa Embedding compartida\n",
        "    embed = Embedding(input_dim=vocab_size,\n",
        "                      output_dim=embedding_dim,\n",
        "                      input_length=1,\n",
        "                      name='shared_embedding',\n",
        "                      embeddings_initializer='glorot_uniform',\n",
        "                      trainable=True)\n",
        "\n",
        "    # 3) obtenemos los vectores embebidos y aplanamos\n",
        "    target_vec  = Reshape((embedding_dim,)) (embed(target_input))\n",
        "    context_vec = Reshape((embedding_dim,)) (embed(context_input))\n",
        "\n",
        "    # 4) puntuación = dot-product\n",
        "    dot_prod = Dot(axes=1, normalize=False, name='dot_product')(\n",
        "        [target_vec, context_vec]\n",
        "    )\n",
        "\n",
        "    # 5) salida sigmoide para predecir par positivo/negativo\n",
        "    output = Reshape((1,))(dot_prod)\n",
        "    output = tf.keras.activations.sigmoid(output)\n",
        "\n",
        "    # 6) construir y compilar modelo\n",
        "    model = Model(inputs=[target_input, context_input], outputs=output, name=f\"skipgram_{embedding_dim}\")\n",
        "    model.compile(\n",
        "        loss='binary_crossentropy',\n",
        "        optimizer=Adam(learning_rate=learning_rate, beta_1=beta_1, beta_2=beta_2),\n",
        "        metrics=['accuracy']\n",
        "    )\n",
        "    return model\n",
        "\n",
        "# --------------------------------------------------------------\n",
        "# Ejemplo de entrenamiento de los 6 modelos (3 dims × 2 ventanas)\n",
        "# --------------------------------------------------------------\n",
        "embedding_dims = [45, 312, 752]\n",
        "window_sizes   = [2, 4]\n",
        "histories      = {}\n",
        "\n",
        "for w in window_sizes:\n",
        "    X_target, X_context = datasets[w]['X_train']\n",
        "    y_train             = datasets[w]['y_train']\n",
        "\n",
        "    for ed in embedding_dims:\n",
        "        print(f\"\\nEntrenando Skip-Gram: window={w}, embed_dim={ed}\")\n",
        "\n",
        "        # 1) construir\n",
        "        model = build_skipgram_model(vocab_size=vocab_size,\n",
        "                                     embedding_dim=ed,\n",
        "                                     learning_rate=0.025)\n",
        "\n",
        "        # 2) entrenar\n",
        "        history = model.fit(\n",
        "            x=[X_target, X_context],\n",
        "            y=y_train,\n",
        "            batch_size=BATCH_SIZE,\n",
        "            epochs=10,                # ajusta número de épocas\n",
        "            verbose=1\n",
        "        )\n",
        "\n",
        "        # 3) guardar historia y modelo\n",
        "        histories[(w, ed)] = history\n",
        "\n",
        "# Ahora `histories[(w,ed)].history['loss']` contiene la curva de pérdida\n"
      ]
    },
    {
      "cell_type": "markdown",
      "source": [
        "### Entrenamiento"
      ],
      "metadata": {
        "id": "Frt5Rp1IyymD"
      },
      "id": "Frt5Rp1IyymD"
    },
    {
      "cell_type": "code",
      "source": [
        "# --------------------------------------------------------------\n",
        "# Ejemplo de entrenamiento de los 6 modelos (3 dims × 2 ventanas)\n",
        "# --------------------------------------------------------------\n",
        "embedding_dims = [45, 312, 752]\n",
        "window_sizes   = [2, 4]\n",
        "histories      = {}\n",
        "\n",
        "for w in window_sizes:\n",
        "    X_target, X_context = datasets[w]['X_train']\n",
        "    y_train             = datasets[w]['y_train']\n",
        "\n",
        "    for ed in embedding_dims:\n",
        "        print(f\"\\nEntrenando Skip-Gram: window={w}, embed_dim={ed}\")\n",
        "\n",
        "        # 1) construir\n",
        "        model = build_skipgram_model(vocab_size=vocab_size,\n",
        "                                     embedding_dim=ed,\n",
        "                                     learning_rate=0.025)\n",
        "\n",
        "        # 2) entrenar\n",
        "        history = model.fit(\n",
        "            x=[X_target, X_context],\n",
        "            y=y_train,\n",
        "            batch_size=BATCH_SIZE,\n",
        "            epochs=10,                # ajusta número de épocas\n",
        "            verbose=1\n",
        "        )\n",
        "\n",
        "        # 3) guardar historia y modelo\n",
        "        histories[(w, ed)] = history\n",
        "\n",
        "# Ahora `histories[(w,ed)].history['loss']` contiene la curva de pérdida"
      ],
      "metadata": {
        "id": "KOH59MtHyyGT"
      },
      "id": "KOH59MtHyyGT",
      "execution_count": null,
      "outputs": []
    },
    {
      "cell_type": "markdown",
      "source": [
        "## Resultados"
      ],
      "metadata": {
        "id": "yZGv1W861ip1"
      },
      "id": "yZGv1W861ip1"
    },
    {
      "cell_type": "markdown",
      "source": [
        "### Variación de la pérdida"
      ],
      "metadata": {
        "id": "CRAKhZda1oe6"
      },
      "id": "CRAKhZda1oe6"
    },
    {
      "cell_type": "code",
      "execution_count": 10,
      "id": "f94daa88",
      "metadata": {
        "id": "f94daa88",
        "outputId": "255a0ba7-4e6d-43b7-eef2-65df8e5d96e0",
        "colab": {
          "base_uri": "https://localhost:8080/",
          "height": 500
        }
      },
      "outputs": [
        {
          "output_type": "display_data",
          "data": {
            "text/plain": [
              "<Figure size 1200x600 with 1 Axes>"
            ],
            "image/png": "[encoded data removed]"
          },
          "metadata": {}
        }
      ],
      "source": [
        "import matplotlib.pyplot as plt\n",
        "\n",
        "# Dimensiones de embedding y tamaños de ventana usados\n",
        "embedding_dims = [45, 312, 752]\n",
        "window_sizes   = [2, 4]\n",
        "\n",
        "plt.figure(figsize=(12, 6))\n",
        "\n",
        "for w in window_sizes:\n",
        "    for ed in embedding_dims:\n",
        "        key = (w, ed)\n",
        "        if key not in histories:\n",
        "            print(f'⚠️ No se encontró historial para ventana={w}, embedding={ed}')\n",
        "            continue\n",
        "\n",
        "        loss_values = histories[key].history['loss']\n",
        "        plt.plot(\n",
        "            loss_values,\n",
        "            label=f'win={w}, emb={ed}'\n",
        "        )\n",
        "\n",
        "plt.title('Evolución de la pérdida durante el entrenamiento')\n",
        "plt.xlabel('Épocas')\n",
        "plt.ylabel('Binary Crossentropy Loss')\n",
        "plt.legend(title='Modelo (ventana, dimensión)')\n",
        "plt.grid(True)\n",
        "plt.tight_layout()\n",
        "plt.show()\n"
      ]
    },
    {
      "cell_type": "markdown",
      "source": [
        "### 10 palabras con más significado\n",
        "\n",
        " Listado de las 10 palabras más usadas que efectivamente representan nombres o conceptos clave en tu corpus. Este filtro por POS garantiza que excluyas términos funcionales y te concentres en las entidades y sustantivos que aportan verdadero “significado” al análisis.\n"
      ],
      "metadata": {
        "id": "6H5c05ba3m_K"
      },
      "id": "6H5c05ba3m_K"
    },
    {
      "cell_type": "code",
      "source": [
        "import spacy\n",
        "from collections import Counter\n",
        "\n",
        "# 1) Cargamos el modelo de spaCy para inglés\n",
        "nlp = spacy.load(\"en_core_web_sm\", disable=[\"parser\", \"ner\"])\n",
        "\n",
        "# 2) Definimos stopwords (por ejemplo las de spaCy + extras)\n",
        "stopwords = nlp.Defaults.stop_words.union({\n",
        "    'http', 'https', 'rt', 'co','nan','com'  # añade tokens no léxicos\n",
        "})\n",
        "\n",
        "# 3) Recorremos el word_counts ordenado por frecuencia\n",
        "meaningful = []\n",
        "for word, freq in word_counts.most_common():\n",
        "    if word in stopwords or len(word) < 2:\n",
        "        continue\n",
        "    # POS‐tagging de la palabra aislada\n",
        "    token = nlp(word)[0]\n",
        "    if token.pos_ in {\"NOUN\", \"PROPN\"}:\n",
        "        meaningful.append((word, freq))\n",
        "    if len(meaningful) >= 10:\n",
        "        break\n",
        "\n",
        "# 4) Resultado\n",
        "print(\"Top 10 palabras con significado (spaCy):\")\n",
        "for w, f in meaningful:\n",
        "    print(f\"{w}: {f}\")\n"
      ],
      "metadata": {
        "id": "TMHMnjEN3q4u",
        "outputId": "484e9b65-d8bf-4ea1-fc6a-197ef3091b11",
        "colab": {
          "base_uri": "https://localhost:8080/"
        }
      },
      "id": "TMHMnjEN3q4u",
      "execution_count": 11,
      "outputs": [
        {
          "output_type": "stream",
          "name": "stdout",
          "text": [
            "Top 10 palabras con significado (spaCy):\n",
            "day: 2349\n",
            "love: 1304\n",
            "today: 1273\n",
            "lol: 1149\n",
            "time: 1080\n",
            "don: 993\n",
            "night: 878\n",
            "home: 825\n",
            "thanks: 768\n",
            "hope: 682\n"
          ]
        }
      ]
    },
    {
      "cell_type": "markdown",
      "source": [
        "### Operaciones con los embeddings"
      ],
      "metadata": {
        "id": "3MvyXBIx6TNr"
      },
      "id": "3MvyXBIx6TNr"
    },
    {
      "cell_type": "markdown",
      "source": [
        "#### Comparación de las 10 palabras seleccionadas"
      ],
      "metadata": {
        "id": "XQytsn4r6XZE"
      },
      "id": "XQytsn4r6XZE"
    },
    {
      "cell_type": "code",
      "source": [
        "import numpy as np\n",
        "import pandas as pd\n",
        "import matplotlib.pyplot as plt\n",
        "import seaborn as sns\n",
        "from sklearn.metrics.pairwise import cosine_similarity\n",
        "\n",
        "# Suponemos que ya tienes:\n",
        "#  - model: tu Skip-Gram entrenado (p.ej. build_skipgram_model con window=2, embedding_dim=312)\n",
        "#  - word2idx: diccionario palabra→índice\n",
        "#  - meaningful: lista de tuples [(word, freq), ...] con tus 10 palabras\n",
        "\n",
        "# Extraemos solo las 10 palabras\n",
        "words_10 = [w for w, _ in meaningful[:10]]\n",
        "\n",
        "# 1) Obtenemos la matriz de embeddings (vocab_size × embedding_dim)\n",
        "embedding_layer = model.get_layer('shared_embedding')\n",
        "embeddings = embedding_layer.get_weights()[0]\n",
        "\n",
        "# 2) Recopilamos los vectores de las 10 palabras\n",
        "vectors_10 = []\n",
        "for w in words_10:\n",
        "    idx = word2idx.get(w)\n",
        "    if idx is not None and idx < embeddings.shape[0]:\n",
        "        vectors_10.append(embeddings[idx])\n",
        "    else:\n",
        "        # Si la palabra no existe en el vocabulario, usamos un vector cero\n",
        "        vectors_10.append(np.zeros(embeddings.shape[1], dtype=float))\n",
        "vectors_10 = np.vstack(vectors_10)\n",
        "\n",
        "# 3) Calculamos la similitud coseno\n",
        "sim_matrix = cosine_similarity(vectors_10)\n",
        "\n",
        "# 4) Presentamos los resultados en un DataFrame\n",
        "df_sim = pd.DataFrame(\n",
        "    sim_matrix,\n",
        "    index=words_10,\n",
        "    columns=words_10\n",
        ")\n",
        "\n",
        "# 1) Calcula la matriz de similitud coseno\n",
        "sim_matrix = cosine_similarity(vectors_10)\n",
        "\n",
        "# 2) Construye el DataFrame\n",
        "df_sim = pd.DataFrame(sim_matrix, index=words_10, columns=words_10)\n",
        "\n",
        "# 3) Crea una máscara para la mitad superior\n",
        "mask = np.triu(np.ones_like(df_sim, dtype=bool))\n",
        "\n",
        "# 4) Dibuja el heatmap\n",
        "plt.figure(figsize=(8, 6))\n",
        "sns.heatmap(\n",
        "    df_sim,\n",
        "    mask=mask,\n",
        "    annot=True,\n",
        "    fmt=\".2f\",\n",
        "    cmap=\"twilight_shifted\",\n",
        "    center=0,\n",
        "    square=True,\n",
        "    linewidths=.5,\n",
        "    cbar_kws={\"shrink\": .8}\n",
        ")\n",
        "plt.title(\"Similitud coseno (mitad inferior)\");\n",
        "plt.xlabel(\"Palabra\");\n",
        "plt.ylabel(\"Palabra\")\n",
        "plt.xticks(rotation=45, ha=\"right\")\n",
        "plt.yticks(rotation=0)\n",
        "plt.tight_layout()\n",
        "plt.show()\n"
      ],
      "metadata": {
        "id": "kwkkVRw16miJ",
        "outputId": "2ed41853-19f0-48ee-c3e7-1d47a1700ea9",
        "colab": {
          "base_uri": "https://localhost:8080/",
          "height": 607
        }
      },
      "id": "kwkkVRw16miJ",
      "execution_count": 12,
      "outputs": [
        {
          "output_type": "display_data",
          "data": {
            "text/plain": [
              "<Figure size 800x600 with 2 Axes>"
            ],
            "image/png": "[encoded data removed]"
          },
          "metadata": {}
        }
      ]
    },
    {
      "cell_type": "markdown",
      "source": [
        "#### Mirar 3 grupos de palabras similares"
      ],
      "metadata": {
        "id": "4R2JH1ED6fMi"
      },
      "id": "4R2JH1ED6fMi"
    },
    {
      "cell_type": "code",
      "source": [
        "import numpy as np\n",
        "import pandas as pd\n",
        "import matplotlib.pyplot as plt\n",
        "import seaborn as sns\n",
        "from sklearn.metrics.pairwise import cosine_similarity\n",
        "\n",
        "# 1) Definición de los tres grupos y de sus índices\n",
        "group1 = [4723, 6892, 7183, 7890, 3841]        # aaaah, aaah, aaahhh, aaawww, aah\n",
        "group2 = [7532, 505, 625, 5254, 2062]          # leon, dog, cat, wolf, horse\n",
        "group3 = [5817, 1191, 1330, 5817, 140]         # avenue, road, street, avenue, way\n",
        "\n",
        "all_indices = group1 + group2 + group3\n",
        "\n",
        "# 2) Construir la lista de palabras usando idx2word (invertido de word2idx)\n",
        "idx2word = {idx: w for w, idx in word2idx.items()}\n",
        "words_15 = [idx2word.get(i, f\"idx{i}\") for i in all_indices]\n",
        "\n",
        "# 3) Extraer la matriz de embeddings del modelo ya entrenado\n",
        "emb_layer = model.get_layer('shared_embedding')\n",
        "emb_matrix = emb_layer.get_weights()[0]        # forma = (vocab_size, embedding_dim)\n",
        "\n",
        "# 4) Recoger los vectores para las 15 palabras\n",
        "vectors_15 = []\n",
        "for idx in all_indices:\n",
        "    if idx < emb_matrix.shape[0]:\n",
        "        vectors_15.append(emb_matrix[idx])\n",
        "    else:\n",
        "        vectors_15.append(np.zeros(emb_matrix.shape[1]))\n",
        "vectors_15 = np.vstack(vectors_15)\n",
        "\n",
        "# 5) Calcular similitud coseno y distancia (1–coseno)\n",
        "sim_matrix = cosine_similarity(vectors_15)\n",
        "dist_matrix = 1 - sim_matrix\n",
        "\n",
        "# 6) DataFrame para visualización\n",
        "df_sim  = pd.DataFrame(sim_matrix, index=words_15, columns=words_15)\n",
        "df_dist = pd.DataFrame(dist_matrix, index=words_15, columns=words_15)\n",
        "\n",
        "# 7) Heatmap de similitud (mitad inferior)\n",
        "mask = np.triu(np.ones_like(df_sim, dtype=bool))\n",
        "plt.figure(figsize=(10, 8))\n",
        "sns.heatmap(df_sim, mask=mask, annot=True, fmt=\".2f\",\n",
        "            cmap=\"viridis\", square=True, cbar_kws={'shrink':.8})\n",
        "plt.title(\"Similitud coseno entre 15 palabras (3 grupos)\")\n",
        "plt.xticks(rotation=45, ha=\"right\")\n",
        "plt.yticks(rotation=0)\n",
        "plt.tight_layout()\n",
        "plt.show()\n",
        "\n",
        "# 8) Mostrar la matriz de distancias\n",
        "print(\"Matriz de distancias (1–coseno):\")\n",
        "display(df_dist.round(2))"
      ],
      "metadata": {
        "id": "BW_OKCEq6WU7",
        "outputId": "5b84b246-bac0-42c8-aea8-3ec45c14ea5f",
        "colab": {
          "base_uri": "https://localhost:8080/",
          "height": 1000
        }
      },
      "id": "BW_OKCEq6WU7",
      "execution_count": 13,
      "outputs": [
        {
          "output_type": "display_data",
          "data": {
            "text/plain": [
              "<Figure size 1000x800 with 2 Axes>"
            ],
            "image/png": "[encoded data removed]"
          },
          "metadata": {}
        },
        {
          "output_type": "stream",
          "name": "stdout",
          "text": [
            "Matriz de distancias (1–coseno):\n"
          ]
        },
        {
          "output_type": "display_data",
          "data": {
            "text/plain": [
              "        aaaah  aaah  aaahhh  aaawww   aah  leon   dog   cat  wolf  horse  \\\n",
              "aaaah   -0.00  0.74    0.85    0.90  0.78  0.74  0.76  0.73  0.76   0.72   \n",
              "aaah     0.74  0.00    0.69    0.79  0.62  0.49  0.44  0.48  0.61   0.46   \n",
              "aaahhh   0.85  0.69    0.00    0.93  0.78  0.75  0.70  0.74  0.81   0.71   \n",
              "aaawww   0.90  0.79    0.93    0.00  0.87  0.83  0.80  0.81  0.84   0.85   \n",
              "aah      0.78  0.62    0.78    0.87  0.00  0.64  0.60  0.59  0.63   0.62   \n",
              "leon     0.74  0.49    0.75    0.83  0.64  0.00  0.44  0.49  0.59   0.55   \n",
              "dog      0.76  0.44    0.70    0.80  0.60  0.44  0.00  0.26  0.43   0.36   \n",
              "cat      0.73  0.48    0.74    0.81  0.59  0.49  0.26  0.00  0.50   0.44   \n",
              "wolf     0.76  0.61    0.81    0.84  0.63  0.59  0.43  0.50  0.00   0.50   \n",
              "horse    0.72  0.46    0.71    0.85  0.62  0.55  0.36  0.44  0.50   0.00   \n",
              "avenue   0.82  0.73    0.82    0.92  0.80  0.76  0.68  0.69  0.70   0.67   \n",
              "road     0.78  0.60    0.79    0.84  0.73  0.62  0.60  0.59  0.64   0.60   \n",
              "street   0.75  0.53    0.76    0.84  0.60  0.59  0.48  0.50  0.55   0.48   \n",
              "avenue   0.82  0.73    0.82    0.92  0.80  0.76  0.68  0.69  0.70   0.67   \n",
              "way      0.74  0.55    0.75    0.83  0.68  0.68  0.57  0.62  0.65   0.57   \n",
              "\n",
              "        avenue  road  street  avenue   way  \n",
              "aaaah     0.82  0.78    0.75    0.82  0.74  \n",
              "aaah      0.73  0.60    0.53    0.73  0.55  \n",
              "aaahhh    0.82  0.79    0.76    0.82  0.75  \n",
              "aaawww    0.92  0.84    0.84    0.92  0.83  \n",
              "aah       0.80  0.73    0.60    0.80  0.68  \n",
              "leon      0.76  0.62    0.59    0.76  0.68  \n",
              "dog       0.68  0.60    0.48    0.68  0.57  \n",
              "cat       0.69  0.59    0.50    0.69  0.62  \n",
              "wolf      0.70  0.64    0.55    0.70  0.65  \n",
              "horse     0.67  0.60    0.48    0.67  0.57  \n",
              "avenue    0.00  0.72    0.67    0.00  0.73  \n",
              "road      0.72  0.00    0.63    0.72  0.71  \n",
              "street    0.67  0.63   -0.00    0.67  0.60  \n",
              "avenue    0.00  0.72    0.67    0.00  0.73  \n",
              "way       0.73  0.71    0.60    0.73  0.00  "
            ],
            "text/html": [
              "\n",
              "  <div id=\"df-f2923358-365e-4042-965e-11a131a5aa65\" class=\"colab-df-container\">\n",
              "    <div>\n",
              "<style scoped>\n",
              "    .dataframe tbody tr th:only-of-type {\n",
              "        vertical-align: middle;\n",
              "    }\n",
              "\n",
              "    .dataframe tbody tr th {\n",
              "        vertical-align: top;\n",
              "    }\n",
              "\n",
              "    .dataframe thead th {\n",
              "        text-align: right;\n",
              "    }\n",
              "</style>\n",
              "<table border=\"1\" class=\"dataframe\">\n",
              "  <thead>\n",
              "    <tr style=\"text-align: right;\">\n",
              "      <th></th>\n",
              "      <th>aaaah</th>\n",
              "      <th>aaah</th>\n",
              "      <th>aaahhh</th>\n",
              "      <th>aaawww</th>\n",
              "      <th>aah</th>\n",
              "      <th>leon</th>\n",
              "      <th>dog</th>\n",
              "      <th>cat</th>\n",
              "      <th>wolf</th>\n",
              "      <th>horse</th>\n",
              "      <th>avenue</th>\n",
              "      <th>road</th>\n",
              "      <th>street</th>\n",
              "      <th>avenue</th>\n",
              "      <th>way</th>\n",
              "    </tr>\n",
              "  </thead>\n",
              "  <tbody>\n",
              "    <tr>\n",
              "      <th>aaaah</th>\n",
              "      <td>-0.00</td>\n",
              "      <td>0.74</td>\n",
              "      <td>0.85</td>\n",
              "      <td>0.90</td>\n",
              "      <td>0.78</td>\n",
              "      <td>0.74</td>\n",
              "      <td>0.76</td>\n",
              "      <td>0.73</td>\n",
              "      <td>0.76</td>\n",
              "      <td>0.72</td>\n",
              "      <td>0.82</td>\n",
              "      <td>0.78</td>\n",
              "      <td>0.75</td>\n",
              "      <td>0.82</td>\n",
              "      <td>0.74</td>\n",
              "    </tr>\n",
              "    <tr>\n",
              "      <th>aaah</th>\n",
              "      <td>0.74</td>\n",
              "      <td>0.00</td>\n",
              "      <td>0.69</td>\n",
              "      <td>0.79</td>\n",
              "      <td>0.62</td>\n",
              "      <td>0.49</td>\n",
              "      <td>0.44</td>\n",
              "      <td>0.48</td>\n",
              "      <td>0.61</td>\n",
              "      <td>0.46</td>\n",
              "      <td>0.73</td>\n",
              "      <td>0.60</td>\n",
              "      <td>0.53</td>\n",
              "      <td>0.73</td>\n",
              "      <td>0.55</td>\n",
              "    </tr>\n",
              "    <tr>\n",
              "      <th>aaahhh</th>\n",
              "      <td>0.85</td>\n",
              "      <td>0.69</td>\n",
              "      <td>0.00</td>\n",
              "      <td>0.93</td>\n",
              "      <td>0.78</td>\n",
              "      <td>0.75</td>\n",
              "      <td>0.70</td>\n",
              "      <td>0.74</td>\n",
              "      <td>0.81</td>\n",
              "      <td>0.71</td>\n",
              "      <td>0.82</td>\n",
              "      <td>0.79</td>\n",
              "      <td>0.76</td>\n",
              "      <td>0.82</td>\n",
              "      <td>0.75</td>\n",
              "    </tr>\n",
              "    <tr>\n",
              "      <th>aaawww</th>\n",
              "      <td>0.90</td>\n",
              "      <td>0.79</td>\n",
              "      <td>0.93</td>\n",
              "      <td>0.00</td>\n",
              "      <td>0.87</td>\n",
              "      <td>0.83</td>\n",
              "      <td>0.80</td>\n",
              "      <td>0.81</td>\n",
              "      <td>0.84</td>\n",
              "      <td>0.85</td>\n",
              "      <td>0.92</td>\n",
              "      <td>0.84</td>\n",
              "      <td>0.84</td>\n",
              "      <td>0.92</td>\n",
              "      <td>0.83</td>\n",
              "    </tr>\n",
              "    <tr>\n",
              "      <th>aah</th>\n",
              "      <td>0.78</td>\n",
              "      <td>0.62</td>\n",
              "      <td>0.78</td>\n",
              "      <td>0.87</td>\n",
              "      <td>0.00</td>\n",
              "      <td>0.64</td>\n",
              "      <td>0.60</td>\n",
              "      <td>0.59</td>\n",
              "      <td>0.63</td>\n",
              "      <td>0.62</td>\n",
              "      <td>0.80</td>\n",
              "      <td>0.73</td>\n",
              "      <td>0.60</td>\n",
              "      <td>0.80</td>\n",
              "      <td>0.68</td>\n",
              "    </tr>\n",
              "    <tr>\n",
              "      <th>leon</th>\n",
              "      <td>0.74</td>\n",
              "      <td>0.49</td>\n",
              "      <td>0.75</td>\n",
              "      <td>0.83</td>\n",
              "      <td>0.64</td>\n",
              "      <td>0.00</td>\n",
              "      <td>0.44</td>\n",
              "      <td>0.49</td>\n",
              "      <td>0.59</td>\n",
              "      <td>0.55</td>\n",
              "      <td>0.76</td>\n",
              "      <td>0.62</td>\n",
              "      <td>0.59</td>\n",
              "      <td>0.76</td>\n",
              "      <td>0.68</td>\n",
              "    </tr>\n",
              "    <tr>\n",
              "      <th>dog</th>\n",
              "      <td>0.76</td>\n",
              "      <td>0.44</td>\n",
              "      <td>0.70</td>\n",
              "      <td>0.80</td>\n",
              "      <td>0.60</td>\n",
              "      <td>0.44</td>\n",
              "      <td>0.00</td>\n",
              "      <td>0.26</td>\n",
              "      <td>0.43</td>\n",
              "      <td>0.36</td>\n",
              "      <td>0.68</td>\n",
              "      <td>0.60</td>\n",
              "      <td>0.48</td>\n",
              "      <td>0.68</td>\n",
              "      <td>0.57</td>\n",
              "    </tr>\n",
              "    <tr>\n",
              "      <th>cat</th>\n",
              "      <td>0.73</td>\n",
              "      <td>0.48</td>\n",
              "      <td>0.74</td>\n",
              "      <td>0.81</td>\n",
              "      <td>0.59</td>\n",
              "      <td>0.49</td>\n",
              "      <td>0.26</td>\n",
              "      <td>0.00</td>\n",
              "      <td>0.50</td>\n",
              "      <td>0.44</td>\n",
              "      <td>0.69</td>\n",
              "      <td>0.59</td>\n",
              "      <td>0.50</td>\n",
              "      <td>0.69</td>\n",
              "      <td>0.62</td>\n",
              "    </tr>\n",
              "    <tr>\n",
              "      <th>wolf</th>\n",
              "      <td>0.76</td>\n",
              "      <td>0.61</td>\n",
              "      <td>0.81</td>\n",
              "      <td>0.84</td>\n",
              "      <td>0.63</td>\n",
              "      <td>0.59</td>\n",
              "      <td>0.43</td>\n",
              "      <td>0.50</td>\n",
              "      <td>0.00</td>\n",
              "      <td>0.50</td>\n",
              "      <td>0.70</td>\n",
              "      <td>0.64</td>\n",
              "      <td>0.55</td>\n",
              "      <td>0.70</td>\n",
              "      <td>0.65</td>\n",
              "    </tr>\n",
              "    <tr>\n",
              "      <th>horse</th>\n",
              "      <td>0.72</td>\n",
              "      <td>0.46</td>\n",
              "      <td>0.71</td>\n",
              "      <td>0.85</td>\n",
              "      <td>0.62</td>\n",
              "      <td>0.55</td>\n",
              "      <td>0.36</td>\n",
              "      <td>0.44</td>\n",
              "      <td>0.50</td>\n",
              "      <td>0.00</td>\n",
              "      <td>0.67</td>\n",
              "      <td>0.60</td>\n",
              "      <td>0.48</td>\n",
              "      <td>0.67</td>\n",
              "      <td>0.57</td>\n",
              "    </tr>\n",
              "    <tr>\n",
              "      <th>avenue</th>\n",
              "      <td>0.82</td>\n",
              "      <td>0.73</td>\n",
              "      <td>0.82</td>\n",
              "      <td>0.92</td>\n",
              "      <td>0.80</td>\n",
              "      <td>0.76</td>\n",
              "      <td>0.68</td>\n",
              "      <td>0.69</td>\n",
              "      <td>0.70</td>\n",
              "      <td>0.67</td>\n",
              "      <td>0.00</td>\n",
              "      <td>0.72</td>\n",
              "      <td>0.67</td>\n",
              "      <td>0.00</td>\n",
              "      <td>0.73</td>\n",
              "    </tr>\n",
              "    <tr>\n",
              "      <th>road</th>\n",
              "      <td>0.78</td>\n",
              "      <td>0.60</td>\n",
              "      <td>0.79</td>\n",
              "      <td>0.84</td>\n",
              "      <td>0.73</td>\n",
              "      <td>0.62</td>\n",
              "      <td>0.60</td>\n",
              "      <td>0.59</td>\n",
              "      <td>0.64</td>\n",
              "      <td>0.60</td>\n",
              "      <td>0.72</td>\n",
              "      <td>0.00</td>\n",
              "      <td>0.63</td>\n",
              "      <td>0.72</td>\n",
              "      <td>0.71</td>\n",
              "    </tr>\n",
              "    <tr>\n",
              "      <th>street</th>\n",
              "      <td>0.75</td>\n",
              "      <td>0.53</td>\n",
              "      <td>0.76</td>\n",
              "      <td>0.84</td>\n",
              "      <td>0.60</td>\n",
              "      <td>0.59</td>\n",
              "      <td>0.48</td>\n",
              "      <td>0.50</td>\n",
              "      <td>0.55</td>\n",
              "      <td>0.48</td>\n",
              "      <td>0.67</td>\n",
              "      <td>0.63</td>\n",
              "      <td>-0.00</td>\n",
              "      <td>0.67</td>\n",
              "      <td>0.60</td>\n",
              "    </tr>\n",
              "    <tr>\n",
              "      <th>avenue</th>\n",
              "      <td>0.82</td>\n",
              "      <td>0.73</td>\n",
              "      <td>0.82</td>\n",
              "      <td>0.92</td>\n",
              "      <td>0.80</td>\n",
              "      <td>0.76</td>\n",
              "      <td>0.68</td>\n",
              "      <td>0.69</td>\n",
              "      <td>0.70</td>\n",
              "      <td>0.67</td>\n",
              "      <td>0.00</td>\n",
              "      <td>0.72</td>\n",
              "      <td>0.67</td>\n",
              "      <td>0.00</td>\n",
              "      <td>0.73</td>\n",
              "    </tr>\n",
              "    <tr>\n",
              "      <th>way</th>\n",
              "      <td>0.74</td>\n",
              "      <td>0.55</td>\n",
              "      <td>0.75</td>\n",
              "      <td>0.83</td>\n",
              "      <td>0.68</td>\n",
              "      <td>0.68</td>\n",
              "      <td>0.57</td>\n",
              "      <td>0.62</td>\n",
              "      <td>0.65</td>\n",
              "      <td>0.57</td>\n",
              "      <td>0.73</td>\n",
              "      <td>0.71</td>\n",
              "      <td>0.60</td>\n",
              "      <td>0.73</td>\n",
              "      <td>0.00</td>\n",
              "    </tr>\n",
              "  </tbody>\n",
              "</table>\n",
              "</div>\n",
              "    <div class=\"colab-df-buttons\">\n",
              "\n",
              "  <div class=\"colab-df-container\">\n",
              "    <button class=\"colab-df-convert\" onclick=\"convertToInteractive('df-f2923358-365e-4042-965e-11a131a5aa65')\"\n",
              "            title=\"Convert this dataframe to an interactive table.\"\n",
              "            style=\"display:none;\">\n",
              "\n",
              "  <svg xmlns=\"http://www.w3.org/2000/svg\" height=\"24px\" viewBox=\"0 -960 960 960\">\n",
              "    <path d=\"M120-120v-720h720v720H120Zm60-500h600v-160H180v160Zm220 220h160v-160H400v160Zm0 220h160v-160H400v160ZM180-400h160v-160H180v160Zm440 0h160v-160H620v160ZM180-180h160v-160H180v160Zm440 0h160v-160H620v160Z\"/>\n",
              "  </svg>\n",
              "    </button>\n",
              "\n",
              "  <style>\n",
              "    .colab-df-container {\n",
              "      display:flex;\n",
              "      gap: 12px;\n",
              "    }\n",
              "\n",
              "    .colab-df-convert {\n",
              "      background-color: #E8F0FE;\n",
              "      border: none;\n",
              "      border-radius: 50%;\n",
              "      cursor: pointer;\n",
              "      display: none;\n",
              "      fill: #1967D2;\n",
              "      height: 32px;\n",
              "      padding: 0 0 0 0;\n",
              "      width: 32px;\n",
              "    }\n",
              "\n",
              "    .colab-df-convert:hover {\n",
              "      background-color: #E2EBFA;\n",
              "      box-shadow: 0px 1px 2px rgba(60, 64, 67, 0.3), 0px 1px 3px 1px rgba(60, 64, 67, 0.15);\n",
              "      fill: #174EA6;\n",
              "    }\n",
              "\n",
              "    .colab-df-buttons div {\n",
              "      margin-bottom: 4px;\n",
              "    }\n",
              "\n",
              "    [theme=dark] .colab-df-convert {\n",
              "      background-color: #3B4455;\n",
              "      fill: #D2E3FC;\n",
              "    }\n",
              "\n",
              "    [theme=dark] .colab-df-convert:hover {\n",
              "      background-color: #434B5C;\n",
              "      box-shadow: 0px 1px 3px 1px rgba(0, 0, 0, 0.15);\n",
              "      filter: drop-shadow(0px 1px 2px rgba(0, 0, 0, 0.3));\n",
              "      fill: #FFFFFF;\n",
              "    }\n",
              "  </style>\n",
              "\n",
              "    <script>\n",
              "      const buttonEl =\n",
              "        document.querySelector('#df-f2923358-365e-4042-965e-11a131a5aa65 button.colab-df-convert');\n",
              "      buttonEl.style.display =\n",
              "        google.colab.kernel.accessAllowed ? 'block' : 'none';\n",
              "\n",
              "      async function convertToInteractive(key) {\n",
              "        const element = document.querySelector('#df-f2923358-365e-4042-965e-11a131a5aa65');\n",
              "        const dataTable =\n",
              "          await google.colab.kernel.invokeFunction('convertToInteractive',\n",
              "                                                    [key], {});\n",
              "        if (!dataTable) return;\n",
              "\n",
              "        const docLinkHtml = 'Like what you see? Visit the ' +\n",
              "          '<a target=\"_blank\" href=https://colab.research.google.com/notebooks/data_table.ipynb>data table notebook</a>'\n",
              "          + ' to learn more about interactive tables.';\n",
              "        element.innerHTML = '';\n",
              "        dataTable['output_type'] = 'display_data';\n",
              "        await google.colab.output.renderOutput(dataTable, element);\n",
              "        const docLink = document.createElement('div');\n",
              "        docLink.innerHTML = docLinkHtml;\n",
              "        element.appendChild(docLink);\n",
              "      }\n",
              "    </script>\n",
              "  </div>\n",
              "\n",
              "\n",
              "    <div id=\"df-49dad3d5-17dd-4cf6-bf06-4354f6495cf5\">\n",
              "      <button class=\"colab-df-quickchart\" onclick=\"quickchart('df-49dad3d5-17dd-4cf6-bf06-4354f6495cf5')\"\n",
              "                title=\"Suggest charts\"\n",
              "                style=\"display:none;\">\n",
              "\n",
              "<svg xmlns=\"http://www.w3.org/2000/svg\" height=\"24px\"viewBox=\"0 0 24 24\"\n",
              "     width=\"24px\">\n",
              "    <g>\n",
              "        <path d=\"M19 3H5c-1.1 0-2 .9-2 2v14c0 1.1.9 2 2 2h14c1.1 0 2-.9 2-2V5c0-1.1-.9-2-2-2zM9 17H7v-7h2v7zm4 0h-2V7h2v10zm4 0h-2v-4h2v4z\"/>\n",
              "    </g>\n",
              "</svg>\n",
              "      </button>\n",
              "\n",
              "<style>\n",
              "  .colab-df-quickchart {\n",
              "      --bg-color: #E8F0FE;\n",
              "      --fill-color: #1967D2;\n",
              "      --hover-bg-color: #E2EBFA;\n",
              "      --hover-fill-color: #174EA6;\n",
              "      --disabled-fill-color: #AAA;\n",
              "      --disabled-bg-color: #DDD;\n",
              "  }\n",
              "\n",
              "  [theme=dark] .colab-df-quickchart {\n",
              "      --bg-color: #3B4455;\n",
              "      --fill-color: #D2E3FC;\n",
              "      --hover-bg-color: #434B5C;\n",
              "      --hover-fill-color: #FFFFFF;\n",
              "      --disabled-bg-color: #3B4455;\n",
              "      --disabled-fill-color: #666;\n",
              "  }\n",
              "\n",
              "  .colab-df-quickchart {\n",
              "    background-color: var(--bg-color);\n",
              "    border: none;\n",
              "    border-radius: 50%;\n",
              "    cursor: pointer;\n",
              "    display: none;\n",
              "    fill: var(--fill-color);\n",
              "    height: 32px;\n",
              "    padding: 0;\n",
              "    width: 32px;\n",
              "  }\n",
              "\n",
              "  .colab-df-quickchart:hover {\n",
              "    background-color: var(--hover-bg-color);\n",
              "    box-shadow: 0 1px 2px rgba(60, 64, 67, 0.3), 0 1px 3px 1px rgba(60, 64, 67, 0.15);\n",
              "    fill: var(--button-hover-fill-color);\n",
              "  }\n",
              "\n",
              "  .colab-df-quickchart-complete:disabled,\n",
              "  .colab-df-quickchart-complete:disabled:hover {\n",
              "    background-color: var(--disabled-bg-color);\n",
              "    fill: var(--disabled-fill-color);\n",
              "    box-shadow: none;\n",
              "  }\n",
              "\n",
              "  .colab-df-spinner {\n",
              "    border: 2px solid var(--fill-color);\n",
              "    border-color: transparent;\n",
              "    border-bottom-color: var(--fill-color);\n",
              "    animation:\n",
              "      spin 1s steps(1) infinite;\n",
              "  }\n",
              "\n",
              "  @keyframes spin {\n",
              "    0% {\n",
              "      border-color: transparent;\n",
              "      border-bottom-color: var(--fill-color);\n",
              "      border-left-color: var(--fill-color);\n",
              "    }\n",
              "    20% {\n",
              "      border-color: transparent;\n",
              "      border-left-color: var(--fill-color);\n",
              "      border-top-color: var(--fill-color);\n",
              "    }\n",
              "    30% {\n",
              "      border-color: transparent;\n",
              "      border-left-color: var(--fill-color);\n",
              "      border-top-color: var(--fill-color);\n",
              "      border-right-color: var(--fill-color);\n",
              "    }\n",
              "    40% {\n",
              "      border-color: transparent;\n",
              "      border-right-color: var(--fill-color);\n",
              "      border-top-color: var(--fill-color);\n",
              "    }\n",
              "    60% {\n",
              "      border-color: transparent;\n",
              "      border-right-color: var(--fill-color);\n",
              "    }\n",
              "    80% {\n",
              "      border-color: transparent;\n",
              "      border-right-color: var(--fill-color);\n",
              "      border-bottom-color: var(--fill-color);\n",
              "    }\n",
              "    90% {\n",
              "      border-color: transparent;\n",
              "      border-bottom-color: var(--fill-color);\n",
              "    }\n",
              "  }\n",
              "</style>\n",
              "\n",
              "      <script>\n",
              "        async function quickchart(key) {\n",
              "          const quickchartButtonEl =\n",
              "            document.querySelector('#' + key + ' button');\n",
              "          quickchartButtonEl.disabled = true;  // To prevent multiple clicks.\n",
              "          quickchartButtonEl.classList.add('colab-df-spinner');\n",
              "          try {\n",
              "            const charts = await google.colab.kernel.invokeFunction(\n",
              "                'suggestCharts', [key], {});\n",
              "          } catch (error) {\n",
              "            console.error('Error during call to suggestCharts:', error);\n",
              "          }\n",
              "          quickchartButtonEl.classList.remove('colab-df-spinner');\n",
              "          quickchartButtonEl.classList.add('colab-df-quickchart-complete');\n",
              "        }\n",
              "        (() => {\n",
              "          let quickchartButtonEl =\n",
              "            document.querySelector('#df-49dad3d5-17dd-4cf6-bf06-4354f6495cf5 button');\n",
              "          quickchartButtonEl.style.display =\n",
              "            google.colab.kernel.accessAllowed ? 'block' : 'none';\n",
              "        })();\n",
              "      </script>\n",
              "    </div>\n",
              "\n",
              "    </div>\n",
              "  </div>\n"
            ],
            "application/vnd.google.colaboratory.intrinsic+json": {
              "type": "dataframe",
              "summary": "{\n  \"name\": \"display(df_dist\",\n  \"rows\": 15,\n  \"fields\": [\n    {\n      \"column\": \"aaaah\",\n      \"properties\": {\n        \"dtype\": \"float32\",\n        \"num_unique_values\": 10,\n        \"samples\": [\n          0.8199999928474426,\n          0.7400000095367432,\n          0.7599999904632568\n        ],\n        \"semantic_type\": \"\",\n        \"description\": \"\"\n      }\n    },\n    {\n      \"column\": \"aaah\",\n      \"properties\": {\n        \"dtype\": \"float32\",\n        \"num_unique_values\": 14,\n        \"samples\": [\n          0.46000000834465027,\n          0.6000000238418579,\n          0.7400000095367432\n        ],\n        \"semantic_type\": \"\",\n        \"description\": \"\"\n      }\n    },\n    {\n      \"column\": \"aaahhh\",\n      \"properties\": {\n        \"dtype\": \"float32\",\n        \"num_unique_values\": 13,\n        \"samples\": [\n          0.7900000214576721,\n          0.7099999785423279,\n          0.8500000238418579\n        ],\n        \"semantic_type\": \"\",\n        \"description\": \"\"\n      }\n    },\n    {\n      \"column\": \"aaawww\",\n      \"properties\": {\n        \"dtype\": \"float32\",\n        \"num_unique_values\": 11,\n        \"samples\": [\n          0.8299999833106995,\n          0.8999999761581421,\n          0.8500000238418579\n        ],\n        \"semantic_type\": \"\",\n        \"description\": \"\"\n      }\n    },\n    {\n      \"column\": \"aah\",\n      \"properties\": {\n        \"dtype\": \"float32\",\n        \"num_unique_values\": 11,\n        \"samples\": [\n          0.6000000238418579,\n          0.7799999713897705,\n          0.7300000190734863\n        ],\n        \"semantic_type\": \"\",\n        \"description\": \"\"\n      }\n    },\n    {\n      \"column\": \"leon\",\n      \"properties\": {\n        \"dtype\": \"float32\",\n        \"num_unique_values\": 12,\n        \"samples\": [\n          0.6200000047683716,\n          0.7599999904632568,\n          0.7400000095367432\n        ],\n        \"semantic_type\": \"\",\n        \"description\": \"\"\n      }\n    },\n    {\n      \"column\": \"dog\",\n      \"properties\": {\n        \"dtype\": \"float32\",\n        \"num_unique_values\": 12,\n        \"samples\": [\n          0.47999998927116394,\n          0.6800000071525574,\n          0.7599999904632568\n        ],\n        \"semantic_type\": \"\",\n        \"description\": \"\"\n      }\n    },\n    {\n      \"column\": \"cat\",\n      \"properties\": {\n        \"dtype\": \"float32\",\n        \"num_unique_values\": 12,\n        \"samples\": [\n          0.6899999976158142,\n          0.4399999976158142,\n          0.7300000190734863\n        ],\n        \"semantic_type\": \"\",\n        \"description\": \"\"\n      }\n    },\n    {\n      \"column\": \"wolf\",\n      \"properties\": {\n        \"dtype\": \"float32\",\n        \"num_unique_values\": 13,\n        \"samples\": [\n          0.550000011920929,\n          0.699999988079071,\n          0.7599999904632568\n        ],\n        \"semantic_type\": \"\",\n        \"description\": \"\"\n      }\n    },\n    {\n      \"column\": \"horse\",\n      \"properties\": {\n        \"dtype\": \"float32\",\n        \"num_unique_values\": 14,\n        \"samples\": [\n          0.0,\n          0.6000000238418579,\n          0.7200000286102295\n        ],\n        \"semantic_type\": \"\",\n        \"description\": \"\"\n      }\n    },\n    {\n      \"column\": \"avenue\",\n      \"properties\": {\n        \"dtype\": \"float32\",\n        \"num_unique_values\": 11,\n        \"samples\": [\n          0.6800000071525574,\n          0.8199999928474426,\n          0.0\n        ],\n        \"semantic_type\": \"\",\n        \"description\": \"\"\n      }\n    },\n    {\n      \"column\": \"road\",\n      \"properties\": {\n        \"dtype\": \"float32\",\n        \"num_unique_values\": 12,\n        \"samples\": [\n          0.6299999952316284,\n          0.0,\n          0.7799999713897705\n        ],\n        \"semantic_type\": \"\",\n        \"description\": \"\"\n      }\n    },\n    {\n      \"column\": \"street\",\n      \"properties\": {\n        \"dtype\": \"float32\",\n        \"num_unique_values\": 12,\n        \"samples\": [\n          0.6299999952316284,\n          0.6700000166893005,\n          0.75\n        ],\n        \"semantic_type\": \"\",\n        \"description\": \"\"\n      }\n    },\n    {\n      \"column\": \"avenue\",\n      \"properties\": {\n        \"dtype\": \"float32\",\n        \"num_unique_values\": 11,\n        \"samples\": [\n          0.6800000071525574,\n          0.8199999928474426,\n          0.0\n        ],\n        \"semantic_type\": \"\",\n        \"description\": \"\"\n      }\n    },\n    {\n      \"column\": \"way\",\n      \"properties\": {\n        \"dtype\": \"float32\",\n        \"num_unique_values\": 12,\n        \"samples\": [\n          0.6000000238418579,\n          0.7099999785423279,\n          0.7400000095367432\n        ],\n        \"semantic_type\": \"\",\n        \"description\": \"\"\n      }\n    }\n  ]\n}"
            }
          },
          "metadata": {}
        }
      ]
    },
    {
      "cell_type": "markdown",
      "source": [
        "## 3ra Fase - Identificar la intención de las frases"
      ],
      "metadata": {
        "id": "XYfSiUrGVBln"
      },
      "id": "XYfSiUrGVBln"
    },
    {
      "cell_type": "markdown",
      "source": [
        "### Seleccionar 2 representaciones de embeddings\n",
        "\n",
        "Para modelo 1: ventana=2, emb_dim=312\n",
        "\n",
        "Para modelo 2: ventana=4, emb_dim=752"
      ],
      "metadata": {
        "id": "T55MZsgKc9em"
      },
      "id": "T55MZsgKc9em"
    },
    {
      "cell_type": "code",
      "source": [
        "# -----------------------------------------------------------------\n",
        "# 1) Recuperar directamente los modelos Skip-Gram de los objetos History\n",
        "#    Keras guarda en history.model la instancia del modelo entrenado.\n",
        "# -----------------------------------------------------------------\n",
        "model_w2_312 = histories[(2, 312)].model\n",
        "model_w4_752 = histories[(4, 752)].model\n",
        "\n",
        "# -----------------------------------------------------------------\n",
        "# 2) Extraer las matrices de pesos de la capa Embedding compartida\n",
        "# -----------------------------------------------------------------\n",
        "emb_matrix_2_312 = model_w2_312.get_layer('shared_embedding') \\\n",
        "                                .get_weights()[0]   # (vocab_size, 312)\n",
        "emb_matrix_4_752 = model_w4_752.get_layer('shared_embedding') \\\n",
        "                                .get_weights()[0]   # (vocab_size, 752)\n",
        "\n",
        "# -----------------------------------------------------------------\n",
        "# 3) Verificar shapes\n",
        "# -----------------------------------------------------------------\n",
        "print(\"Embedding matrix (win=2, dim=312):\", emb_matrix_2_312.shape)\n",
        "print(\"Embedding matrix (win=4, dim=752):\", emb_matrix_4_752.shape)"
      ],
      "metadata": {
        "id": "F__3pTv_VBP6",
        "outputId": "3c8d01c8-3d68-4e3e-edf4-b905097255ad",
        "colab": {
          "base_uri": "https://localhost:8080/"
        }
      },
      "id": "F__3pTv_VBP6",
      "execution_count": 16,
      "outputs": [
        {
          "output_type": "stream",
          "name": "stdout",
          "text": [
            "Embedding matrix (win=2, dim=312): (8152, 312)\n",
            "Embedding matrix (win=4, dim=752): (8152, 752)\n"
          ]
        }
      ]
    },
    {
      "cell_type": "markdown",
      "source": [
        "### Preparar los datos de clasificación\n",
        "\n",
        "Partir de data_df combinado con la columna text y la etiqueta sentiment.\n",
        "\n",
        "Mapear sentiment → entero (e.g. {negative:0, neutral:1, positive:2}).\n",
        "\n",
        "Dividir en train/test manteniendo proporción original (o usar los CSV separados)."
      ],
      "metadata": {
        "id": "_MQgCZy1fDYI"
      },
      "id": "_MQgCZy1fDYI"
    },
    {
      "cell_type": "code",
      "source": [
        "import pandas as pd\n",
        "from sklearn.model_selection import train_test_split\n",
        "\n",
        "# 1. Mapear sentiment a enteros\n",
        "sentiment_mapping = {'negative': 0, 'neutral': 1, 'positive': 2}\n",
        "data_df['sentiment_label'] = data_df['sentiment'].map(sentiment_mapping)  # [1]\n",
        "\n",
        "# 2. Eliminar filas con valores nulos en 'text' o en la nueva etiqueta\n",
        "data_df_clean = data_df.dropna(subset=['text', 'sentiment_label'])\n",
        "\n",
        "# 3. Preparar X (texto) y y (etiqueta)\n",
        "X = data_df_clean['text'].astype(str)\n",
        "y = data_df_clean['sentiment_label'].astype(int)\n",
        "\n",
        "# 4. División estratificada train/test (20% test, semilla fija)\n",
        "X_train, X_test, y_train, y_test = train_test_split(\n",
        "    X, y,\n",
        "    test_size=0.20,\n",
        "    random_state=42,\n",
        "    stratify=y\n",
        ")  # [1]\n",
        "\n",
        "# 5. Mostrar tamaños resultantes\n",
        "print(f\"Train: {len(X_train)} muestras\")\n",
        "print(f\"Test : {len(X_test)} muestras\")"
      ],
      "metadata": {
        "id": "AfyZN1Ikfs3b",
        "outputId": "430bbcad-9dfc-40ba-b49d-a4832dd837a1",
        "colab": {
          "base_uri": "https://localhost:8080/"
        }
      },
      "id": "AfyZN1Ikfs3b",
      "execution_count": 17,
      "outputs": [
        {
          "output_type": "stream",
          "name": "stdout",
          "text": [
            "Train: 24811 muestras\n",
            "Test : 6203 muestras\n"
          ]
        }
      ]
    },
    {
      "cell_type": "markdown",
      "source": [
        "### Tokenización y padding"
      ],
      "metadata": {
        "id": "Tyy6yZ5ShDya"
      },
      "id": "Tyy6yZ5ShDya"
    },
    {
      "cell_type": "code",
      "source": [
        "from tensorflow.keras.preprocessing.text import Tokenizer\n",
        "from tensorflow.keras.preprocessing.sequence import pad_sequences\n",
        "\n",
        "# Parámetros\n",
        "VOCAB_SIZE = 8192    # tal como definimos antes\n",
        "MAX_LEN    = 50      # longitud fija para todas las secuencias\n",
        "\n",
        "# 1) Crear y ajustar el Tokenizer solo con el corpus de entrenamiento\n",
        "tokenizer = Tokenizer(num_words=VOCAB_SIZE, oov_token='<OOV>')\n",
        "tokenizer.fit_on_texts(X_train)\n",
        "\n",
        "# 2) Convertir textos a secuencias de enteros\n",
        "train_seqs = tokenizer.texts_to_sequences(X_train)\n",
        "test_seqs  = tokenizer.texts_to_sequences(X_test)\n",
        "\n",
        "# 3) Aplicar padding/truncating a longitud MAX_LEN\n",
        "X_train_pad = pad_sequences(\n",
        "    train_seqs,\n",
        "    maxlen=MAX_LEN,\n",
        "    padding='post',\n",
        "    truncating='post'\n",
        ")\n",
        "X_test_pad = pad_sequences(\n",
        "    test_seqs,\n",
        "    maxlen=MAX_LEN,\n",
        "    padding='post',\n",
        "    truncating='post'\n",
        ")\n",
        "\n",
        "# 4) Mostrar shapes resultantes\n",
        "print(\"X_train_pad shape:\", X_train_pad.shape)  # (n_train, MAX_LEN)\n",
        "print(\"X_test_pad  shape:\", X_test_pad.shape)   # (n_test,  MAX_LEN)\n",
        "print(\"y_train shape:\", y_train.shape)          # (n_train,)\n",
        "print(\"y_test  shape:\", y_test.shape)           # (n_test,)\n",
        "\n",
        "# Ahora X_train_pad, X_test_pad, y_train y y_test están listos para el modelo RNN\n"
      ],
      "metadata": {
        "id": "IJWhERp1hJzB",
        "outputId": "4a6bf072-83b7-4675-cdac-d787b961e905",
        "colab": {
          "base_uri": "https://localhost:8080/"
        }
      },
      "id": "IJWhERp1hJzB",
      "execution_count": 18,
      "outputs": [
        {
          "output_type": "stream",
          "name": "stdout",
          "text": [
            "X_train_pad shape: (24811, 50)\n",
            "X_test_pad  shape: (6203, 50)\n",
            "y_train shape: (24811,)\n",
            "y_test  shape: (6203,)\n"
          ]
        }
      ]
    },
    {
      "cell_type": "markdown",
      "source": [
        "### Diseño de la arquitectura recurrente"
      ],
      "metadata": {
        "id": "96K_hgaBjH8l"
      },
      "id": "96K_hgaBjH8l"
    },
    {
      "cell_type": "code",
      "source": [
        "import tensorflow as tf\n",
        "from tensorflow.keras import Model\n",
        "from tensorflow.keras.layers import (\n",
        "    Input, Embedding, Bidirectional, LSTM,\n",
        "    Dropout, Dense\n",
        ")\n",
        "from tensorflow.keras.optimizers import Adam\n",
        "from tensorflow.keras.callbacks import EarlyStopping, ReduceLROnPlateau, ModelCheckpoint\n",
        "\n",
        "def build_rnn_classifier_tuned(embedding_matrix,\n",
        "                               max_len,\n",
        "                               lstm_units=128,\n",
        "                               dense_units=64,\n",
        "                               dropout_rate=0.3,\n",
        "                               trainable_emb=True):\n",
        "    vocab_size, emb_dim = embedding_matrix.shape\n",
        "\n",
        "    text_in = Input(shape=(max_len,), dtype='int32')\n",
        "    x = Embedding(input_dim=vocab_size,\n",
        "                  output_dim=emb_dim,\n",
        "                  weights=[embedding_matrix],\n",
        "                  input_length=max_len,\n",
        "                  trainable=trainable_emb)(text_in)\n",
        "    # Capa Bidireccional con dropout y recurrent_dropout\n",
        "    x = Bidirectional(LSTM(lstm_units,\n",
        "                           dropout=dropout_rate,\n",
        "                           recurrent_dropout=dropout_rate,\n",
        "                           return_sequences=False))(x)\n",
        "    x = Dropout(dropout_rate)(x)\n",
        "    x = Dense(dense_units, activation='relu')(x)\n",
        "    x = Dropout(dropout_rate)(x)\n",
        "    out = Dense(3, activation='softmax')(x)\n",
        "\n",
        "    model = Model(text_in, out)\n",
        "    model.compile(\n",
        "        loss='sparse_categorical_crossentropy',\n",
        "        optimizer=Adam(learning_rate=1e-3),\n",
        "        metrics=['accuracy']\n",
        "    )\n",
        "    return model\n",
        "\n",
        "# --- Instanciar dos modelos afinando embeddings ---\n",
        "model_rnn_w2_312_ft = build_rnn_classifier_tuned(\n",
        "    emb_matrix_2_312, MAX_LEN,\n",
        "    lstm_units=128, dense_units=64,\n",
        "    dropout_rate=0.3, trainable_emb=True\n",
        ")\n",
        "model_rnn_w4_752_ft = build_rnn_classifier_tuned(\n",
        "    emb_matrix_4_752, MAX_LEN,\n",
        "    lstm_units=128, dense_units=64,\n",
        "    dropout_rate=0.3, trainable_emb=True\n",
        ")\n",
        "\n",
        "# --- Callbacks para entrenamiento ---\n",
        "callbacks = [\n",
        "    EarlyStopping(monitor='val_loss', patience=3, restore_best_weights=True),\n",
        "    ReduceLROnPlateau(monitor='val_loss', factor=0.5, patience=2),\n",
        "    ModelCheckpoint('best_model.h5', monitor='val_accuracy', save_best_only=True)\n",
        "]\n",
        "\n",
        "# --- Entrenar con más épocas y validación 10% ---\n",
        "for name, model in [('w2_e312', model_rnn_w2_312_ft),\n",
        "                    ('w4_e752', model_rnn_w4_752_ft)]:\n",
        "    print(f\"\\nEntrenando {name} con fine-tuning y dropout\")\n",
        "    model.fit(\n",
        "        x = X_train_pad, y = y_train,\n",
        "        validation_split=0.10,\n",
        "        epochs=20,\n",
        "        batch_size=128,\n",
        "        callbacks=callbacks,\n",
        "        verbose=1\n",
        "    )\n",
        "\n"
      ],
      "metadata": {
        "id": "e8S2mcdtjMHK",
        "outputId": "dccbd022-7774-46b1-f2c3-c02e780910b4",
        "colab": {
          "base_uri": "https://localhost:8080/",
          "height": 741
        }
      },
      "id": "e8S2mcdtjMHK",
      "execution_count": 29,
      "outputs": [
        {
          "output_type": "stream",
          "name": "stderr",
          "text": [
            "/usr/local/lib/python3.11/dist-packages/keras/src/layers/core/embedding.py:90: UserWarning: Argument `input_length` is deprecated. Just remove it.\n",
            "  warnings.warn(\n"
          ]
        },
        {
          "output_type": "display_data",
          "data": {
            "text/plain": [
              "\u001b[1mModel: \"simple_cls_312\"\u001b[0m\n"
            ],
            "text/html": [
              "<pre style=\"white-space:pre;overflow-x:auto;line-height:normal;font-family:Menlo,'DejaVu Sans Mono',consolas,'Courier New',monospace\"><span style=\"font-weight: bold\">Model: \"simple_cls_312\"</span>\n",
              "</pre>\n"
            ]
          },
          "metadata": {}
        },
        {
          "output_type": "display_data",
          "data": {
            "text/plain": [
              "┏━━━━━━━━━━━━━━━━━━━━━━━━━━━━━━━━━┳━━━━━━━━━━━━━━━━━━━━━━━━┳━━━━━━━━━━━━━━━┓\n",
              "┃\u001b[1m \u001b[0m\u001b[1mLayer (type)                   \u001b[0m\u001b[1m \u001b[0m┃\u001b[1m \u001b[0m\u001b[1mOutput Shape          \u001b[0m\u001b[1m \u001b[0m┃\u001b[1m \u001b[0m\u001b[1m      Param #\u001b[0m\u001b[1m \u001b[0m┃\n",
              "┡━━━━━━━━━━━━━━━━━━━━━━━━━━━━━━━━━╇━━━━━━━━━━━━━━━━━━━━━━━━╇━━━━━━━━━━━━━━━┩\n",
              "│ text_input (\u001b[38;5;33mInputLayer\u001b[0m)         │ (\u001b[38;5;45mNone\u001b[0m, \u001b[38;5;34m50\u001b[0m)             │             \u001b[38;5;34m0\u001b[0m │\n",
              "├─────────────────────────────────┼────────────────────────┼───────────────┤\n",
              "│ emb (\u001b[38;5;33mEmbedding\u001b[0m)                 │ (\u001b[38;5;45mNone\u001b[0m, \u001b[38;5;34m50\u001b[0m, \u001b[38;5;34m312\u001b[0m)        │     \u001b[38;5;34m2,543,424\u001b[0m │\n",
              "├─────────────────────────────────┼────────────────────────┼───────────────┤\n",
              "│ avg_pool                        │ (\u001b[38;5;45mNone\u001b[0m, \u001b[38;5;34m312\u001b[0m)            │             \u001b[38;5;34m0\u001b[0m │\n",
              "│ (\u001b[38;5;33mGlobalAveragePooling1D\u001b[0m)        │                        │               │\n",
              "├─────────────────────────────────┼────────────────────────┼───────────────┤\n",
              "│ dense (\u001b[38;5;33mDense\u001b[0m)                   │ (\u001b[38;5;45mNone\u001b[0m, \u001b[38;5;34m64\u001b[0m)             │        \u001b[38;5;34m20,032\u001b[0m │\n",
              "├─────────────────────────────────┼────────────────────────┼───────────────┤\n",
              "│ dropout (\u001b[38;5;33mDropout\u001b[0m)               │ (\u001b[38;5;45mNone\u001b[0m, \u001b[38;5;34m64\u001b[0m)             │             \u001b[38;5;34m0\u001b[0m │\n",
              "├─────────────────────────────────┼────────────────────────┼───────────────┤\n",
              "│ out (\u001b[38;5;33mDense\u001b[0m)                     │ (\u001b[38;5;45mNone\u001b[0m, \u001b[38;5;34m3\u001b[0m)              │           \u001b[38;5;34m195\u001b[0m │\n",
              "└─────────────────────────────────┴────────────────────────┴───────────────┘\n"
            ],
            "text/html": [
              "<pre style=\"white-space:pre;overflow-x:auto;line-height:normal;font-family:Menlo,'DejaVu Sans Mono',consolas,'Courier New',monospace\">┏━━━━━━━━━━━━━━━━━━━━━━━━━━━━━━━━━┳━━━━━━━━━━━━━━━━━━━━━━━━┳━━━━━━━━━━━━━━━┓\n",
              "┃<span style=\"font-weight: bold\"> Layer (type)                    </span>┃<span style=\"font-weight: bold\"> Output Shape           </span>┃<span style=\"font-weight: bold\">       Param # </span>┃\n",
              "┡━━━━━━━━━━━━━━━━━━━━━━━━━━━━━━━━━╇━━━━━━━━━━━━━━━━━━━━━━━━╇━━━━━━━━━━━━━━━┩\n",
              "│ text_input (<span style=\"color: #0087ff; text-decoration-color: #0087ff\">InputLayer</span>)         │ (<span style=\"color: #00d7ff; text-decoration-color: #00d7ff\">None</span>, <span style=\"color: #00af00; text-decoration-color: #00af00\">50</span>)             │             <span style=\"color: #00af00; text-decoration-color: #00af00\">0</span> │\n",
              "├─────────────────────────────────┼────────────────────────┼───────────────┤\n",
              "│ emb (<span style=\"color: #0087ff; text-decoration-color: #0087ff\">Embedding</span>)                 │ (<span style=\"color: #00d7ff; text-decoration-color: #00d7ff\">None</span>, <span style=\"color: #00af00; text-decoration-color: #00af00\">50</span>, <span style=\"color: #00af00; text-decoration-color: #00af00\">312</span>)        │     <span style=\"color: #00af00; text-decoration-color: #00af00\">2,543,424</span> │\n",
              "├─────────────────────────────────┼────────────────────────┼───────────────┤\n",
              "│ avg_pool                        │ (<span style=\"color: #00d7ff; text-decoration-color: #00d7ff\">None</span>, <span style=\"color: #00af00; text-decoration-color: #00af00\">312</span>)            │             <span style=\"color: #00af00; text-decoration-color: #00af00\">0</span> │\n",
              "│ (<span style=\"color: #0087ff; text-decoration-color: #0087ff\">GlobalAveragePooling1D</span>)        │                        │               │\n",
              "├─────────────────────────────────┼────────────────────────┼───────────────┤\n",
              "│ dense (<span style=\"color: #0087ff; text-decoration-color: #0087ff\">Dense</span>)                   │ (<span style=\"color: #00d7ff; text-decoration-color: #00d7ff\">None</span>, <span style=\"color: #00af00; text-decoration-color: #00af00\">64</span>)             │        <span style=\"color: #00af00; text-decoration-color: #00af00\">20,032</span> │\n",
              "├─────────────────────────────────┼────────────────────────┼───────────────┤\n",
              "│ dropout (<span style=\"color: #0087ff; text-decoration-color: #0087ff\">Dropout</span>)               │ (<span style=\"color: #00d7ff; text-decoration-color: #00d7ff\">None</span>, <span style=\"color: #00af00; text-decoration-color: #00af00\">64</span>)             │             <span style=\"color: #00af00; text-decoration-color: #00af00\">0</span> │\n",
              "├─────────────────────────────────┼────────────────────────┼───────────────┤\n",
              "│ out (<span style=\"color: #0087ff; text-decoration-color: #0087ff\">Dense</span>)                     │ (<span style=\"color: #00d7ff; text-decoration-color: #00d7ff\">None</span>, <span style=\"color: #00af00; text-decoration-color: #00af00\">3</span>)              │           <span style=\"color: #00af00; text-decoration-color: #00af00\">195</span> │\n",
              "└─────────────────────────────────┴────────────────────────┴───────────────┘\n",
              "</pre>\n"
            ]
          },
          "metadata": {}
        },
        {
          "output_type": "display_data",
          "data": {
            "text/plain": [
              "\u001b[1m Total params: \u001b[0m\u001b[38;5;34m2,563,651\u001b[0m (9.78 MB)\n"
            ],
            "text/html": [
              "<pre style=\"white-space:pre;overflow-x:auto;line-height:normal;font-family:Menlo,'DejaVu Sans Mono',consolas,'Courier New',monospace\"><span style=\"font-weight: bold\"> Total params: </span><span style=\"color: #00af00; text-decoration-color: #00af00\">2,563,651</span> (9.78 MB)\n",
              "</pre>\n"
            ]
          },
          "metadata": {}
        },
        {
          "output_type": "display_data",
          "data": {
            "text/plain": [
              "\u001b[1m Trainable params: \u001b[0m\u001b[38;5;34m20,227\u001b[0m (79.01 KB)\n"
            ],
            "text/html": [
              "<pre style=\"white-space:pre;overflow-x:auto;line-height:normal;font-family:Menlo,'DejaVu Sans Mono',consolas,'Courier New',monospace\"><span style=\"font-weight: bold\"> Trainable params: </span><span style=\"color: #00af00; text-decoration-color: #00af00\">20,227</span> (79.01 KB)\n",
              "</pre>\n"
            ]
          },
          "metadata": {}
        },
        {
          "output_type": "display_data",
          "data": {
            "text/plain": [
              "\u001b[1m Non-trainable params: \u001b[0m\u001b[38;5;34m2,543,424\u001b[0m (9.70 MB)\n"
            ],
            "text/html": [
              "<pre style=\"white-space:pre;overflow-x:auto;line-height:normal;font-family:Menlo,'DejaVu Sans Mono',consolas,'Courier New',monospace\"><span style=\"font-weight: bold\"> Non-trainable params: </span><span style=\"color: #00af00; text-decoration-color: #00af00\">2,543,424</span> (9.70 MB)\n",
              "</pre>\n"
            ]
          },
          "metadata": {}
        },
        {
          "output_type": "display_data",
          "data": {
            "text/plain": [
              "\u001b[1mModel: \"simple_cls_752\"\u001b[0m\n"
            ],
            "text/html": [
              "<pre style=\"white-space:pre;overflow-x:auto;line-height:normal;font-family:Menlo,'DejaVu Sans Mono',consolas,'Courier New',monospace\"><span style=\"font-weight: bold\">Model: \"simple_cls_752\"</span>\n",
              "</pre>\n"
            ]
          },
          "metadata": {}
        },
        {
          "output_type": "display_data",
          "data": {
            "text/plain": [
              "┏━━━━━━━━━━━━━━━━━━━━━━━━━━━━━━━━━┳━━━━━━━━━━━━━━━━━━━━━━━━┳━━━━━━━━━━━━━━━┓\n",
              "┃\u001b[1m \u001b[0m\u001b[1mLayer (type)                   \u001b[0m\u001b[1m \u001b[0m┃\u001b[1m \u001b[0m\u001b[1mOutput Shape          \u001b[0m\u001b[1m \u001b[0m┃\u001b[1m \u001b[0m\u001b[1m      Param #\u001b[0m\u001b[1m \u001b[0m┃\n",
              "┡━━━━━━━━━━━━━━━━━━━━━━━━━━━━━━━━━╇━━━━━━━━━━━━━━━━━━━━━━━━╇━━━━━━━━━━━━━━━┩\n",
              "│ text_input (\u001b[38;5;33mInputLayer\u001b[0m)         │ (\u001b[38;5;45mNone\u001b[0m, \u001b[38;5;34m50\u001b[0m)             │             \u001b[38;5;34m0\u001b[0m │\n",
              "├─────────────────────────────────┼────────────────────────┼───────────────┤\n",
              "│ emb (\u001b[38;5;33mEmbedding\u001b[0m)                 │ (\u001b[38;5;45mNone\u001b[0m, \u001b[38;5;34m50\u001b[0m, \u001b[38;5;34m752\u001b[0m)        │     \u001b[38;5;34m6,130,304\u001b[0m │\n",
              "├─────────────────────────────────┼────────────────────────┼───────────────┤\n",
              "│ avg_pool                        │ (\u001b[38;5;45mNone\u001b[0m, \u001b[38;5;34m752\u001b[0m)            │             \u001b[38;5;34m0\u001b[0m │\n",
              "│ (\u001b[38;5;33mGlobalAveragePooling1D\u001b[0m)        │                        │               │\n",
              "├─────────────────────────────────┼────────────────────────┼───────────────┤\n",
              "│ dense (\u001b[38;5;33mDense\u001b[0m)                   │ (\u001b[38;5;45mNone\u001b[0m, \u001b[38;5;34m64\u001b[0m)             │        \u001b[38;5;34m48,192\u001b[0m │\n",
              "├─────────────────────────────────┼────────────────────────┼───────────────┤\n",
              "│ dropout (\u001b[38;5;33mDropout\u001b[0m)               │ (\u001b[38;5;45mNone\u001b[0m, \u001b[38;5;34m64\u001b[0m)             │             \u001b[38;5;34m0\u001b[0m │\n",
              "├─────────────────────────────────┼────────────────────────┼───────────────┤\n",
              "│ out (\u001b[38;5;33mDense\u001b[0m)                     │ (\u001b[38;5;45mNone\u001b[0m, \u001b[38;5;34m3\u001b[0m)              │           \u001b[38;5;34m195\u001b[0m │\n",
              "└─────────────────────────────────┴────────────────────────┴───────────────┘\n"
            ],
            "text/html": [
              "<pre style=\"white-space:pre;overflow-x:auto;line-height:normal;font-family:Menlo,'DejaVu Sans Mono',consolas,'Courier New',monospace\">┏━━━━━━━━━━━━━━━━━━━━━━━━━━━━━━━━━┳━━━━━━━━━━━━━━━━━━━━━━━━┳━━━━━━━━━━━━━━━┓\n",
              "┃<span style=\"font-weight: bold\"> Layer (type)                    </span>┃<span style=\"font-weight: bold\"> Output Shape           </span>┃<span style=\"font-weight: bold\">       Param # </span>┃\n",
              "┡━━━━━━━━━━━━━━━━━━━━━━━━━━━━━━━━━╇━━━━━━━━━━━━━━━━━━━━━━━━╇━━━━━━━━━━━━━━━┩\n",
              "│ text_input (<span style=\"color: #0087ff; text-decoration-color: #0087ff\">InputLayer</span>)         │ (<span style=\"color: #00d7ff; text-decoration-color: #00d7ff\">None</span>, <span style=\"color: #00af00; text-decoration-color: #00af00\">50</span>)             │             <span style=\"color: #00af00; text-decoration-color: #00af00\">0</span> │\n",
              "├─────────────────────────────────┼────────────────────────┼───────────────┤\n",
              "│ emb (<span style=\"color: #0087ff; text-decoration-color: #0087ff\">Embedding</span>)                 │ (<span style=\"color: #00d7ff; text-decoration-color: #00d7ff\">None</span>, <span style=\"color: #00af00; text-decoration-color: #00af00\">50</span>, <span style=\"color: #00af00; text-decoration-color: #00af00\">752</span>)        │     <span style=\"color: #00af00; text-decoration-color: #00af00\">6,130,304</span> │\n",
              "├─────────────────────────────────┼────────────────────────┼───────────────┤\n",
              "│ avg_pool                        │ (<span style=\"color: #00d7ff; text-decoration-color: #00d7ff\">None</span>, <span style=\"color: #00af00; text-decoration-color: #00af00\">752</span>)            │             <span style=\"color: #00af00; text-decoration-color: #00af00\">0</span> │\n",
              "│ (<span style=\"color: #0087ff; text-decoration-color: #0087ff\">GlobalAveragePooling1D</span>)        │                        │               │\n",
              "├─────────────────────────────────┼────────────────────────┼───────────────┤\n",
              "│ dense (<span style=\"color: #0087ff; text-decoration-color: #0087ff\">Dense</span>)                   │ (<span style=\"color: #00d7ff; text-decoration-color: #00d7ff\">None</span>, <span style=\"color: #00af00; text-decoration-color: #00af00\">64</span>)             │        <span style=\"color: #00af00; text-decoration-color: #00af00\">48,192</span> │\n",
              "├─────────────────────────────────┼────────────────────────┼───────────────┤\n",
              "│ dropout (<span style=\"color: #0087ff; text-decoration-color: #0087ff\">Dropout</span>)               │ (<span style=\"color: #00d7ff; text-decoration-color: #00d7ff\">None</span>, <span style=\"color: #00af00; text-decoration-color: #00af00\">64</span>)             │             <span style=\"color: #00af00; text-decoration-color: #00af00\">0</span> │\n",
              "├─────────────────────────────────┼────────────────────────┼───────────────┤\n",
              "│ out (<span style=\"color: #0087ff; text-decoration-color: #0087ff\">Dense</span>)                     │ (<span style=\"color: #00d7ff; text-decoration-color: #00d7ff\">None</span>, <span style=\"color: #00af00; text-decoration-color: #00af00\">3</span>)              │           <span style=\"color: #00af00; text-decoration-color: #00af00\">195</span> │\n",
              "└─────────────────────────────────┴────────────────────────┴───────────────┘\n",
              "</pre>\n"
            ]
          },
          "metadata": {}
        },
        {
          "output_type": "display_data",
          "data": {
            "text/plain": [
              "\u001b[1m Total params: \u001b[0m\u001b[38;5;34m6,178,691\u001b[0m (23.57 MB)\n"
            ],
            "text/html": [
              "<pre style=\"white-space:pre;overflow-x:auto;line-height:normal;font-family:Menlo,'DejaVu Sans Mono',consolas,'Courier New',monospace\"><span style=\"font-weight: bold\"> Total params: </span><span style=\"color: #00af00; text-decoration-color: #00af00\">6,178,691</span> (23.57 MB)\n",
              "</pre>\n"
            ]
          },
          "metadata": {}
        },
        {
          "output_type": "display_data",
          "data": {
            "text/plain": [
              "\u001b[1m Trainable params: \u001b[0m\u001b[38;5;34m48,387\u001b[0m (189.01 KB)\n"
            ],
            "text/html": [
              "<pre style=\"white-space:pre;overflow-x:auto;line-height:normal;font-family:Menlo,'DejaVu Sans Mono',consolas,'Courier New',monospace\"><span style=\"font-weight: bold\"> Trainable params: </span><span style=\"color: #00af00; text-decoration-color: #00af00\">48,387</span> (189.01 KB)\n",
              "</pre>\n"
            ]
          },
          "metadata": {}
        },
        {
          "output_type": "display_data",
          "data": {
            "text/plain": [
              "\u001b[1m Non-trainable params: \u001b[0m\u001b[38;5;34m6,130,304\u001b[0m (23.39 MB)\n"
            ],
            "text/html": [
              "<pre style=\"white-space:pre;overflow-x:auto;line-height:normal;font-family:Menlo,'DejaVu Sans Mono',consolas,'Courier New',monospace\"><span style=\"font-weight: bold\"> Non-trainable params: </span><span style=\"color: #00af00; text-decoration-color: #00af00\">6,130,304</span> (23.39 MB)\n",
              "</pre>\n"
            ]
          },
          "metadata": {}
        }
      ]
    },
    {
      "cell_type": "markdown",
      "source": [
        "### Entrenamiento"
      ],
      "metadata": {
        "id": "8ZAu6DtgjRky"
      },
      "id": "8ZAu6DtgjRky"
    },
    {
      "cell_type": "code",
      "source": [
        "# Parámetros de entrenamiento\n",
        "EPOCHS     = 10\n",
        "BATCH_SIZE = 128\n",
        "VALID_SPLIT= 0.10\n",
        "\n",
        "# Diccionario con los dos modelos RNN a entrenar\n",
        "rnn_models = {\n",
        "    (2, 312): simple_w2_312,\n",
        "    (4, 752): simple_w4_752\n",
        "}\n",
        "\n",
        "# Contenedor para los historiales\n",
        "histories_rnn = {}\n",
        "\n",
        "for (w, ed), rnn_model in rnn_models.items():\n",
        "    print(f\"\\n>>> Entrenando RNN (ventana={w}, emb_dim={ed})\")\n",
        "\n",
        "    history = rnn_model.fit(\n",
        "        x=X_train_pad,\n",
        "        y=y_train,\n",
        "        validation_split=VALID_SPLIT,\n",
        "        epochs=EPOCHS,\n",
        "        batch_size=BATCH_SIZE,\n",
        "        verbose=1\n",
        "    )\n",
        "\n",
        "    histories_rnn[(w, ed)] = history\n",
        "\n",
        "# Comprobación de resultados de entrenamiento\n",
        "for key, hist in histories_rnn.items():\n",
        "    w, ed = key\n",
        "    train_acc = hist.history['accuracy'][-1]\n",
        "    val_acc   = hist.history['val_accuracy'][-1]\n",
        "    print(f\"Ventana={w}, emb_dim={ed} → Train acc: {train_acc:.3f}, Val acc: {val_acc:.3f}\")\n"
      ],
      "metadata": {
        "id": "1k1b5HhkjzXT",
        "outputId": "8ff52682-0170-4896-d408-e180f64ed30a",
        "colab": {
          "base_uri": "https://localhost:8080/"
        }
      },
      "id": "1k1b5HhkjzXT",
      "execution_count": 33,
      "outputs": [
        {
          "output_type": "stream",
          "name": "stdout",
          "text": [
            "\n",
            ">>> Entrenando RNN (ventana=2, emb_dim=312)\n",
            "Epoch 1/10\n",
            "\u001b[1m175/175\u001b[0m \u001b[32m━━━━━━━━━━━━━━━━━━━━\u001b[0m\u001b[37m\u001b[0m \u001b[1m1s\u001b[0m 3ms/step - accuracy: 0.5921 - loss: 0.8729 - val_accuracy: 0.5866 - val_loss: 0.8739\n",
            "Epoch 2/10\n",
            "\u001b[1m175/175\u001b[0m \u001b[32m━━━━━━━━━━━━━━━━━━━━\u001b[0m\u001b[37m\u001b[0m \u001b[1m1s\u001b[0m 3ms/step - accuracy: 0.5931 - loss: 0.8737 - val_accuracy: 0.5915 - val_loss: 0.8735\n",
            "Epoch 3/10\n",
            "\u001b[1m175/175\u001b[0m \u001b[32m━━━━━━━━━━━━━━━━━━━━\u001b[0m\u001b[37m\u001b[0m \u001b[1m0s\u001b[0m 3ms/step - accuracy: 0.6004 - loss: 0.8666 - val_accuracy: 0.5858 - val_loss: 0.8759\n",
            "Epoch 4/10\n",
            "\u001b[1m175/175\u001b[0m \u001b[32m━━━━━━━━━━━━━━━━━━━━\u001b[0m\u001b[37m\u001b[0m \u001b[1m1s\u001b[0m 3ms/step - accuracy: 0.5955 - loss: 0.8675 - val_accuracy: 0.5886 - val_loss: 0.8714\n",
            "Epoch 5/10\n",
            "\u001b[1m175/175\u001b[0m \u001b[32m━━━━━━━━━━━━━━━━━━━━\u001b[0m\u001b[37m\u001b[0m \u001b[1m0s\u001b[0m 3ms/step - accuracy: 0.5982 - loss: 0.8610 - val_accuracy: 0.5898 - val_loss: 0.8734\n",
            "Epoch 6/10\n",
            "\u001b[1m175/175\u001b[0m \u001b[32m━━━━━━━━━━━━━━━━━━━━\u001b[0m\u001b[37m\u001b[0m \u001b[1m1s\u001b[0m 3ms/step - accuracy: 0.6003 - loss: 0.8666 - val_accuracy: 0.5850 - val_loss: 0.8863\n",
            "Epoch 7/10\n",
            "\u001b[1m175/175\u001b[0m \u001b[32m━━━━━━━━━━━━━━━━━━━━\u001b[0m\u001b[37m\u001b[0m \u001b[1m0s\u001b[0m 3ms/step - accuracy: 0.5913 - loss: 0.8691 - val_accuracy: 0.5753 - val_loss: 0.8896\n",
            "Epoch 8/10\n",
            "\u001b[1m175/175\u001b[0m \u001b[32m━━━━━━━━━━━━━━━━━━━━\u001b[0m\u001b[37m\u001b[0m \u001b[1m1s\u001b[0m 3ms/step - accuracy: 0.5975 - loss: 0.8662 - val_accuracy: 0.5890 - val_loss: 0.8717\n",
            "Epoch 9/10\n",
            "\u001b[1m175/175\u001b[0m \u001b[32m━━━━━━━━━━━━━━━━━━━━\u001b[0m\u001b[37m\u001b[0m \u001b[1m1s\u001b[0m 3ms/step - accuracy: 0.5936 - loss: 0.8644 - val_accuracy: 0.5955 - val_loss: 0.8645\n",
            "Epoch 10/10\n",
            "\u001b[1m175/175\u001b[0m \u001b[32m━━━━━━━━━━━━━━━━━━━━\u001b[0m\u001b[37m\u001b[0m \u001b[1m1s\u001b[0m 3ms/step - accuracy: 0.5979 - loss: 0.8561 - val_accuracy: 0.5987 - val_loss: 0.8654\n",
            "\n",
            ">>> Entrenando RNN (ventana=4, emb_dim=752)\n",
            "Epoch 1/10\n",
            "\u001b[1m175/175\u001b[0m \u001b[32m━━━━━━━━━━━━━━━━━━━━\u001b[0m\u001b[37m\u001b[0m \u001b[1m1s\u001b[0m 4ms/step - accuracy: 0.6427 - loss: 0.7966 - val_accuracy: 0.6064 - val_loss: 0.8259\n",
            "Epoch 2/10\n",
            "\u001b[1m175/175\u001b[0m \u001b[32m━━━━━━━━━━━━━━━━━━━━\u001b[0m\u001b[37m\u001b[0m \u001b[1m1s\u001b[0m 4ms/step - accuracy: 0.6344 - loss: 0.8018 - val_accuracy: 0.6144 - val_loss: 0.8284\n",
            "Epoch 3/10\n",
            "\u001b[1m175/175\u001b[0m \u001b[32m━━━━━━━━━━━━━━━━━━━━\u001b[0m\u001b[37m\u001b[0m \u001b[1m1s\u001b[0m 4ms/step - accuracy: 0.6335 - loss: 0.8092 - val_accuracy: 0.6144 - val_loss: 0.8289\n",
            "Epoch 4/10\n",
            "\u001b[1m175/175\u001b[0m \u001b[32m━━━━━━━━━━━━━━━━━━━━\u001b[0m\u001b[37m\u001b[0m \u001b[1m1s\u001b[0m 3ms/step - accuracy: 0.6386 - loss: 0.7962 - val_accuracy: 0.6108 - val_loss: 0.8298\n",
            "Epoch 5/10\n",
            "\u001b[1m175/175\u001b[0m \u001b[32m━━━━━━━━━━━━━━━━━━━━\u001b[0m\u001b[37m\u001b[0m \u001b[1m0s\u001b[0m 3ms/step - accuracy: 0.6390 - loss: 0.8017 - val_accuracy: 0.6104 - val_loss: 0.8337\n",
            "Epoch 6/10\n",
            "\u001b[1m175/175\u001b[0m \u001b[32m━━━━━━━━━━━━━━━━━━━━\u001b[0m\u001b[37m\u001b[0m \u001b[1m0s\u001b[0m 3ms/step - accuracy: 0.6423 - loss: 0.7906 - val_accuracy: 0.6120 - val_loss: 0.8312\n",
            "Epoch 7/10\n",
            "\u001b[1m175/175\u001b[0m \u001b[32m━━━━━━━━━━━━━━━━━━━━\u001b[0m\u001b[37m\u001b[0m \u001b[1m1s\u001b[0m 3ms/step - accuracy: 0.6452 - loss: 0.7841 - val_accuracy: 0.6072 - val_loss: 0.8304\n",
            "Epoch 8/10\n",
            "\u001b[1m175/175\u001b[0m \u001b[32m━━━━━━━━━━━━━━━━━━━━\u001b[0m\u001b[37m\u001b[0m \u001b[1m1s\u001b[0m 3ms/step - accuracy: 0.6460 - loss: 0.7905 - val_accuracy: 0.6011 - val_loss: 0.8445\n",
            "Epoch 9/10\n",
            "\u001b[1m175/175\u001b[0m \u001b[32m━━━━━━━━━━━━━━━━━━━━\u001b[0m\u001b[37m\u001b[0m \u001b[1m1s\u001b[0m 3ms/step - accuracy: 0.6428 - loss: 0.7860 - val_accuracy: 0.6152 - val_loss: 0.8301\n",
            "Epoch 10/10\n",
            "\u001b[1m175/175\u001b[0m \u001b[32m━━━━━━━━━━━━━━━━━━━━\u001b[0m\u001b[37m\u001b[0m \u001b[1m1s\u001b[0m 3ms/step - accuracy: 0.6495 - loss: 0.7791 - val_accuracy: 0.6120 - val_loss: 0.8438\n",
            "Ventana=2, emb_dim=312 → Train acc: 0.601, Val acc: 0.599\n",
            "Ventana=4, emb_dim=752 → Train acc: 0.647, Val acc: 0.612\n"
          ]
        }
      ]
    },
    {
      "cell_type": "markdown",
      "source": [
        "### Evaluación y matriz de confusión"
      ],
      "metadata": {
        "id": "sT64RQDQkJSq"
      },
      "id": "sT64RQDQkJSq"
    },
    {
      "cell_type": "code",
      "source": [
        "import numpy as np\n",
        "from sklearn.metrics import confusion_matrix, classification_report\n",
        "\n",
        "# Asumimos definidos:\n",
        "#  - rnn_models: dict {(2,312): model_rnn_w2_312, (4,752): model_rnn_w4_752}\n",
        "#  - X_train_pad, X_test_pad, y_train, y_test\n",
        "#  - BATCH_SIZE\n",
        "\n",
        "label_names = ['negative', 'neutral', 'positive']\n",
        "\n",
        "for (w, ed), rnn_model in rnn_models.items():\n",
        "    print(f\"\\n=== Evaluación RNN (ventana={w}, emb_dim={ed}) ===\")\n",
        "\n",
        "    # 1) Predicciones sobre el conjunto de entrenamiento\n",
        "    y_pred_train_proba = rnn_model.predict(\n",
        "        X_train_pad, batch_size=BATCH_SIZE, verbose=0\n",
        "    )\n",
        "    y_pred_train = np.argmax(y_pred_train_proba, axis=1)\n",
        "\n",
        "    # 2) Matriz de confusión y reporte sobre train\n",
        "    cm_train = confusion_matrix(y_train, y_pred_train)\n",
        "    print(\"\\n-- Train set --\")\n",
        "    print(\"Confusion Matrix:\")\n",
        "    print(cm_train)\n",
        "    print(\"\\nClassification Report:\")\n",
        "    print(classification_report(\n",
        "        y_train, y_pred_train, target_names=label_names\n",
        "    ))\n",
        "\n",
        "    # 3) Predicciones sobre el conjunto de test\n",
        "    y_pred_test_proba = rnn_model.predict(\n",
        "        X_test_pad, batch_size=BATCH_SIZE, verbose=0\n",
        "    )\n",
        "    y_pred_test = np.argmax(y_pred_test_proba, axis=1)\n",
        "\n",
        "    # 4) Matriz de confusión y reporte sobre test\n",
        "    cm_test = confusion_matrix(y_test, y_pred_test)\n",
        "    print(\"-- Test set --\")\n",
        "    print(\"Confusion Matrix:\")\n",
        "    print(cm_test)\n",
        "    print(\"\\nClassification Report:\")\n",
        "    print(classification_report(\n",
        "        y_test, y_pred_test, target_names=label_names\n",
        "    ))\n"
      ],
      "metadata": {
        "id": "ByY6qeMukYoA",
        "outputId": "861d7bcb-bc15-4410-87d9-0a239454beec",
        "colab": {
          "base_uri": "https://localhost:8080/"
        }
      },
      "id": "ByY6qeMukYoA",
      "execution_count": 35,
      "outputs": [
        {
          "output_type": "stream",
          "name": "stdout",
          "text": [
            "\n",
            "=== Evaluación RNN (ventana=2, emb_dim=312) ===\n",
            "\n",
            "-- Train set --\n",
            "Confusion Matrix:\n",
            "[[3688 2874  464]\n",
            " [1649 7155 1233]\n",
            " [ 726 2678 4344]]\n",
            "\n",
            "Classification Report:\n",
            "              precision    recall  f1-score   support\n",
            "\n",
            "    negative       0.61      0.52      0.56      7026\n",
            "     neutral       0.56      0.71      0.63     10037\n",
            "    positive       0.72      0.56      0.63      7748\n",
            "\n",
            "    accuracy                           0.61     24811\n",
            "   macro avg       0.63      0.60      0.61     24811\n",
            "weighted avg       0.62      0.61      0.61     24811\n",
            "\n",
            "-- Test set --\n",
            "Confusion Matrix:\n",
            "[[ 845  777  134]\n",
            " [ 471 1719  320]\n",
            " [ 185  707 1045]]\n",
            "\n",
            "Classification Report:\n",
            "              precision    recall  f1-score   support\n",
            "\n",
            "    negative       0.56      0.48      0.52      1756\n",
            "     neutral       0.54      0.68      0.60      2510\n",
            "    positive       0.70      0.54      0.61      1937\n",
            "\n",
            "    accuracy                           0.58      6203\n",
            "   macro avg       0.60      0.57      0.58      6203\n",
            "weighted avg       0.59      0.58      0.58      6203\n",
            "\n",
            "\n",
            "=== Evaluación RNN (ventana=4, emb_dim=752) ===\n",
            "\n",
            "-- Train set --\n",
            "Confusion Matrix:\n",
            "[[3120 3091  815]\n",
            " [ 826 7409 1802]\n",
            " [ 277 1815 5656]]\n",
            "\n",
            "Classification Report:\n",
            "              precision    recall  f1-score   support\n",
            "\n",
            "    negative       0.74      0.44      0.55      7026\n",
            "     neutral       0.60      0.74      0.66     10037\n",
            "    positive       0.68      0.73      0.71      7748\n",
            "\n",
            "    accuracy                           0.65     24811\n",
            "   macro avg       0.67      0.64      0.64     24811\n",
            "weighted avg       0.67      0.65      0.65     24811\n",
            "\n",
            "-- Test set --\n",
            "Confusion Matrix:\n",
            "[[ 674  865  217]\n",
            " [ 243 1762  505]\n",
            " [  60  540 1337]]\n",
            "\n",
            "Classification Report:\n",
            "              precision    recall  f1-score   support\n",
            "\n",
            "    negative       0.69      0.38      0.49      1756\n",
            "     neutral       0.56      0.70      0.62      2510\n",
            "    positive       0.65      0.69      0.67      1937\n",
            "\n",
            "    accuracy                           0.61      6203\n",
            "   macro avg       0.63      0.59      0.59      6203\n",
            "weighted avg       0.62      0.61      0.60      6203\n",
            "\n"
          ]
        }
      ]
    },
    {
      "cell_type": "markdown",
      "source": [],
      "metadata": {
        "id": "JXXsyv3ElRZN"
      },
      "id": "JXXsyv3ElRZN"
    }
  ],
  "metadata": {
    "kernelspec": {
      "display_name": "Python 3",
      "name": "python3"
    },
    "language_info": {
      "codemirror_mode": {
        "name": "ipython",
        "version": 3
      },
      "file_extension": ".py",
      "mimetype": "text/x-python",
      "name": "python",
      "nbconvert_exporter": "python",
      "pygments_lexer": "ipython3",
      "version": "3.12.8"
    },
    "colab": {
      "provenance": [],
      "toc_visible": true,
      "gpuType": "T4"
    },
    "accelerator": "GPU"
  },
  "nbformat": 4,
  "nbformat_minor": 5
}