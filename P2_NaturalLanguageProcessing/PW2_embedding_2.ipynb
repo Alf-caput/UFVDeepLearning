{
  "cells": [
    {
      "cell_type": "markdown",
      "id": "5c968420",
      "metadata": {
        "id": "5c968420"
      },
      "source": [
        "# Practica 2 - Natural Language processing"
      ]
    },
    {
      "cell_type": "code",
      "source": [
        "import numpy as np\n",
        "\n",
        "import tensorflow as tf\n",
        "\n",
        "import pandas as pd\n",
        "from collections import Counter\n",
        "import re\n",
        "\n",
        "from tensorflow import keras\n",
        "\n",
        "\n",
        "import numpy as np\n",
        "import tensorflow as tf\n",
        "\n",
        "from tensorflow import keras\n",
        "from tensorflow.keras.utils import to_categorical\n",
        "\n",
        "from tensorflow.keras import Model, Input, layers\n",
        "from tensorflow.keras.layers import Embedding, Dot, Reshape, Dense\n",
        "\n",
        "from tensorflow.keras.preprocessing.text import Tokenizer\n",
        "from tensorflow.keras.preprocessing.sequence import skipgrams\n",
        "\n",
        "from keras.callbacks import TensorBoard\n",
        "\n",
        "import re\n",
        "from collections import Counter\n",
        "from tensorflow.keras.preprocessing.text import Tokenizer\n",
        "\n",
        "import numpy as np\n",
        "from tensorflow.keras.preprocessing.sequence import skipgrams"
      ],
      "metadata": {
        "id": "9sme3605sBSj"
      },
      "id": "9sme3605sBSj",
      "execution_count": 34,
      "outputs": []
    },
    {
      "cell_type": "code",
      "source": [
        "import gdown\n",
        "import os\n",
        "\n",
        "# Crear el directorio de datos si no existe\n",
        "data_dir = \"data\"\n",
        "if not os.path.exists(data_dir):\n",
        "    os.makedirs(data_dir)\n",
        "\n",
        "# URL de Google Drive en formato correcto para gdown\n",
        "url = \"https://drive.google.com/uc?id=1GXSUzaXDvrlcimgTwRR9tmDr6xr8gu49\"\n",
        "zip_filename = \"sentiment_analysis.zip\"\n",
        "zip_path = os.path.join(data_dir, zip_filename)\n",
        "\n",
        "# Descargar el archivo\n",
        "if not os.path.exists(zip_path):\n",
        "    gdown.download(url, zip_path, quiet=False)\n",
        "else:\n",
        "    print(\"Data zipfile already exists\")"
      ],
      "metadata": {
        "colab": {
          "base_uri": "https://localhost:8080/"
        },
        "id": "C3HonUdDiquT",
        "outputId": "564fa023-511f-4714-b62e-0b90ebe01e72"
      },
      "id": "C3HonUdDiquT",
      "execution_count": 9,
      "outputs": [
        {
          "output_type": "stream",
          "name": "stderr",
          "text": [
            "Downloading...\n",
            "From: https://drive.google.com/uc?id=1GXSUzaXDvrlcimgTwRR9tmDr6xr8gu49\n",
            "To: /content/data/sentiment_analysis.zip\n",
            "100%|██████████| 1.86M/1.86M [00:00<00:00, 185MB/s]\n"
          ]
        }
      ]
    },
    {
      "cell_type": "code",
      "source": [
        "import shutil\n",
        "from zipfile import ZipFile\n",
        "from concurrent.futures import ThreadPoolExecutor\n",
        "\n",
        "data_dir = \"data\"\n",
        "zip_filename = \"sentiment_analysis.zip\"\n",
        "zip_path = os.path.join(data_dir, zip_filename)\n",
        "files = [\"train.csv\", \"test.csv\"]\n",
        "full_paths = [os.path.join(data_dir, file) for file in files]\n",
        "\n",
        "if not all(os.path.isfile(path) for path in full_paths):\n",
        "    with ZipFile(zip_path, 'r') as zf:\n",
        "        with ThreadPoolExecutor() as exe:\n",
        "            for file in zf.namelist():\n",
        "                if not file.startswith(\"__MACOSX\"):\n",
        "                    exe.submit(zf.extract, file, path=data_dir)\n",
        "else:\n",
        "    print(\"test and train files already exist\")"
      ],
      "metadata": {
        "id": "fBNIbhvSmW-C"
      },
      "id": "fBNIbhvSmW-C",
      "execution_count": 10,
      "outputs": []
    },
    {
      "cell_type": "code",
      "execution_count": 35,
      "id": "61a5800b",
      "metadata": {
        "id": "61a5800b",
        "outputId": "51a73ad9-9de6-40c7-c99d-e31b1671abca",
        "colab": {
          "base_uri": "https://localhost:8080/",
          "height": 376
        }
      },
      "outputs": [
        {
          "output_type": "execute_result",
          "data": {
            "text/plain": [
              "                                                         text  \\\n",
              "textID                                                          \n",
              "cb774db0d1                I`d have responded, if I were going   \n",
              "549e992a42      Sooo SAD I will miss you here in San Diego!!!   \n",
              "088c60f138                          my boss is bullying me...   \n",
              "9642c003ef                     what interview! leave me alone   \n",
              "358bd9e861   Sons of ****, why couldn`t they put them on t...   \n",
              "\n",
              "                                  selected_text sentiment Time of Tweet  \\\n",
              "textID                                                                    \n",
              "cb774db0d1  I`d have responded, if I were going   neutral       morning   \n",
              "549e992a42                             Sooo SAD  negative          noon   \n",
              "088c60f138                          bullying me  negative         night   \n",
              "9642c003ef                       leave me alone  negative       morning   \n",
              "358bd9e861                        Sons of ****,  negative          noon   \n",
              "\n",
              "           Age of User      Country  Population -2020  Land Area (Km²)  \\\n",
              "textID                                                                   \n",
              "cb774db0d1        0-20  Afghanistan          38928346         652860.0   \n",
              "549e992a42       21-30      Albania           2877797          27400.0   \n",
              "088c60f138       31-45      Algeria          43851044        2381740.0   \n",
              "9642c003ef       46-60      Andorra             77265            470.0   \n",
              "358bd9e861       60-70       Angola          32866272        1246700.0   \n",
              "\n",
              "            Density (P/Km²)  \n",
              "textID                       \n",
              "cb774db0d1               60  \n",
              "549e992a42              105  \n",
              "088c60f138               18  \n",
              "9642c003ef              164  \n",
              "358bd9e861               26  "
            ],
            "text/html": [
              "\n",
              "  <div id=\"df-1632310b-6237-4f50-b750-68a57793852c\" class=\"colab-df-container\">\n",
              "    <div>\n",
              "<style scoped>\n",
              "    .dataframe tbody tr th:only-of-type {\n",
              "        vertical-align: middle;\n",
              "    }\n",
              "\n",
              "    .dataframe tbody tr th {\n",
              "        vertical-align: top;\n",
              "    }\n",
              "\n",
              "    .dataframe thead th {\n",
              "        text-align: right;\n",
              "    }\n",
              "</style>\n",
              "<table border=\"1\" class=\"dataframe\">\n",
              "  <thead>\n",
              "    <tr style=\"text-align: right;\">\n",
              "      <th></th>\n",
              "      <th>text</th>\n",
              "      <th>selected_text</th>\n",
              "      <th>sentiment</th>\n",
              "      <th>Time of Tweet</th>\n",
              "      <th>Age of User</th>\n",
              "      <th>Country</th>\n",
              "      <th>Population -2020</th>\n",
              "      <th>Land Area (Km²)</th>\n",
              "      <th>Density (P/Km²)</th>\n",
              "    </tr>\n",
              "    <tr>\n",
              "      <th>textID</th>\n",
              "      <th></th>\n",
              "      <th></th>\n",
              "      <th></th>\n",
              "      <th></th>\n",
              "      <th></th>\n",
              "      <th></th>\n",
              "      <th></th>\n",
              "      <th></th>\n",
              "      <th></th>\n",
              "    </tr>\n",
              "  </thead>\n",
              "  <tbody>\n",
              "    <tr>\n",
              "      <th>cb774db0d1</th>\n",
              "      <td>I`d have responded, if I were going</td>\n",
              "      <td>I`d have responded, if I were going</td>\n",
              "      <td>neutral</td>\n",
              "      <td>morning</td>\n",
              "      <td>0-20</td>\n",
              "      <td>Afghanistan</td>\n",
              "      <td>38928346</td>\n",
              "      <td>652860.0</td>\n",
              "      <td>60</td>\n",
              "    </tr>\n",
              "    <tr>\n",
              "      <th>549e992a42</th>\n",
              "      <td>Sooo SAD I will miss you here in San Diego!!!</td>\n",
              "      <td>Sooo SAD</td>\n",
              "      <td>negative</td>\n",
              "      <td>noon</td>\n",
              "      <td>21-30</td>\n",
              "      <td>Albania</td>\n",
              "      <td>2877797</td>\n",
              "      <td>27400.0</td>\n",
              "      <td>105</td>\n",
              "    </tr>\n",
              "    <tr>\n",
              "      <th>088c60f138</th>\n",
              "      <td>my boss is bullying me...</td>\n",
              "      <td>bullying me</td>\n",
              "      <td>negative</td>\n",
              "      <td>night</td>\n",
              "      <td>31-45</td>\n",
              "      <td>Algeria</td>\n",
              "      <td>43851044</td>\n",
              "      <td>2381740.0</td>\n",
              "      <td>18</td>\n",
              "    </tr>\n",
              "    <tr>\n",
              "      <th>9642c003ef</th>\n",
              "      <td>what interview! leave me alone</td>\n",
              "      <td>leave me alone</td>\n",
              "      <td>negative</td>\n",
              "      <td>morning</td>\n",
              "      <td>46-60</td>\n",
              "      <td>Andorra</td>\n",
              "      <td>77265</td>\n",
              "      <td>470.0</td>\n",
              "      <td>164</td>\n",
              "    </tr>\n",
              "    <tr>\n",
              "      <th>358bd9e861</th>\n",
              "      <td>Sons of ****, why couldn`t they put them on t...</td>\n",
              "      <td>Sons of ****,</td>\n",
              "      <td>negative</td>\n",
              "      <td>noon</td>\n",
              "      <td>60-70</td>\n",
              "      <td>Angola</td>\n",
              "      <td>32866272</td>\n",
              "      <td>1246700.0</td>\n",
              "      <td>26</td>\n",
              "    </tr>\n",
              "  </tbody>\n",
              "</table>\n",
              "</div>\n",
              "    <div class=\"colab-df-buttons\">\n",
              "\n",
              "  <div class=\"colab-df-container\">\n",
              "    <button class=\"colab-df-convert\" onclick=\"convertToInteractive('df-1632310b-6237-4f50-b750-68a57793852c')\"\n",
              "            title=\"Convert this dataframe to an interactive table.\"\n",
              "            style=\"display:none;\">\n",
              "\n",
              "  <svg xmlns=\"http://www.w3.org/2000/svg\" height=\"24px\" viewBox=\"0 -960 960 960\">\n",
              "    <path d=\"M120-120v-720h720v720H120Zm60-500h600v-160H180v160Zm220 220h160v-160H400v160Zm0 220h160v-160H400v160ZM180-400h160v-160H180v160Zm440 0h160v-160H620v160ZM180-180h160v-160H180v160Zm440 0h160v-160H620v160Z\"/>\n",
              "  </svg>\n",
              "    </button>\n",
              "\n",
              "  <style>\n",
              "    .colab-df-container {\n",
              "      display:flex;\n",
              "      gap: 12px;\n",
              "    }\n",
              "\n",
              "    .colab-df-convert {\n",
              "      background-color: #E8F0FE;\n",
              "      border: none;\n",
              "      border-radius: 50%;\n",
              "      cursor: pointer;\n",
              "      display: none;\n",
              "      fill: #1967D2;\n",
              "      height: 32px;\n",
              "      padding: 0 0 0 0;\n",
              "      width: 32px;\n",
              "    }\n",
              "\n",
              "    .colab-df-convert:hover {\n",
              "      background-color: #E2EBFA;\n",
              "      box-shadow: 0px 1px 2px rgba(60, 64, 67, 0.3), 0px 1px 3px 1px rgba(60, 64, 67, 0.15);\n",
              "      fill: #174EA6;\n",
              "    }\n",
              "\n",
              "    .colab-df-buttons div {\n",
              "      margin-bottom: 4px;\n",
              "    }\n",
              "\n",
              "    [theme=dark] .colab-df-convert {\n",
              "      background-color: #3B4455;\n",
              "      fill: #D2E3FC;\n",
              "    }\n",
              "\n",
              "    [theme=dark] .colab-df-convert:hover {\n",
              "      background-color: #434B5C;\n",
              "      box-shadow: 0px 1px 3px 1px rgba(0, 0, 0, 0.15);\n",
              "      filter: drop-shadow(0px 1px 2px rgba(0, 0, 0, 0.3));\n",
              "      fill: #FFFFFF;\n",
              "    }\n",
              "  </style>\n",
              "\n",
              "    <script>\n",
              "      const buttonEl =\n",
              "        document.querySelector('#df-1632310b-6237-4f50-b750-68a57793852c button.colab-df-convert');\n",
              "      buttonEl.style.display =\n",
              "        google.colab.kernel.accessAllowed ? 'block' : 'none';\n",
              "\n",
              "      async function convertToInteractive(key) {\n",
              "        const element = document.querySelector('#df-1632310b-6237-4f50-b750-68a57793852c');\n",
              "        const dataTable =\n",
              "          await google.colab.kernel.invokeFunction('convertToInteractive',\n",
              "                                                    [key], {});\n",
              "        if (!dataTable) return;\n",
              "\n",
              "        const docLinkHtml = 'Like what you see? Visit the ' +\n",
              "          '<a target=\"_blank\" href=https://colab.research.google.com/notebooks/data_table.ipynb>data table notebook</a>'\n",
              "          + ' to learn more about interactive tables.';\n",
              "        element.innerHTML = '';\n",
              "        dataTable['output_type'] = 'display_data';\n",
              "        await google.colab.output.renderOutput(dataTable, element);\n",
              "        const docLink = document.createElement('div');\n",
              "        docLink.innerHTML = docLinkHtml;\n",
              "        element.appendChild(docLink);\n",
              "      }\n",
              "    </script>\n",
              "  </div>\n",
              "\n",
              "\n",
              "    <div id=\"df-e67ea370-589c-41b0-9466-0965694961f1\">\n",
              "      <button class=\"colab-df-quickchart\" onclick=\"quickchart('df-e67ea370-589c-41b0-9466-0965694961f1')\"\n",
              "                title=\"Suggest charts\"\n",
              "                style=\"display:none;\">\n",
              "\n",
              "<svg xmlns=\"http://www.w3.org/2000/svg\" height=\"24px\"viewBox=\"0 0 24 24\"\n",
              "     width=\"24px\">\n",
              "    <g>\n",
              "        <path d=\"M19 3H5c-1.1 0-2 .9-2 2v14c0 1.1.9 2 2 2h14c1.1 0 2-.9 2-2V5c0-1.1-.9-2-2-2zM9 17H7v-7h2v7zm4 0h-2V7h2v10zm4 0h-2v-4h2v4z\"/>\n",
              "    </g>\n",
              "</svg>\n",
              "      </button>\n",
              "\n",
              "<style>\n",
              "  .colab-df-quickchart {\n",
              "      --bg-color: #E8F0FE;\n",
              "      --fill-color: #1967D2;\n",
              "      --hover-bg-color: #E2EBFA;\n",
              "      --hover-fill-color: #174EA6;\n",
              "      --disabled-fill-color: #AAA;\n",
              "      --disabled-bg-color: #DDD;\n",
              "  }\n",
              "\n",
              "  [theme=dark] .colab-df-quickchart {\n",
              "      --bg-color: #3B4455;\n",
              "      --fill-color: #D2E3FC;\n",
              "      --hover-bg-color: #434B5C;\n",
              "      --hover-fill-color: #FFFFFF;\n",
              "      --disabled-bg-color: #3B4455;\n",
              "      --disabled-fill-color: #666;\n",
              "  }\n",
              "\n",
              "  .colab-df-quickchart {\n",
              "    background-color: var(--bg-color);\n",
              "    border: none;\n",
              "    border-radius: 50%;\n",
              "    cursor: pointer;\n",
              "    display: none;\n",
              "    fill: var(--fill-color);\n",
              "    height: 32px;\n",
              "    padding: 0;\n",
              "    width: 32px;\n",
              "  }\n",
              "\n",
              "  .colab-df-quickchart:hover {\n",
              "    background-color: var(--hover-bg-color);\n",
              "    box-shadow: 0 1px 2px rgba(60, 64, 67, 0.3), 0 1px 3px 1px rgba(60, 64, 67, 0.15);\n",
              "    fill: var(--button-hover-fill-color);\n",
              "  }\n",
              "\n",
              "  .colab-df-quickchart-complete:disabled,\n",
              "  .colab-df-quickchart-complete:disabled:hover {\n",
              "    background-color: var(--disabled-bg-color);\n",
              "    fill: var(--disabled-fill-color);\n",
              "    box-shadow: none;\n",
              "  }\n",
              "\n",
              "  .colab-df-spinner {\n",
              "    border: 2px solid var(--fill-color);\n",
              "    border-color: transparent;\n",
              "    border-bottom-color: var(--fill-color);\n",
              "    animation:\n",
              "      spin 1s steps(1) infinite;\n",
              "  }\n",
              "\n",
              "  @keyframes spin {\n",
              "    0% {\n",
              "      border-color: transparent;\n",
              "      border-bottom-color: var(--fill-color);\n",
              "      border-left-color: var(--fill-color);\n",
              "    }\n",
              "    20% {\n",
              "      border-color: transparent;\n",
              "      border-left-color: var(--fill-color);\n",
              "      border-top-color: var(--fill-color);\n",
              "    }\n",
              "    30% {\n",
              "      border-color: transparent;\n",
              "      border-left-color: var(--fill-color);\n",
              "      border-top-color: var(--fill-color);\n",
              "      border-right-color: var(--fill-color);\n",
              "    }\n",
              "    40% {\n",
              "      border-color: transparent;\n",
              "      border-right-color: var(--fill-color);\n",
              "      border-top-color: var(--fill-color);\n",
              "    }\n",
              "    60% {\n",
              "      border-color: transparent;\n",
              "      border-right-color: var(--fill-color);\n",
              "    }\n",
              "    80% {\n",
              "      border-color: transparent;\n",
              "      border-right-color: var(--fill-color);\n",
              "      border-bottom-color: var(--fill-color);\n",
              "    }\n",
              "    90% {\n",
              "      border-color: transparent;\n",
              "      border-bottom-color: var(--fill-color);\n",
              "    }\n",
              "  }\n",
              "</style>\n",
              "\n",
              "      <script>\n",
              "        async function quickchart(key) {\n",
              "          const quickchartButtonEl =\n",
              "            document.querySelector('#' + key + ' button');\n",
              "          quickchartButtonEl.disabled = true;  // To prevent multiple clicks.\n",
              "          quickchartButtonEl.classList.add('colab-df-spinner');\n",
              "          try {\n",
              "            const charts = await google.colab.kernel.invokeFunction(\n",
              "                'suggestCharts', [key], {});\n",
              "          } catch (error) {\n",
              "            console.error('Error during call to suggestCharts:', error);\n",
              "          }\n",
              "          quickchartButtonEl.classList.remove('colab-df-spinner');\n",
              "          quickchartButtonEl.classList.add('colab-df-quickchart-complete');\n",
              "        }\n",
              "        (() => {\n",
              "          let quickchartButtonEl =\n",
              "            document.querySelector('#df-e67ea370-589c-41b0-9466-0965694961f1 button');\n",
              "          quickchartButtonEl.style.display =\n",
              "            google.colab.kernel.accessAllowed ? 'block' : 'none';\n",
              "        })();\n",
              "      </script>\n",
              "    </div>\n",
              "\n",
              "    </div>\n",
              "  </div>\n"
            ],
            "application/vnd.google.colaboratory.intrinsic+json": {
              "type": "dataframe",
              "variable_name": "train_df",
              "summary": "{\n  \"name\": \"train_df\",\n  \"rows\": 27481,\n  \"fields\": [\n    {\n      \"column\": \"textID\",\n      \"properties\": {\n        \"dtype\": \"string\",\n        \"num_unique_values\": 27481,\n        \"samples\": [\n          \"a7f72a928a\",\n          \"ef42dee96c\",\n          \"07d17131b1\"\n        ],\n        \"semantic_type\": \"\",\n        \"description\": \"\"\n      }\n    },\n    {\n      \"column\": \"text\",\n      \"properties\": {\n        \"dtype\": \"string\",\n        \"num_unique_values\": 27480,\n        \"samples\": [\n          \" Enjoy! Family trumps everything\",\n          \" --of them kinda turns me off of it all.  And then I buy more of them and dig a deeper hole, etc. ;;\",\n          \"Clive it`s my birthday pat me  http://apps.facebook.com/dogbook/profile/view/6386106\"\n        ],\n        \"semantic_type\": \"\",\n        \"description\": \"\"\n      }\n    },\n    {\n      \"column\": \"selected_text\",\n      \"properties\": {\n        \"dtype\": \"string\",\n        \"num_unique_values\": 22430,\n        \"samples\": [\n          \"that is why I drive a (teeny tiny) honda civic\",\n          \"Sorry...but, I bet they aren`t that bad...\",\n          \"yummy\"\n        ],\n        \"semantic_type\": \"\",\n        \"description\": \"\"\n      }\n    },\n    {\n      \"column\": \"sentiment\",\n      \"properties\": {\n        \"dtype\": \"category\",\n        \"num_unique_values\": 3,\n        \"samples\": [\n          \"neutral\",\n          \"negative\",\n          \"positive\"\n        ],\n        \"semantic_type\": \"\",\n        \"description\": \"\"\n      }\n    },\n    {\n      \"column\": \"Time of Tweet\",\n      \"properties\": {\n        \"dtype\": \"category\",\n        \"num_unique_values\": 3,\n        \"samples\": [\n          \"morning\",\n          \"noon\",\n          \"night\"\n        ],\n        \"semantic_type\": \"\",\n        \"description\": \"\"\n      }\n    },\n    {\n      \"column\": \"Age of User\",\n      \"properties\": {\n        \"dtype\": \"category\",\n        \"num_unique_values\": 6,\n        \"samples\": [\n          \"0-20\",\n          \"21-30\",\n          \"70-100\"\n        ],\n        \"semantic_type\": \"\",\n        \"description\": \"\"\n      }\n    },\n    {\n      \"column\": \"Country\",\n      \"properties\": {\n        \"dtype\": \"category\",\n        \"num_unique_values\": 195,\n        \"samples\": [\n          \"Philippines\",\n          \"Belgium\",\n          \"Sierra Leone\"\n        ],\n        \"semantic_type\": \"\",\n        \"description\": \"\"\n      }\n    },\n    {\n      \"column\": \"Population -2020\",\n      \"properties\": {\n        \"dtype\": \"number\",\n        \"std\": 150494590,\n        \"min\": 801,\n        \"max\": 1439323776,\n        \"num_unique_values\": 195,\n        \"samples\": [\n          109581078,\n          11589623,\n          7976983\n        ],\n        \"semantic_type\": \"\",\n        \"description\": \"\"\n      }\n    },\n    {\n      \"column\": \"Land Area (Km\\u00b2)\",\n      \"properties\": {\n        \"dtype\": \"number\",\n        \"std\": 1807424.6900064738,\n        \"min\": 0.0,\n        \"max\": 16376870.0,\n        \"num_unique_values\": 193,\n        \"samples\": [\n          2267050.0,\n          1280000.0,\n          100250.0\n        ],\n        \"semantic_type\": \"\",\n        \"description\": \"\"\n      }\n    },\n    {\n      \"column\": \"Density (P/Km\\u00b2)\",\n      \"properties\": {\n        \"dtype\": \"number\",\n        \"std\": 2013,\n        \"min\": 2,\n        \"max\": 26337,\n        \"num_unique_values\": 136,\n        \"samples\": [\n          400,\n          71,\n          331\n        ],\n        \"semantic_type\": \"\",\n        \"description\": \"\"\n      }\n    }\n  ]\n}"
            }
          },
          "metadata": {},
          "execution_count": 35
        }
      ],
      "source": [
        "import os\n",
        "import pandas as pd\n",
        "\n",
        "data_dir = \"data\"\n",
        "train_path = os.path.join(data_dir, \"train.csv\")\n",
        "test_path = os.path.join(data_dir, \"test.csv\")\n",
        "train_df = pd.read_csv(train_path, encoding='ISO-8859-1', index_col=\"textID\")\n",
        "test_df = pd.read_csv(test_path, encoding='ISO-8859-1', index_col=\"textID\")\n",
        "train_df.head()"
      ]
    },
    {
      "cell_type": "code",
      "source": [
        "from collections import Counter\n",
        "import re\n",
        "# 5. Juntar los DataFrames para facilitar el preprocesado\n",
        "data_df = pd.concat([train_df, test_df], ignore_index=True)      # concatenación[2]\n",
        "\n",
        "# 6. Inspeccionar estructura básica\n",
        "print(data_df.info())\n",
        "print(data_df.head())\n",
        "\n",
        "# 7. Contar palabras únicas en la columna 'text' para estimar VOCAB_SIZE\n",
        "all_text = ' '.join(data_df['text'].astype(str)).lower()\n",
        "words = re.findall(r'\\b\\w+\\b', all_text)\n",
        "word_counts = Counter(words)\n",
        "unique_words = len(word_counts)\n",
        "\n",
        "print(f\"Total de muestras: {data_df.shape[0]}\")\n",
        "print(f\"Palabras únicas encontradas: {unique_words}\")\n",
        "print(\"Top 10 palabras más frecuentes:\", word_counts.most_common(10))\n",
        "\n",
        "# 8. Definir parámetros para TensorFlow/Keras\n",
        "BUFFER_SIZE = 32768      # chivo mayor al dataset para buen shuffle 2^15\n",
        "BATCH_SIZE = 128        # potencia de 2 adecuada para GPU\n",
        "VOCAB_SIZE = 8192      # tamaño del vocabulario[4]\n",
        "\n",
        "print(\"BUFFER_SIZE =\", BUFFER_SIZE)\n",
        "print(\"BATCH_SIZE =\", BATCH_SIZE)\n",
        "print(\"VOCAB_SIZE =\", VOCAB_SIZE)"
      ],
      "metadata": {
        "colab": {
          "base_uri": "https://localhost:8080/"
        },
        "id": "xSgYT6rerm0Q",
        "outputId": "d0c55352-5555-40f4-c604-c3088330de08"
      },
      "id": "xSgYT6rerm0Q",
      "execution_count": 36,
      "outputs": [
        {
          "output_type": "stream",
          "name": "stdout",
          "text": [
            "<class 'pandas.core.frame.DataFrame'>\n",
            "RangeIndex: 32296 entries, 0 to 32295\n",
            "Data columns (total 9 columns):\n",
            " #   Column            Non-Null Count  Dtype  \n",
            "---  ------            --------------  -----  \n",
            " 0   text              31014 non-null  object \n",
            " 1   selected_text     27480 non-null  object \n",
            " 2   sentiment         31015 non-null  object \n",
            " 3   Time of Tweet     31015 non-null  object \n",
            " 4   Age of User       31015 non-null  object \n",
            " 5   Country           31015 non-null  object \n",
            " 6   Population -2020  31015 non-null  float64\n",
            " 7   Land Area (Km²)   31015 non-null  float64\n",
            " 8   Density (P/Km²)   31015 non-null  float64\n",
            "dtypes: float64(3), object(6)\n",
            "memory usage: 2.2+ MB\n",
            "None\n",
            "                                                text  \\\n",
            "0                I`d have responded, if I were going   \n",
            "1      Sooo SAD I will miss you here in San Diego!!!   \n",
            "2                          my boss is bullying me...   \n",
            "3                     what interview! leave me alone   \n",
            "4   Sons of ****, why couldn`t they put them on t...   \n",
            "\n",
            "                         selected_text sentiment Time of Tweet Age of User  \\\n",
            "0  I`d have responded, if I were going   neutral       morning        0-20   \n",
            "1                             Sooo SAD  negative          noon       21-30   \n",
            "2                          bullying me  negative         night       31-45   \n",
            "3                       leave me alone  negative       morning       46-60   \n",
            "4                        Sons of ****,  negative          noon       60-70   \n",
            "\n",
            "       Country  Population -2020  Land Area (Km²)  Density (P/Km²)  \n",
            "0  Afghanistan        38928346.0         652860.0             60.0  \n",
            "1      Albania         2877797.0          27400.0            105.0  \n",
            "2      Algeria        43851044.0        2381740.0             18.0  \n",
            "3      Andorra           77265.0            470.0            164.0  \n",
            "4       Angola        32866272.0        1246700.0             26.0  \n",
            "Total de muestras: 32296\n",
            "Palabras únicas encontradas: 28490\n",
            "Top 10 palabras más frecuentes: [('i', 18870), ('to', 11249), ('the', 10200), ('a', 7609), ('my', 6264), ('it', 6123), ('you', 6040), ('and', 5827), ('is', 4490), ('in', 4279)]\n",
            "BUFFER_SIZE = 32768\n",
            "BATCH_SIZE = 128\n",
            "VOCAB_SIZE = 8192\n"
          ]
        }
      ]
    },
    {
      "cell_type": "code",
      "source": [
        "from tensorflow.keras.preprocessing.text import Tokenizer\n",
        "# 1. Seleccionar las 4 096 palabras más frecuentes\n",
        "most_common_words = {w for w, _ in word_counts.most_common(VOCAB_SIZE)}\n",
        "\n",
        "# 2. Filtrar cada texto para quedarnos solo con tokens en el top 4 096\n",
        "corpus_filtered = []\n",
        "for text in data_df['text'].dropna().astype(str):\n",
        "    tokens = re.findall(r'\\b\\w+\\b', text.lower())\n",
        "    filtered_tokens = [t for t in tokens if t in most_common_words]\n",
        "    corpus_filtered.append(\" \".join(filtered_tokens))\n",
        "\n",
        "# 3. Tokenizar el corpus filtrado\n",
        "tokenizer = Tokenizer(num_words=VOCAB_SIZE)\n",
        "tokenizer.fit_on_texts(corpus_filtered)\n",
        "\n",
        "# 4. Convertir textos a secuencias de índices\n",
        "sequences = tokenizer.texts_to_sequences(corpus_filtered)\n",
        "\n",
        "# 5. Diccionarios de mapeo y tamaño final de vocabulario\n",
        "word2idx = tokenizer.word_index\n",
        "idx2word = {i: w for w, i in word2idx.items()}\n",
        "vocab_size = min(len(word2idx) + 1, VOCAB_SIZE)\n",
        "\n",
        "# 6. Mostrar resultados de prueba\n",
        "print(\"Primeros 5 textos filtrados:\", corpus_filtered[:5])\n",
        "print(\"Primeras 5 secuencias:\", sequences[:5])\n",
        "print(\"Tamaño de vocabulario efectivo:\", vocab_size)"
      ],
      "metadata": {
        "colab": {
          "base_uri": "https://localhost:8080/"
        },
        "id": "Q63m1bKJr8-G",
        "outputId": "09d1f7ae-e2a4-42a7-ec15-6f8b95c19f48"
      },
      "id": "Q63m1bKJr8-G",
      "execution_count": 37,
      "outputs": [
        {
          "output_type": "stream",
          "name": "stdout",
          "text": [
            "Primeros 5 textos filtrados: ['i d have responded if i were going', 'sooo sad i will miss you here in san diego', 'my boss is me', 'what interview leave me alone', 'sons of why couldn t they put them on the releases we already bought']\n",
            "Primeras 5 secuencias: [[1, 163, 19, 7648, 71, 1, 151, 49], [421, 117, 1, 63, 94, 7, 91, 10, 1447, 2230], [5, 1410, 9, 16], [51, 1193, 350, 16, 495], [4254, 13, 118, 472, 14, 72, 332, 131, 17, 3, 7649, 50, 210, 569]]\n",
            "Tamaño de vocabulario efectivo: 8152\n"
          ]
        }
      ]
    },
    {
      "cell_type": "code",
      "execution_count": 111,
      "id": "b8a6ad5f",
      "metadata": {
        "id": "b8a6ad5f",
        "outputId": "c642ba75-e33d-4374-966d-7188468d06e9",
        "colab": {
          "base_uri": "https://localhost:8080/"
        }
      },
      "outputs": [
        {
          "output_type": "execute_result",
          "data": {
            "text/plain": [
              "<tf.Tensor: shape=(31014, 37), dtype=int64, numpy=\n",
              "array([[   2,  164,   20, ...,    0,    0,    0],\n",
              "       [ 423,  118,    2, ...,    0,    0,    0],\n",
              "       [   6, 1444,   10, ...,    0,    0,    0],\n",
              "       ...,\n",
              "       [   2,   59,   52, ...,    0,    0,    0],\n",
              "       [  52,   10,   43, ...,    0,    0,    0],\n",
              "       [  42,  149,   60, ...,    0,    0,    0]])>"
            ]
          },
          "metadata": {},
          "execution_count": 111
        }
      ],
      "source": [
        "from tensorflow.keras.layers import TextVectorization\n",
        "\n",
        "vectorize_layer = TextVectorization(\n",
        "    output_mode='int',\n",
        "    standardize=\"lower_and_strip_punctuation\",\n",
        "    split=\"whitespace\",\n",
        ")\n",
        "\n",
        "# corpus = df_train[\"text\"].values\n",
        "\n",
        "vectorize_layer.adapt(corpus_filtered)\n",
        "\n",
        "vectorized_train = vectorize_layer(corpus_filtered)\n",
        "vectorized_train"
      ]
    },
    {
      "cell_type": "code",
      "execution_count": 112,
      "id": "29037a2f",
      "metadata": {
        "id": "29037a2f",
        "outputId": "3e5de390-1508-4e20-d7b5-da2afda6802f",
        "colab": {
          "base_uri": "https://localhost:8080/"
        }
      },
      "outputs": [
        {
          "output_type": "execute_result",
          "data": {
            "text/plain": [
              "['',\n",
              " '[UNK]',\n",
              " np.str_('i'),\n",
              " np.str_('to'),\n",
              " np.str_('the'),\n",
              " np.str_('a'),\n",
              " np.str_('my'),\n",
              " np.str_('it'),\n",
              " np.str_('you'),\n",
              " np.str_('and')]"
            ]
          },
          "metadata": {},
          "execution_count": 112
        }
      ],
      "source": [
        "vectorize_layer.get_vocabulary()[:10]"
      ]
    },
    {
      "cell_type": "code",
      "execution_count": 117,
      "id": "d968df56",
      "metadata": {
        "id": "d968df56",
        "outputId": "61e2dd2f-482f-4ad1-8b78-42f7fc63ac47",
        "colab": {
          "base_uri": "https://localhost:8080/"
        }
      },
      "outputs": [
        {
          "output_type": "stream",
          "name": "stdout",
          "text": [
            "TensorSpec(shape=(37,), dtype=tf.int64, name=None)\n"
          ]
        },
        {
          "output_type": "execute_result",
          "data": {
            "text/plain": [
              "array([   2,  164,   20, 7779,   72,    2,  152,   50,    0,    0,    0,\n",
              "          0,    0,    0,    0,    0,    0,    0,    0,    0,    0,    0,\n",
              "          0,    0,    0,    0,    0,    0,    0,    0,    0,    0,    0,\n",
              "          0,    0,    0,    0])"
            ]
          },
          "metadata": {},
          "execution_count": 117
        }
      ],
      "source": [
        "import tensorflow as tf\n",
        "train_ds = tf.data.Dataset.from_tensor_slices(vectorized_train)\n",
        "\n",
        "vocab_size = len(vectorize_layer.get_vocabulary())\n",
        "\n",
        "print(train_ds.element_spec)\n",
        "train_ds.as_numpy_iterator().next()"
      ]
    },
    {
      "cell_type": "code",
      "source": [
        "import tensorflow as tf\n",
        "\n",
        "def generate_skipgram_pairs(sequence, window_size):\n",
        "    seq_len = tf.shape(sequence)[0]\n",
        "    positions = tf.range(seq_len)\n",
        "\n",
        "    def extract_context(i):\n",
        "        start = tf.maximum(0, i - window_size)\n",
        "        end = tf.minimum(seq_len, i + window_size + 1)\n",
        "\n",
        "        # Exclude the center word itself\n",
        "        left = sequence[start:i]\n",
        "        right = sequence[i + 1:end]\n",
        "        context = tf.concat([left, right], axis=0)\n",
        "\n",
        "        target = sequence[i]\n",
        "        targets = tf.fill([tf.shape(context)[0]], target)\n",
        "\n",
        "        return tf.data.Dataset.from_tensor_slices((targets, context))\n",
        "\n",
        "    return tf.data.Dataset.from_tensor_slices(positions).flat_map(extract_context)\n"
      ],
      "metadata": {
        "id": "7qSO_m7tz5gp"
      },
      "id": "7qSO_m7tz5gp",
      "execution_count": 118,
      "outputs": []
    },
    {
      "cell_type": "code",
      "source": [
        "from functools import partial\n",
        "\n",
        "generate_pairs = partial(generate_skipgram_pairs, window_size=2)\n",
        "skipgram_ds = train_ds.flat_map(generate_pairs)\n",
        "\n",
        "skipgram_ds"
      ],
      "metadata": {
        "id": "KFJm6VKKz-Uo",
        "outputId": "7314dbcd-6a13-4f4d-d0ac-c36c37a7fedb",
        "colab": {
          "base_uri": "https://localhost:8080/"
        }
      },
      "id": "KFJm6VKKz-Uo",
      "execution_count": 119,
      "outputs": [
        {
          "output_type": "execute_result",
          "data": {
            "text/plain": [
              "<_FlatMapDataset element_spec=(TensorSpec(shape=(), dtype=tf.int64, name=None), TensorSpec(shape=(), dtype=tf.int64, name=None))>"
            ]
          },
          "metadata": {},
          "execution_count": 119
        }
      ]
    },
    {
      "cell_type": "code",
      "source": [
        "train_ds = (\n",
        "    train_ds\n",
        "    .map(\n",
        "        lambda x: ((tf.one_hot(x[0], depth=vocab_size), tf.one_hot(x[1], depth=vocab_size)), tf.constant(1.0)),\n",
        "        num_parallel_calls=tf.data.AUTOTUNE,\n",
        "    )\n",
        ")\n",
        "\n",
        "print(train_ds.element_spec)\n",
        "next(train_ds.as_numpy_iterator())"
      ],
      "metadata": {
        "colab": {
          "base_uri": "https://localhost:8080/"
        },
        "id": "4uYbFkAoQxZf",
        "outputId": "65d28731-8f35-475c-b413-a45836866234"
      },
      "id": "4uYbFkAoQxZf",
      "execution_count": 120,
      "outputs": [
        {
          "output_type": "stream",
          "name": "stdout",
          "text": [
            "((TensorSpec(shape=(8157,), dtype=tf.float32, name=None), TensorSpec(shape=(8157,), dtype=tf.float32, name=None)), TensorSpec(shape=(), dtype=tf.float32, name=None))\n"
          ]
        },
        {
          "output_type": "execute_result",
          "data": {
            "text/plain": [
              "((array([0., 0., 1., ..., 0., 0., 0.], dtype=float32),\n",
              "  array([0., 0., 0., ..., 0., 0., 0.], dtype=float32)),\n",
              " np.float32(1.0))"
            ]
          },
          "metadata": {},
          "execution_count": 120
        }
      ]
    },
    {
      "cell_type": "code",
      "source": [
        "tf.data.experimental.cardinality(train_ds).numpy()"
      ],
      "metadata": {
        "colab": {
          "base_uri": "https://localhost:8080/"
        },
        "id": "0-HgQnFc9Y4L",
        "outputId": "35d4a004-61bf-4666-8146-0c3fb9193514"
      },
      "id": "0-HgQnFc9Y4L",
      "execution_count": 123,
      "outputs": [
        {
          "output_type": "execute_result",
          "data": {
            "text/plain": [
              "np.int64(31014)"
            ]
          },
          "metadata": {},
          "execution_count": 123
        }
      ]
    },
    {
      "cell_type": "code",
      "execution_count": 122,
      "id": "b2f34036",
      "metadata": {
        "id": "b2f34036",
        "colab": {
          "base_uri": "https://localhost:8080/"
        },
        "outputId": "6ee75c95-e805-4532-f751-3e83ced16a3d"
      },
      "outputs": [
        {
          "output_type": "stream",
          "name": "stdout",
          "text": [
            "Epoch 1/5\n",
            "\u001b[1m243/243\u001b[0m \u001b[32m━━━━━━━━━━━━━━━━━━━━\u001b[0m\u001b[37m\u001b[0m \u001b[1m6s\u001b[0m 21ms/step - loss: 0.6577\n",
            "Epoch 2/5\n",
            "\u001b[1m243/243\u001b[0m \u001b[32m━━━━━━━━━━━━━━━━━━━━\u001b[0m\u001b[37m\u001b[0m \u001b[1m5s\u001b[0m 22ms/step - loss: 0.3212\n",
            "Epoch 3/5\n",
            "\u001b[1m243/243\u001b[0m \u001b[32m━━━━━━━━━━━━━━━━━━━━\u001b[0m\u001b[37m\u001b[0m \u001b[1m5s\u001b[0m 22ms/step - loss: 0.1664\n",
            "Epoch 4/5\n",
            "\u001b[1m243/243\u001b[0m \u001b[32m━━━━━━━━━━━━━━━━━━━━\u001b[0m\u001b[37m\u001b[0m \u001b[1m5s\u001b[0m 20ms/step - loss: 0.1053\n",
            "Epoch 5/5\n",
            "\u001b[1m243/243\u001b[0m \u001b[32m━━━━━━━━━━━━━━━━━━━━\u001b[0m\u001b[37m\u001b[0m \u001b[1m5s\u001b[0m 21ms/step - loss: 0.0723\n",
            "Epoch 1/5\n",
            "\u001b[1m243/243\u001b[0m \u001b[32m━━━━━━━━━━━━━━━━━━━━\u001b[0m\u001b[37m\u001b[0m \u001b[1m30s\u001b[0m 124ms/step - loss: 0.5870\n",
            "Epoch 2/5\n",
            "\u001b[1m243/243\u001b[0m \u001b[32m━━━━━━━━━━━━━━━━━━━━\u001b[0m\u001b[37m\u001b[0m \u001b[1m29s\u001b[0m 121ms/step - loss: 0.1609\n",
            "Epoch 3/5\n",
            "\u001b[1m243/243\u001b[0m \u001b[32m━━━━━━━━━━━━━━━━━━━━\u001b[0m\u001b[37m\u001b[0m \u001b[1m29s\u001b[0m 121ms/step - loss: 0.0669\n",
            "Epoch 4/5\n",
            "\u001b[1m243/243\u001b[0m \u001b[32m━━━━━━━━━━━━━━━━━━━━\u001b[0m\u001b[37m\u001b[0m \u001b[1m29s\u001b[0m 121ms/step - loss: 0.0338\n",
            "Epoch 5/5\n",
            "\u001b[1m243/243\u001b[0m \u001b[32m━━━━━━━━━━━━━━━━━━━━\u001b[0m\u001b[37m\u001b[0m \u001b[1m29s\u001b[0m 121ms/step - loss: 0.0191\n",
            "Epoch 1/5\n",
            "\u001b[1m243/243\u001b[0m \u001b[32m━━━━━━━━━━━━━━━━━━━━\u001b[0m\u001b[37m\u001b[0m \u001b[1m68s\u001b[0m 280ms/step - loss: 0.5400\n",
            "Epoch 2/5\n",
            "\u001b[1m243/243\u001b[0m \u001b[32m━━━━━━━━━━━━━━━━━━━━\u001b[0m\u001b[37m\u001b[0m \u001b[1m68s\u001b[0m 280ms/step - loss: 0.1121\n",
            "Epoch 3/5\n",
            "\u001b[1m243/243\u001b[0m \u001b[32m━━━━━━━━━━━━━━━━━━━━\u001b[0m\u001b[37m\u001b[0m \u001b[1m66s\u001b[0m 274ms/step - loss: 0.0383\n",
            "Epoch 4/5\n",
            "\u001b[1m243/243\u001b[0m \u001b[32m━━━━━━━━━━━━━━━━━━━━\u001b[0m\u001b[37m\u001b[0m \u001b[1m68s\u001b[0m 279ms/step - loss: 0.0167\n",
            "Epoch 5/5\n",
            "\u001b[1m243/243\u001b[0m \u001b[32m━━━━━━━━━━━━━━━━━━━━\u001b[0m\u001b[37m\u001b[0m \u001b[1m67s\u001b[0m 277ms/step - loss: 0.0084\n",
            "Epoch 1/5\n",
            "\u001b[1m243/243\u001b[0m \u001b[32m━━━━━━━━━━━━━━━━━━━━\u001b[0m\u001b[37m\u001b[0m \u001b[1m6s\u001b[0m 21ms/step - loss: 0.6590\n",
            "Epoch 2/5\n",
            "\u001b[1m243/243\u001b[0m \u001b[32m━━━━━━━━━━━━━━━━━━━━\u001b[0m\u001b[37m\u001b[0m \u001b[1m5s\u001b[0m 21ms/step - loss: 0.3298\n",
            "Epoch 3/5\n",
            "\u001b[1m243/243\u001b[0m \u001b[32m━━━━━━━━━━━━━━━━━━━━\u001b[0m\u001b[37m\u001b[0m \u001b[1m5s\u001b[0m 20ms/step - loss: 0.1714\n",
            "Epoch 4/5\n",
            "\u001b[1m243/243\u001b[0m \u001b[32m━━━━━━━━━━━━━━━━━━━━\u001b[0m\u001b[37m\u001b[0m \u001b[1m5s\u001b[0m 20ms/step - loss: 0.1084\n",
            "Epoch 5/5\n",
            "\u001b[1m243/243\u001b[0m \u001b[32m━━━━━━━━━━━━━━━━━━━━\u001b[0m\u001b[37m\u001b[0m \u001b[1m5s\u001b[0m 20ms/step - loss: 0.0745\n",
            "Epoch 1/5\n",
            "\u001b[1m243/243\u001b[0m \u001b[32m━━━━━━━━━━━━━━━━━━━━\u001b[0m\u001b[37m\u001b[0m \u001b[1m30s\u001b[0m 122ms/step - loss: 0.5887\n",
            "Epoch 2/5\n",
            "\u001b[1m243/243\u001b[0m \u001b[32m━━━━━━━━━━━━━━━━━━━━\u001b[0m\u001b[37m\u001b[0m \u001b[1m30s\u001b[0m 122ms/step - loss: 0.1625\n",
            "Epoch 3/5\n",
            "\u001b[1m243/243\u001b[0m \u001b[32m━━━━━━━━━━━━━━━━━━━━\u001b[0m\u001b[37m\u001b[0m \u001b[1m29s\u001b[0m 120ms/step - loss: 0.0674\n",
            "Epoch 4/5\n",
            "\u001b[1m243/243\u001b[0m \u001b[32m━━━━━━━━━━━━━━━━━━━━\u001b[0m\u001b[37m\u001b[0m \u001b[1m29s\u001b[0m 121ms/step - loss: 0.0342\n",
            "Epoch 5/5\n",
            "\u001b[1m243/243\u001b[0m \u001b[32m━━━━━━━━━━━━━━━━━━━━\u001b[0m\u001b[37m\u001b[0m \u001b[1m29s\u001b[0m 121ms/step - loss: 0.0192\n",
            "Epoch 1/5\n",
            "\u001b[1m243/243\u001b[0m \u001b[32m━━━━━━━━━━━━━━━━━━━━\u001b[0m\u001b[37m\u001b[0m \u001b[1m68s\u001b[0m 279ms/step - loss: 0.5420\n",
            "Epoch 2/5\n",
            "\u001b[1m243/243\u001b[0m \u001b[32m━━━━━━━━━━━━━━━━━━━━\u001b[0m\u001b[37m\u001b[0m \u001b[1m67s\u001b[0m 277ms/step - loss: 0.1136\n",
            "Epoch 3/5\n",
            "\u001b[1m243/243\u001b[0m \u001b[32m━━━━━━━━━━━━━━━━━━━━\u001b[0m\u001b[37m\u001b[0m \u001b[1m68s\u001b[0m 281ms/step - loss: 0.0388\n",
            "Epoch 4/5\n",
            "\u001b[1m243/243\u001b[0m \u001b[32m━━━━━━━━━━━━━━━━━━━━\u001b[0m\u001b[37m\u001b[0m \u001b[1m68s\u001b[0m 281ms/step - loss: 0.0169\n",
            "Epoch 5/5\n",
            "\u001b[1m243/243\u001b[0m \u001b[32m━━━━━━━━━━━━━━━━━━━━\u001b[0m\u001b[37m\u001b[0m \u001b[1m69s\u001b[0m 283ms/step - loss: 0.0085\n"
          ]
        },
        {
          "output_type": "execute_result",
          "data": {
            "text/plain": [
              "[(2, 45), (2, 312), (2, 752), (4, 45), (4, 312), (4, 752)]"
            ]
          },
          "metadata": {},
          "execution_count": 122
        }
      ],
      "source": [
        "import tensorflow as tf\n",
        "from tensorflow.keras import Input, Model\n",
        "from tensorflow.keras.layers import Dense, Dot, Activation\n",
        "\n",
        "embedding_dims = [45, 312, 752]\n",
        "window_sizes   = [2, 4]\n",
        "histories      = {}\n",
        "for w in window_sizes:\n",
        "    for ed in embedding_dims:\n",
        "        # One-hot inputs (shape = (vocab_size,))\n",
        "        input_target = Input(shape=(vocab_size,))\n",
        "        input_context = Input(shape=(vocab_size,))\n",
        "\n",
        "        # Shared embedding layer simulated with Dense layer\n",
        "        embedding_layer = Dense(ed, use_bias=False)\n",
        "\n",
        "        target_embedding = embedding_layer(input_target)   # shape: (embedding_dim,)\n",
        "        context_embedding = embedding_layer(input_context) # same\n",
        "\n",
        "        # Dot product of embeddings\n",
        "        dot_product = Dot(axes=-1)([target_embedding, context_embedding])\n",
        "\n",
        "        # Sigmoid output for skipgram-style binary prediction\n",
        "        output = Activation('sigmoid')(dot_product)\n",
        "\n",
        "        model = Model(inputs=[input_target, input_context], outputs=output)\n",
        "        model.compile(optimizer='adam', loss='binary_crossentropy')\n",
        "\n",
        "        history = model.fit(train_ds.batch(128).prefetch(tf.data.AUTOTUNE), epochs=5)\n",
        "\n",
        "        histories[(w, ed)] = history\n",
        "\n",
        "list(histories.keys())"
      ]
    },
    {
      "cell_type": "code",
      "source": [
        "embeddings = embedding_layer.get_weights()[0]\n",
        "\n",
        "print(embeddings.shape)"
      ],
      "metadata": {
        "id": "Ibi-GFZhbPrc",
        "outputId": "5d2934a9-6dcf-4169-91bc-cd019f28b3b2",
        "colab": {
          "base_uri": "https://localhost:8080/"
        }
      },
      "id": "Ibi-GFZhbPrc",
      "execution_count": 46,
      "outputs": [
        {
          "output_type": "stream",
          "name": "stdout",
          "text": [
            "(8157, 128)\n"
          ]
        }
      ]
    },
    {
      "cell_type": "code",
      "source": [
        "# prompt: given vectorize_layer how to obtain the index for the word \"what\"\n",
        "\n",
        "import numpy as np\n",
        "\n",
        "# Get the vocabulary from the vectorize_layer\n",
        "vocabulary = vectorize_layer.get_vocabulary()\n",
        "\n",
        "# Find the index of the word \"what\"\n",
        "try:\n",
        "    what_index = vocabulary.index(\"what\")\n",
        "    print(f\"The index of 'what' in the vocabulary is: {what_index}\")\n",
        "except ValueError:\n",
        "    print(\"'what' is not found in the vocabulary.\")\n"
      ],
      "metadata": {
        "id": "9eKQn7NKbd5J",
        "outputId": "32d192b5-81cc-4bc0-8647-c7aeb0d5e58b",
        "colab": {
          "base_uri": "https://localhost:8080/"
        }
      },
      "id": "9eKQn7NKbd5J",
      "execution_count": 47,
      "outputs": [
        {
          "output_type": "stream",
          "name": "stdout",
          "text": [
            "The index of 'what' in the vocabulary is: 52\n"
          ]
        }
      ]
    },
    {
      "cell_type": "code",
      "source": [
        "embeddings[what_index].shape"
      ],
      "metadata": {
        "id": "uDOf3fuJb0zr",
        "outputId": "b60a33b2-acb7-4bed-df91-d31d371f2a76",
        "colab": {
          "base_uri": "https://localhost:8080/"
        }
      },
      "id": "uDOf3fuJb0zr",
      "execution_count": 48,
      "outputs": [
        {
          "output_type": "execute_result",
          "data": {
            "text/plain": [
              "(128,)"
            ]
          },
          "metadata": {},
          "execution_count": 48
        }
      ]
    },
    {
      "cell_type": "code",
      "source": [
        "print(train_ds.element_spec)\n",
        "next(train_ds.as_numpy_iterator())"
      ],
      "metadata": {
        "id": "G80B_OCWPSYX",
        "outputId": "fe0345dc-ed6c-4830-e4de-7f535afbad75",
        "colab": {
          "base_uri": "https://localhost:8080/"
        }
      },
      "id": "G80B_OCWPSYX",
      "execution_count": 49,
      "outputs": [
        {
          "output_type": "stream",
          "name": "stdout",
          "text": [
            "((TensorSpec(shape=(8157,), dtype=tf.float32, name=None), TensorSpec(shape=(8157,), dtype=tf.float32, name=None)), TensorSpec(shape=(), dtype=tf.float32, name=None))\n"
          ]
        },
        {
          "output_type": "execute_result",
          "data": {
            "text/plain": [
              "((array([0., 0., 1., ..., 0., 0., 0.], dtype=float32),\n",
              "  array([0., 0., 0., ..., 0., 0., 0.], dtype=float32)),\n",
              " np.float32(1.0))"
            ]
          },
          "metadata": {},
          "execution_count": 49
        }
      ]
    },
    {
      "cell_type": "code",
      "source": [
        "classifier_train_ds = tf.data.Dataset.from_tensor_slices((vectorized_train, df_train[\"sentiment\"].values))\n",
        "\n",
        "print(classifier_train_ds.element_spec)\n",
        "next(classifier_train_ds.as_numpy_iterator())"
      ],
      "metadata": {
        "id": "HS-tFMUvPYBb",
        "outputId": "ccdd09c4-ab95-41b5-d741-5620701a813d",
        "colab": {
          "base_uri": "https://localhost:8080/"
        }
      },
      "id": "HS-tFMUvPYBb",
      "execution_count": null,
      "outputs": [
        {
          "output_type": "stream",
          "name": "stdout",
          "text": [
            "(TensorSpec(shape=(33,), dtype=tf.int64, name=None), TensorSpec(shape=(), dtype=tf.string, name=None))\n"
          ]
        },
        {
          "output_type": "execute_result",
          "data": {
            "text/plain": [
              "(array([  293,    17, 15185,    69,     2,   120,    47,     0,     0,\n",
              "            0,     0,     0,     0,     0,     0,     0,     0,     0,\n",
              "            0,     0,     0,     0,     0,     0,     0,     0,     0,\n",
              "            0,     0,     0,     0,     0,     0]),\n",
              " b'neutral')"
            ]
          },
          "metadata": {},
          "execution_count": 40
        }
      ]
    },
    {
      "cell_type": "code",
      "source": [
        "embedding_layer = tf.keras.layers.Embedding(\n",
        "    input_dim=embeddings.shape[0],\n",
        "    output_dim=embeddings.shape[1],\n",
        "    weights=[embeddings],\n",
        "    trainable=False\n",
        ")\n",
        "\n",
        "def embed_and_flatten(indices, label):\n",
        "    embedded = embedding_layer(indices)        # shape: (seq_len, embed_dim)\n",
        "    flat = tf.reshape(embedded, [-1])          # shape: (seq_len * embed_dim,)\n",
        "    return flat, label"
      ],
      "metadata": {
        "id": "8kin8-5YRikR"
      },
      "id": "8kin8-5YRikR",
      "execution_count": null,
      "outputs": []
    },
    {
      "cell_type": "code",
      "source": [
        "classifier_train_ds = classifier_train_ds.map(embed_and_flatten)\n",
        "print(classifier_train_ds.element_spec)\n",
        "next(classifier_train_ds.as_numpy_iterator())"
      ],
      "metadata": {
        "id": "fQulJta9Qf4m",
        "outputId": "45e3f88f-36ec-459d-db4d-7994e18b27b0",
        "colab": {
          "base_uri": "https://localhost:8080/"
        }
      },
      "id": "fQulJta9Qf4m",
      "execution_count": null,
      "outputs": [
        {
          "output_type": "stream",
          "name": "stdout",
          "text": [
            "(TensorSpec(shape=(4224,), dtype=tf.float32, name=None), TensorSpec(shape=(), dtype=tf.string, name=None))\n"
          ]
        },
        {
          "output_type": "execute_result",
          "data": {
            "text/plain": [
              "(array([-0.17132318, -0.15126888, -0.17530611, ...,  0.4272256 ,\n",
              "        -0.41871053, -0.40135565], dtype=float32),\n",
              " b'neutral')"
            ]
          },
          "metadata": {},
          "execution_count": 42
        }
      ]
    },
    {
      "cell_type": "code",
      "source": [
        "# Define a lookup table to convert string → integer\n",
        "label_lookup = tf.keras.layers.StringLookup(\n",
        "    vocabulary=df_train[\"sentiment\"].unique().tolist(),\n",
        "    num_oov_indices=0,\n",
        ")\n",
        "\n",
        "# Optional: one-hot encode\n",
        "num_classes = label_lookup.vocabulary_size()\n",
        "\n",
        "classifier_train_ds = classifier_train_ds.map(lambda x, y: (x, tf.one_hot(label_lookup(y), depth=num_classes)))\n",
        "\n",
        "print(classifier_train_ds.element_spec)\n",
        "next(classifier_train_ds.as_numpy_iterator())"
      ],
      "metadata": {
        "id": "VC1oGoZeYIKe",
        "outputId": "5e75026e-f419-4367-8f46-aae31c8ac786",
        "colab": {
          "base_uri": "https://localhost:8080/"
        }
      },
      "id": "VC1oGoZeYIKe",
      "execution_count": null,
      "outputs": [
        {
          "output_type": "stream",
          "name": "stdout",
          "text": [
            "(TensorSpec(shape=(4224,), dtype=tf.float32, name=None), TensorSpec(shape=(3,), dtype=tf.float32, name=None))\n"
          ]
        },
        {
          "output_type": "execute_result",
          "data": {
            "text/plain": [
              "(array([-0.17132318, -0.15126888, -0.17530611, ...,  0.4272256 ,\n",
              "        -0.41871053, -0.40135565], dtype=float32),\n",
              " array([1., 0., 0.], dtype=float32))"
            ]
          },
          "metadata": {},
          "execution_count": 43
        }
      ]
    },
    {
      "cell_type": "code",
      "source": [
        "classifier_train_ds = classifier_train_ds.batch(128)"
      ],
      "metadata": {
        "id": "-f4ljpZPUwEC"
      },
      "id": "-f4ljpZPUwEC",
      "execution_count": null,
      "outputs": []
    },
    {
      "cell_type": "code",
      "source": [
        "import tensorflow as tf\n",
        "\n",
        "model = tf.keras.Sequential([\n",
        "    tf.keras.layers.Dense(32, activation='relu'),\n",
        "    tf.keras.layers.Dense(3, activation='softmax')  # 3-class classification\n",
        "])\n",
        "\n",
        "model.compile(optimizer='adam', loss='binary_crossentropy', metrics=['accuracy'])\n",
        "\n",
        "model.fit(classifier_train_ds, epochs=3)\n"
      ],
      "metadata": {
        "id": "uQ2vXFPkUGM0",
        "outputId": "9cc79eee-6daf-40cc-cf71-630e554f5f24",
        "colab": {
          "base_uri": "https://localhost:8080/"
        }
      },
      "id": "uQ2vXFPkUGM0",
      "execution_count": null,
      "outputs": [
        {
          "output_type": "stream",
          "name": "stdout",
          "text": [
            "Epoch 1/3\n",
            "\u001b[1m215/215\u001b[0m \u001b[32m━━━━━━━━━━━━━━━━━━━━\u001b[0m\u001b[37m\u001b[0m \u001b[1m3s\u001b[0m 9ms/step - accuracy: 0.3925 - loss: 0.6410\n",
            "Epoch 2/3\n",
            "\u001b[1m215/215\u001b[0m \u001b[32m━━━━━━━━━━━━━━━━━━━━\u001b[0m\u001b[37m\u001b[0m \u001b[1m2s\u001b[0m 8ms/step - accuracy: 0.4302 - loss: 0.6215\n",
            "Epoch 3/3\n",
            "\u001b[1m215/215\u001b[0m \u001b[32m━━━━━━━━━━━━━━━━━━━━\u001b[0m\u001b[37m\u001b[0m \u001b[1m2s\u001b[0m 8ms/step - accuracy: 0.4364 - loss: 0.6138\n"
          ]
        },
        {
          "output_type": "execute_result",
          "data": {
            "text/plain": [
              "<keras.src.callbacks.history.History at 0x7fb6dc72b1d0>"
            ]
          },
          "metadata": {},
          "execution_count": 45
        }
      ]
    }
  ],
  "metadata": {
    "kernelspec": {
      "display_name": "Python 3",
      "name": "python3"
    },
    "language_info": {
      "codemirror_mode": {
        "name": "ipython",
        "version": 3
      },
      "file_extension": ".py",
      "mimetype": "text/x-python",
      "name": "python",
      "nbconvert_exporter": "python",
      "pygments_lexer": "ipython3",
      "version": "3.10.12"
    },
    "colab": {
      "provenance": [],
      "gpuType": "V28"
    },
    "accelerator": "TPU"
  },
  "nbformat": 4,
  "nbformat_minor": 5
}